{
 "cells": [
  {
   "cell_type": "markdown",
   "metadata": {},
   "source": [
    "## This script reads CESM2 Discharge data downloaded from Casper in NCAR (Fig S1)"
   ]
  },
  {
   "cell_type": "markdown",
   "metadata": {},
   "source": [
    "## Import Libraries"
   ]
  },
  {
   "cell_type": "code",
   "execution_count": 1,
   "metadata": {},
   "outputs": [],
   "source": [
    "import numpy as np\n",
    "import pandas as pd\n",
    "\n",
    "import xarray as xr\n",
    "import seaborn as sns\n",
    "import warnings\n",
    "from matplotlib import pyplot as plt \n"
   ]
  },
  {
   "cell_type": "markdown",
   "metadata": {},
   "source": [
    "## for USGS"
   ]
  },
  {
   "cell_type": "code",
   "execution_count": 2,
   "metadata": {},
   "outputs": [],
   "source": [
    "from dataretrieval import nwis\n",
    "from IPython.display import display"
   ]
  },
  {
   "cell_type": "markdown",
   "metadata": {},
   "source": [
    "## Read Lat, Lon data for the selected Domain processed from \"GLADE\" in Casper"
   ]
  },
  {
   "cell_type": "markdown",
   "metadata": {},
   "source": [
    "### Lat"
   ]
  },
  {
   "cell_type": "code",
   "execution_count": 3,
   "metadata": {},
   "outputs": [
    {
     "name": "stdout",
     "output_type": "stream",
     "text": [
      "(60,)\n",
      "[24.75 25.25 25.75 26.25 26.75 27.25 27.75 28.25 28.75 29.25 29.75 30.25\n",
      " 30.75 31.25 31.75 32.25 32.75 33.25 33.75 34.25 34.75 35.25 35.75 36.25\n",
      " 36.75 37.25 37.75 38.25 38.75 39.25 39.75 40.25 40.75 41.25 41.75 42.25\n",
      " 42.75 43.25 43.75 44.25 44.75 45.25 45.75 46.25 46.75 47.25 47.75 48.25\n",
      " 48.75 49.25 49.75 50.25 50.75 51.25 51.75 52.25 52.75 53.25 53.75 54.25]\n"
     ]
    }
   ],
   "source": [
    "file_LatUs = 'C:/rezaul/1.academic/1.research/2.project/mrb/dt/cesm/cesm2LE/param/discharge/mon/latsUsArr.npy'\n",
    "#file_LatUs = 'https://github.com/rezaulg/CESM2-projection-Mississippi-discharge/blob/main/latsUsArr.npy'\n",
    "\n",
    "lats_US = np.load(file_LatUs)\n",
    "print(lats_US.shape)\n",
    "print(lats_US)"
   ]
  },
  {
   "cell_type": "markdown",
   "metadata": {},
   "source": [
    "### Lon"
   ]
  },
  {
   "cell_type": "code",
   "execution_count": 4,
   "metadata": {},
   "outputs": [
    {
     "name": "stdout",
     "output_type": "stream",
     "text": [
      "(140,)\n",
      "[-130.25 -129.75 -129.25 -128.75 -128.25 -127.75 -127.25 -126.75 -126.25\n",
      " -125.75 -125.25 -124.75 -124.25 -123.75 -123.25 -122.75 -122.25 -121.75\n",
      " -121.25 -120.75 -120.25 -119.75 -119.25 -118.75 -118.25 -117.75 -117.25\n",
      " -116.75 -116.25 -115.75 -115.25 -114.75 -114.25 -113.75 -113.25 -112.75\n",
      " -112.25 -111.75 -111.25 -110.75 -110.25 -109.75 -109.25 -108.75 -108.25\n",
      " -107.75 -107.25 -106.75 -106.25 -105.75 -105.25 -104.75 -104.25 -103.75\n",
      " -103.25 -102.75 -102.25 -101.75 -101.25 -100.75 -100.25  -99.75  -99.25\n",
      "  -98.75  -98.25  -97.75  -97.25  -96.75  -96.25  -95.75  -95.25  -94.75\n",
      "  -94.25  -93.75  -93.25  -92.75  -92.25  -91.75  -91.25  -90.75  -90.25\n",
      "  -89.75  -89.25  -88.75  -88.25  -87.75  -87.25  -86.75  -86.25  -85.75\n",
      "  -85.25  -84.75  -84.25  -83.75  -83.25  -82.75  -82.25  -81.75  -81.25\n",
      "  -80.75  -80.25  -79.75  -79.25  -78.75  -78.25  -77.75  -77.25  -76.75\n",
      "  -76.25  -75.75  -75.25  -74.75  -74.25  -73.75  -73.25  -72.75  -72.25\n",
      "  -71.75  -71.25  -70.75  -70.25  -69.75  -69.25  -68.75  -68.25  -67.75\n",
      "  -67.25  -66.75  -66.25  -65.75  -65.25  -64.75  -64.25  -63.75  -63.25\n",
      "  -62.75  -62.25  -61.75  -61.25  -60.75]\n"
     ]
    }
   ],
   "source": [
    "file_LonUs = 'C:/rezaul/1.academic/1.research/2.project/mrb/dt/cesm/cesm2LE/param/discharge/mon/lonsUsArr.npy'\n",
    "lons_US = np.load(file_LonUs)\n",
    "print(lons_US.shape)\n",
    "print(lons_US)"
   ]
  },
  {
   "cell_type": "markdown",
   "metadata": {},
   "source": [
    "## Using Monthly Data (Historical + Scen) for the US domain prepared from \"GLADE\" "
   ]
  },
  {
   "cell_type": "code",
   "execution_count": 5,
   "metadata": {},
   "outputs": [
    {
     "name": "stdout",
     "output_type": "stream",
     "text": [
      "(1020, 60, 140)\n"
     ]
    },
    {
     "data": {
      "text/plain": [
       "1.0000000000000002e+36"
      ]
     },
     "execution_count": 5,
     "metadata": {},
     "output_type": "execute_result"
    }
   ],
   "source": [
    "file_histSel_Us_ensMean = 'C:/rezaul/1.academic/1.research/2.project/mrb/dt/cesm/cesm2LE/param/discharge/mon/monDischUsHistSelEnsMean.npy'\n",
    "file_histSel_Us_ensMean_loaded = np.load(file_histSel_Us_ensMean)\n",
    "print(file_histSel_Us_ensMean_loaded.shape)\n",
    "maxVal = np.nanmax(file_histSel_Us_ensMean_loaded)\n",
    "maxVal"
   ]
  },
  {
   "cell_type": "code",
   "execution_count": 6,
   "metadata": {},
   "outputs": [
    {
     "name": "stdout",
     "output_type": "stream",
     "text": [
      "(1032, 60, 140)\n"
     ]
    },
    {
     "data": {
      "text/plain": [
       "1.0000000000000002e+36"
      ]
     },
     "execution_count": 6,
     "metadata": {},
     "output_type": "execute_result"
    }
   ],
   "source": [
    "file_scen_Us_ensMean = 'C:/rezaul/1.academic/1.research/2.project/mrb/dt/cesm/cesm2LE/param/discharge/mon/monDischUsScenEnsMean.npy'\n",
    "file_scen_Us_ensMean_loaded = np.load(file_scen_Us_ensMean)\n",
    "print(file_scen_Us_ensMean_loaded.shape)\n",
    "maxVal = np.nanmax(file_scen_Us_ensMean_loaded)\n",
    "maxVal"
   ]
  },
  {
   "cell_type": "markdown",
   "metadata": {},
   "source": [
    "## Concatenate the historical and scenario data arrays"
   ]
  },
  {
   "cell_type": "code",
   "execution_count": 7,
   "metadata": {},
   "outputs": [
    {
     "name": "stdout",
     "output_type": "stream",
     "text": [
      "(2052, 60, 140)\n"
     ]
    }
   ],
   "source": [
    "disch_histSel_scen_Us_ensMean = np.concatenate((file_histSel_Us_ensMean_loaded, file_scen_Us_ensMean_loaded), axis=0)\n",
    "print(disch_histSel_scen_Us_ensMean.shape)"
   ]
  },
  {
   "cell_type": "markdown",
   "metadata": {},
   "source": [
    "## The four time (1971-2000, 2015-2044, 2045-2074, and 2075-2100) slots"
   ]
  },
  {
   "cell_type": "code",
   "execution_count": 8,
   "metadata": {},
   "outputs": [],
   "source": [
    "histYrSelSt = 1930\n",
    "\n",
    "refPeriodYrSt = 1971\n",
    "refPeriodYrEnd = 2000\n",
    "\n",
    "scenYrSt = 2015\n",
    "scenEraTwoYrSt = 2045\n",
    "scenEraThreeYrSt = 2075\n",
    "\n",
    "scenYrEnd = 2100"
   ]
  },
  {
   "cell_type": "code",
   "execution_count": 9,
   "metadata": {},
   "outputs": [
    {
     "name": "stdout",
     "output_type": "stream",
     "text": [
      "171\n",
      "12\n"
     ]
    }
   ],
   "source": [
    "nYrsHistSelScen = scenYrEnd - histYrSelSt + 1\n",
    "print(nYrsHistSelScen)\n",
    "\n",
    "nMonsPerYr = 12     \n",
    "print(nMonsPerYr)"
   ]
  },
  {
   "cell_type": "markdown",
   "metadata": {},
   "source": [
    "### Coordinates at the outlet of the basins"
   ]
  },
  {
   "cell_type": "code",
   "execution_count": 10,
   "metadata": {},
   "outputs": [],
   "source": [
    "# Missouri at Hermann\n",
    "latTrgt_MissouriHermann = 38.71\n",
    "lonTrgt_MissouriHermann = -91.44\n",
    "\n",
    "# Arkansas at Murray Dam near Little Rock\n",
    "latTrgt_ArkansasMurrayLittleRock = 34.79\n",
    "lonTrgt_ArkansasMurrayLittleRock = -92.36\n",
    "\n",
    "# Ohio at Olmsted\n",
    "latTrgt_OhioOlmsted = 37.18\n",
    "lonTrgt_OhioOlmsted = -89.06\n",
    "\n",
    "# Mississippi at Vicksburg\n",
    "latTrgt_MissiVicks = 32.32\n",
    "lonTrgt_MissiVicks = -90.91\n"
   ]
  },
  {
   "cell_type": "code",
   "execution_count": 11,
   "metadata": {},
   "outputs": [
    {
     "name": "stdout",
     "output_type": "stream",
     "text": [
      "28 78\n",
      "20 76\n",
      "25 82\n",
      "15 79\n"
     ]
    }
   ],
   "source": [
    "# Missouri at Hermann\n",
    "latTrgtIndex_MissouriHermann = np.argmin( np.abs(lats_US - latTrgt_MissouriHermann))\n",
    "lonTrgtIndex_MissouriHermann = np.argmin( np.abs(lons_US - lonTrgt_MissouriHermann))\n",
    "print(latTrgtIndex_MissouriHermann, lonTrgtIndex_MissouriHermann)\n",
    "\n",
    "# Arkansas at Murray Dam near Little Rock\n",
    "latTrgtIndex_ArkansasMurrayLittleRock = np.argmin( np.abs(lats_US - latTrgt_ArkansasMurrayLittleRock))\n",
    "lonTrgtIndex_ArkansasMurrayLittleRock = np.argmin( np.abs(lons_US - lonTrgt_ArkansasMurrayLittleRock))\n",
    "print(latTrgtIndex_ArkansasMurrayLittleRock, lonTrgtIndex_ArkansasMurrayLittleRock)\n",
    "\n",
    "# Ohio at Olmsted\n",
    "latTrgtIndex_OhioOlmsted = np.argmin( np.abs(lats_US - latTrgt_OhioOlmsted))\n",
    "lonTrgtIndex_OhioOlmsted = np.argmin( np.abs(lons_US - lonTrgt_OhioOlmsted))\n",
    "print(latTrgtIndex_OhioOlmsted, lonTrgtIndex_OhioOlmsted)\n",
    "\n",
    "# Mississippi at Vicksburg\n",
    "latTrgtIndex_MissiVicks = np.argmin( np.abs(lats_US - latTrgt_MissiVicks))\n",
    "lonTrgtIndex_MissiVicks = np.argmin( np.abs(lons_US - lonTrgt_MissiVicks))\n",
    "print(latTrgtIndex_MissiVicks, lonTrgtIndex_MissiVicks)\n"
   ]
  },
  {
   "cell_type": "code",
   "execution_count": 12,
   "metadata": {},
   "outputs": [
    {
     "name": "stdout",
     "output_type": "stream",
     "text": [
      "(2052, 60, 140)\n"
     ]
    }
   ],
   "source": [
    "print(disch_histSel_scen_Us_ensMean.shape)"
   ]
  },
  {
   "cell_type": "markdown",
   "metadata": {},
   "source": [
    "## Extracting discharge values at different outlet points"
   ]
  },
  {
   "cell_type": "markdown",
   "metadata": {},
   "source": [
    "### Missouri at Hermann"
   ]
  },
  {
   "cell_type": "code",
   "execution_count": 13,
   "metadata": {},
   "outputs": [
    {
     "name": "stdout",
     "output_type": "stream",
     "text": [
      "(2052,)\n",
      "(171, 12)\n"
     ]
    }
   ],
   "source": [
    "disch_histSel_scen_ensMean_MissouriHermann = disch_histSel_scen_Us_ensMean[:, latTrgtIndex_MissouriHermann, lonTrgtIndex_MissouriHermann]\n",
    "print(disch_histSel_scen_ensMean_MissouriHermann.shape)\n",
    "\n",
    "#disch_histSel_scen_ensMean_MissouriHermann = np.nanmean(disch_histSel_scen_ensMems_MissouriHermann, axis =1)\n",
    "#print(disch_histSel_scen_ensMean_MissouriHermann.shape)\n",
    "\n",
    "disch_histSel_scen_ensMean_Yr_MissouriHermann = np.reshape(disch_histSel_scen_ensMean_MissouriHermann,(nYrsHistSelScen, nMonsPerYr))\n",
    "print(disch_histSel_scen_ensMean_Yr_MissouriHermann.shape)\n"
   ]
  },
  {
   "cell_type": "markdown",
   "metadata": {},
   "source": [
    "### Arkansas at Murray Dam near Little Rock"
   ]
  },
  {
   "cell_type": "code",
   "execution_count": 14,
   "metadata": {},
   "outputs": [
    {
     "name": "stdout",
     "output_type": "stream",
     "text": [
      "(2052,)\n",
      "(171, 12)\n"
     ]
    }
   ],
   "source": [
    "disch_histSel_scen_ensMean_ArkansasMurrayLittleRock = disch_histSel_scen_Us_ensMean[:, latTrgtIndex_ArkansasMurrayLittleRock, lonTrgtIndex_ArkansasMurrayLittleRock]\n",
    "print(disch_histSel_scen_ensMean_ArkansasMurrayLittleRock.shape)\n",
    "\n",
    "disch_histSel_scen_ensMean_Yr_ArkansasMurrayLittleRock = np.reshape(disch_histSel_scen_ensMean_ArkansasMurrayLittleRock,(nYrsHistSelScen, nMonsPerYr))\n",
    "print(disch_histSel_scen_ensMean_Yr_ArkansasMurrayLittleRock.shape)"
   ]
  },
  {
   "cell_type": "markdown",
   "metadata": {},
   "source": [
    "### Ohio River at Olmsted"
   ]
  },
  {
   "cell_type": "code",
   "execution_count": 15,
   "metadata": {},
   "outputs": [
    {
     "name": "stdout",
     "output_type": "stream",
     "text": [
      "(2052,)\n",
      "(171, 12)\n"
     ]
    }
   ],
   "source": [
    "disch_histSel_scen_ensMean_OhioOlmsted = disch_histSel_scen_Us_ensMean[:, latTrgtIndex_OhioOlmsted, lonTrgtIndex_OhioOlmsted]\n",
    "print(disch_histSel_scen_ensMean_OhioOlmsted.shape)\n",
    "\n",
    "disch_histSel_scen_ensMean_Yr_OhioOlmsted = np.reshape(disch_histSel_scen_ensMean_OhioOlmsted,(nYrsHistSelScen, nMonsPerYr))\n",
    "print(disch_histSel_scen_ensMean_Yr_OhioOlmsted.shape)"
   ]
  },
  {
   "cell_type": "markdown",
   "metadata": {},
   "source": [
    "### Mississippi at Vicksburg"
   ]
  },
  {
   "cell_type": "code",
   "execution_count": 16,
   "metadata": {},
   "outputs": [
    {
     "name": "stdout",
     "output_type": "stream",
     "text": [
      "(2052,)\n",
      "(171, 12)\n"
     ]
    }
   ],
   "source": [
    "disch_histSel_scen_ensMean_MissiVicks = disch_histSel_scen_Us_ensMean[:, latTrgtIndex_MissiVicks, lonTrgtIndex_MissiVicks]\n",
    "print(disch_histSel_scen_ensMean_MissiVicks.shape)\n",
    "\n",
    "disch_histSel_scen_ensMean_Yr_MissiVicks=np.reshape(disch_histSel_scen_ensMean_MissiVicks,(nYrsHistSelScen, nMonsPerYr))\n",
    "print(disch_histSel_scen_ensMean_Yr_MissiVicks.shape)"
   ]
  },
  {
   "cell_type": "markdown",
   "metadata": {},
   "source": [
    "## Retrieve USGS data for different stations"
   ]
  },
  {
   "cell_type": "code",
   "execution_count": 17,
   "metadata": {},
   "outputs": [],
   "source": [
    "parameterCode = \"00060\" # Discharge"
   ]
  },
  {
   "cell_type": "markdown",
   "metadata": {},
   "source": [
    "## Arkansas at Murray Dam near Little Rock"
   ]
  },
  {
   "cell_type": "code",
   "execution_count": 18,
   "metadata": {},
   "outputs": [
    {
     "name": "stdout",
     "output_type": "stream",
     "text": [
      "6\n",
      "Retrieved 2099 data values.\n",
      "(2099, 7)\n",
      "(2099,)\n",
      "(2099,)\n",
      "[  0.      396.3778  239.52545 387.884   342.58368 339.7524  336.92114\n",
      " 135.90097 486.97845 258.77808 197.62265 229.89914 736.13025 430.35306\n",
      " 300.11462 107.87139 855.0436  906.0065  787.0931  973.9569  877.6937\n",
      " 673.8423  608.7231  611.5543  939.9817  942.8129  937.1504  985.282\n",
      " 922.9941  738.9615  676.6736 ]\n"
     ]
    }
   ],
   "source": [
    "\n",
    "usgsGage_ArkansasMurrayLittleRock = '07263450'   # Arkansas at Murray Dam near Little Rock\n",
    "startDate_ArkansasMurrayLittleRock = \"2017-1-1\"\n",
    "endDate_ArkansasMurrayLittleRock = \"2022-9-30\"\n",
    "yrGageSt_ArkansasMurrayLittleRock =  2017\n",
    "yrGageEnd_ArkansasMurrayLittleRock = 2022\n",
    "nYrsGage_ArkansasMurrayLittleRock = yrGageEnd_ArkansasMurrayLittleRock - yrGageSt_ArkansasMurrayLittleRock + 1\n",
    "print(nYrsGage_ArkansasMurrayLittleRock)\n",
    "\n",
    "# Retrieve the data\n",
    "flowDaily_toRetrieve_ArkansasMurrayLittleRock = nwis.get_dv(sites= usgsGage_ArkansasMurrayLittleRock, parameterCd= parameterCode, start= startDate_ArkansasMurrayLittleRock, end= endDate_ArkansasMurrayLittleRock) \n",
    "print(\"Retrieved \" + str(len(flowDaily_toRetrieve_ArkansasMurrayLittleRock[0])) + \" data values.\")\n",
    "\n",
    "flowDaily_ArkansasMurrayLittleRock = flowDaily_toRetrieve_ArkansasMurrayLittleRock[0].to_numpy()\n",
    "print(flowDaily_ArkansasMurrayLittleRock.shape)\n",
    "\n",
    "flowDaily_cumec_ArkansasMurrayLittleRock = (flowDaily_ArkansasMurrayLittleRock[:, 0])/(3.281**3)\n",
    "print(flowDaily_cumec_ArkansasMurrayLittleRock.shape)\n",
    "\n",
    "flowDaily_cumec_float_ArkansasMurrayLittleRock = pd.to_numeric(flowDaily_cumec_ArkansasMurrayLittleRock, downcast=\"float\")\n",
    "print(flowDaily_cumec_float_ArkansasMurrayLittleRock.shape)\n",
    "print(flowDaily_cumec_float_ArkansasMurrayLittleRock[0:31])\n"
   ]
  },
  {
   "cell_type": "code",
   "execution_count": 19,
   "metadata": {},
   "outputs": [
    {
     "name": "stdout",
     "output_type": "stream",
     "text": [
      "2099\n",
      "0\n"
     ]
    },
    {
     "data": {
      "text/html": [
       "<div>\n",
       "<style scoped>\n",
       "    .dataframe tbody tr th:only-of-type {\n",
       "        vertical-align: middle;\n",
       "    }\n",
       "\n",
       "    .dataframe tbody tr th {\n",
       "        vertical-align: top;\n",
       "    }\n",
       "\n",
       "    .dataframe thead th {\n",
       "        text-align: right;\n",
       "    }\n",
       "</style>\n",
       "<table border=\"1\" class=\"dataframe\">\n",
       "  <thead>\n",
       "    <tr style=\"text-align: right;\">\n",
       "      <th></th>\n",
       "      <th>Day_step</th>\n",
       "      <th>Date</th>\n",
       "      <th>Discharge</th>\n",
       "    </tr>\n",
       "  </thead>\n",
       "  <tbody>\n",
       "    <tr>\n",
       "      <th>0</th>\n",
       "      <td>0</td>\n",
       "      <td>2017-01-01</td>\n",
       "      <td>0.000000</td>\n",
       "    </tr>\n",
       "    <tr>\n",
       "      <th>1</th>\n",
       "      <td>1</td>\n",
       "      <td>2017-01-02</td>\n",
       "      <td>396.377808</td>\n",
       "    </tr>\n",
       "    <tr>\n",
       "      <th>2</th>\n",
       "      <td>2</td>\n",
       "      <td>2017-01-03</td>\n",
       "      <td>239.525452</td>\n",
       "    </tr>\n",
       "    <tr>\n",
       "      <th>3</th>\n",
       "      <td>3</td>\n",
       "      <td>2017-01-04</td>\n",
       "      <td>387.884003</td>\n",
       "    </tr>\n",
       "    <tr>\n",
       "      <th>4</th>\n",
       "      <td>4</td>\n",
       "      <td>2017-01-05</td>\n",
       "      <td>342.583679</td>\n",
       "    </tr>\n",
       "    <tr>\n",
       "      <th>...</th>\n",
       "      <td>...</td>\n",
       "      <td>...</td>\n",
       "      <td>...</td>\n",
       "    </tr>\n",
       "    <tr>\n",
       "      <th>2094</th>\n",
       "      <td>2094</td>\n",
       "      <td>2022-09-26</td>\n",
       "      <td>137.033478</td>\n",
       "    </tr>\n",
       "    <tr>\n",
       "      <th>2095</th>\n",
       "      <td>2095</td>\n",
       "      <td>2022-09-27</td>\n",
       "      <td>220.839066</td>\n",
       "    </tr>\n",
       "    <tr>\n",
       "      <th>2096</th>\n",
       "      <td>2096</td>\n",
       "      <td>2022-09-28</td>\n",
       "      <td>174.689362</td>\n",
       "    </tr>\n",
       "    <tr>\n",
       "      <th>2097</th>\n",
       "      <td>2097</td>\n",
       "      <td>2022-09-29</td>\n",
       "      <td>89.751266</td>\n",
       "    </tr>\n",
       "    <tr>\n",
       "      <th>2098</th>\n",
       "      <td>2098</td>\n",
       "      <td>2022-09-30</td>\n",
       "      <td>90.600647</td>\n",
       "    </tr>\n",
       "  </tbody>\n",
       "</table>\n",
       "<p>2099 rows × 3 columns</p>\n",
       "</div>"
      ],
      "text/plain": [
       "      Day_step       Date   Discharge\n",
       "0            0 2017-01-01    0.000000\n",
       "1            1 2017-01-02  396.377808\n",
       "2            2 2017-01-03  239.525452\n",
       "3            3 2017-01-04  387.884003\n",
       "4            4 2017-01-05  342.583679\n",
       "...        ...        ...         ...\n",
       "2094      2094 2022-09-26  137.033478\n",
       "2095      2095 2022-09-27  220.839066\n",
       "2096      2096 2022-09-28  174.689362\n",
       "2097      2097 2022-09-29   89.751266\n",
       "2098      2098 2022-09-30   90.600647\n",
       "\n",
       "[2099 rows x 3 columns]"
      ]
     },
     "execution_count": 19,
     "metadata": {},
     "output_type": "execute_result"
    }
   ],
   "source": [
    "datesUsgsGageSt_ArkansasMurrayLittleRock = pd.Series(pd.date_range(str(yrGageSt_ArkansasMurrayLittleRock) + \"-01-01\", str(yrGageEnd_ArkansasMurrayLittleRock) + \"-9-30\", freq=\"D\"))\n",
    "usgsGageShape_ArkansasMurrayLittleRock = datesUsgsGageSt_ArkansasMurrayLittleRock.shape[0]\n",
    "print(usgsGageShape_ArkansasMurrayLittleRock)\n",
    "\n",
    "missingGageData_ArkansasMurrayLittleRock = usgsGageShape_ArkansasMurrayLittleRock - len(flowDaily_toRetrieve_ArkansasMurrayLittleRock[0])\n",
    "print(missingGageData_ArkansasMurrayLittleRock)\n",
    "\n",
    "dfUsgsDisch_ArkansasMurrayLittleRock = pd.DataFrame(np.zeros((usgsGageShape_ArkansasMurrayLittleRock-missingGageData_ArkansasMurrayLittleRock, 3)), columns=['Day_step', 'Date','Discharge'])\n",
    "dfUsgsDisch_ArkansasMurrayLittleRock.Day_step = np.arange(usgsGageShape_ArkansasMurrayLittleRock-missingGageData_ArkansasMurrayLittleRock)\n",
    "dfUsgsDisch_ArkansasMurrayLittleRock.Date = datesUsgsGageSt_ArkansasMurrayLittleRock\n",
    "dfUsgsDisch_ArkansasMurrayLittleRock.Discharge = flowDaily_cumec_float_ArkansasMurrayLittleRock\n",
    "\n",
    "dfUsgsDisch_ArkansasMurrayLittleRock\n"
   ]
  },
  {
   "cell_type": "code",
   "execution_count": 20,
   "metadata": {},
   "outputs": [
    {
     "data": {
      "text/html": [
       "<div>\n",
       "<style scoped>\n",
       "    .dataframe tbody tr th:only-of-type {\n",
       "        vertical-align: middle;\n",
       "    }\n",
       "\n",
       "    .dataframe tbody tr th {\n",
       "        vertical-align: top;\n",
       "    }\n",
       "\n",
       "    .dataframe thead th {\n",
       "        text-align: right;\n",
       "    }\n",
       "</style>\n",
       "<table border=\"1\" class=\"dataframe\">\n",
       "  <thead>\n",
       "    <tr style=\"text-align: right;\">\n",
       "      <th></th>\n",
       "      <th>Date</th>\n",
       "      <th>Discharge</th>\n",
       "    </tr>\n",
       "  </thead>\n",
       "  <tbody>\n",
       "    <tr>\n",
       "      <th>0</th>\n",
       "      <td>2017-01</td>\n",
       "      <td>560.143982</td>\n",
       "    </tr>\n",
       "    <tr>\n",
       "      <th>1</th>\n",
       "      <td>2017-02</td>\n",
       "      <td>629.532898</td>\n",
       "    </tr>\n",
       "    <tr>\n",
       "      <th>2</th>\n",
       "      <td>2017-03</td>\n",
       "      <td>846.348816</td>\n",
       "    </tr>\n",
       "    <tr>\n",
       "      <th>3</th>\n",
       "      <td>2017-04</td>\n",
       "      <td>2651.673340</td>\n",
       "    </tr>\n",
       "    <tr>\n",
       "      <th>4</th>\n",
       "      <td>2017-05</td>\n",
       "      <td>5271.642090</td>\n",
       "    </tr>\n",
       "    <tr>\n",
       "      <th>...</th>\n",
       "      <td>...</td>\n",
       "      <td>...</td>\n",
       "    </tr>\n",
       "    <tr>\n",
       "      <th>64</th>\n",
       "      <td>2022-05</td>\n",
       "      <td>4581.086426</td>\n",
       "    </tr>\n",
       "    <tr>\n",
       "      <th>65</th>\n",
       "      <td>2022-06</td>\n",
       "      <td>3651.394775</td>\n",
       "    </tr>\n",
       "    <tr>\n",
       "      <th>66</th>\n",
       "      <td>2022-07</td>\n",
       "      <td>900.709229</td>\n",
       "    </tr>\n",
       "    <tr>\n",
       "      <th>67</th>\n",
       "      <td>2022-08</td>\n",
       "      <td>678.582397</td>\n",
       "    </tr>\n",
       "    <tr>\n",
       "      <th>68</th>\n",
       "      <td>2022-09</td>\n",
       "      <td>338.950226</td>\n",
       "    </tr>\n",
       "  </tbody>\n",
       "</table>\n",
       "<p>69 rows × 2 columns</p>\n",
       "</div>"
      ],
      "text/plain": [
       "       Date    Discharge\n",
       "0   2017-01   560.143982\n",
       "1   2017-02   629.532898\n",
       "2   2017-03   846.348816\n",
       "3   2017-04  2651.673340\n",
       "4   2017-05  5271.642090\n",
       "..      ...          ...\n",
       "64  2022-05  4581.086426\n",
       "65  2022-06  3651.394775\n",
       "66  2022-07   900.709229\n",
       "67  2022-08   678.582397\n",
       "68  2022-09   338.950226\n",
       "\n",
       "[69 rows x 2 columns]"
      ]
     },
     "execution_count": 20,
     "metadata": {},
     "output_type": "execute_result"
    }
   ],
   "source": [
    "dfUsgsDischMon_ArkansasMurrayLittleRock = dfUsgsDisch_ArkansasMurrayLittleRock.groupby(pd.PeriodIndex(dfUsgsDisch_ArkansasMurrayLittleRock['Date'], freq=\"M\"))['Discharge'].mean().reset_index()\n",
    "dfUsgsDischMon_ArkansasMurrayLittleRock"
   ]
  },
  {
   "cell_type": "code",
   "execution_count": 21,
   "metadata": {},
   "outputs": [
    {
     "name": "stdout",
     "output_type": "stream",
     "text": [
      "(69,)\n"
     ]
    }
   ],
   "source": [
    "dfUsgsDischMon_Squeeze_ArkansasMurrayLittleRock = np.squeeze(dfUsgsDischMon_ArkansasMurrayLittleRock.Discharge)\n",
    "print(dfUsgsDischMon_Squeeze_ArkansasMurrayLittleRock.shape)"
   ]
  },
  {
   "cell_type": "code",
   "execution_count": 22,
   "metadata": {},
   "outputs": [
    {
     "name": "stdout",
     "output_type": "stream",
     "text": [
      "(12,)\n"
     ]
    }
   ],
   "source": [
    "dischObsMonClim_ArkansasMurrayLittleRock = np.zeros((nMonsPerYr))\n",
    "dischObsMonClim_ArkansasMurrayLittleRock[:] = np.nan\n",
    "print(dischObsMonClim_ArkansasMurrayLittleRock.shape)"
   ]
  },
  {
   "cell_type": "code",
   "execution_count": 23,
   "metadata": {},
   "outputs": [
    {
     "name": "stdout",
     "output_type": "stream",
     "text": [
      "(12,)\n",
      "[1829.20068359 1844.02404785 2353.0715332  2727.8972168  4263.34472656\n",
      " 3508.70507812 1736.14099121 1183.9901123   826.93847656 1290.08154297\n",
      " 1222.07995605 1078.56958008]\n"
     ]
    }
   ],
   "source": [
    "for gageMon in range(nMonsPerYr):\n",
    "    dischObsMonClim_ArkansasMurrayLittleRock[gageMon] =  np.nanmean(dfUsgsDischMon_Squeeze_ArkansasMurrayLittleRock[gageMon::nMonsPerYr])\n",
    "    \n",
    "print(dischObsMonClim_ArkansasMurrayLittleRock.shape)\n",
    "print(dischObsMonClim_ArkansasMurrayLittleRock)  "
   ]
  },
  {
   "cell_type": "code",
   "execution_count": null,
   "metadata": {},
   "outputs": [],
   "source": []
  },
  {
   "cell_type": "code",
   "execution_count": null,
   "metadata": {},
   "outputs": [],
   "source": []
  },
  {
   "cell_type": "markdown",
   "metadata": {},
   "source": [
    "## Missouri at Hermann"
   ]
  },
  {
   "cell_type": "code",
   "execution_count": 24,
   "metadata": {},
   "outputs": [
    {
     "name": "stdout",
     "output_type": "stream",
     "text": [
      "94\n",
      "Retrieved 34241 data values.\n",
      "(34241, 3)\n",
      "(34241,)\n",
      "(34241,)\n",
      "[1254.2527  1180.6396  1112.6892   979.61945  917.33154  917.33154\n",
      "  956.9693  1022.0885  1090.0391  1157.9895  1279.7341  1483.5856\n",
      " 1613.824   1812.013   1727.0748  1585.5112  1534.5485  1483.5856\n",
      " 1381.6598  1330.697   1279.7341  1254.2527  1228.7712  1206.1211\n",
      " 1180.6396  1157.9895  1135.3394  1112.6892  1090.0391  1067.3888\n",
      " 1044.7386 ]\n"
     ]
    }
   ],
   "source": [
    "\n",
    "usgsGage_MissouriHermann = '06934500'   # Missouri at Hermann\n",
    "startDate_MissouriHermann = \"1929-1-1\"\n",
    "endDate_MissouriHermann = \"2022-9-30\"\n",
    "yrGageSt_MissouriHermann =  1929\n",
    "yrGageEnd_MissouriHermann = 2022\n",
    "nYrsGage_MissouriHermann = yrGageEnd_MissouriHermann - yrGageSt_MissouriHermann + 1\n",
    "print(nYrsGage_MissouriHermann)\n",
    "\n",
    "# Retrieve the data\n",
    "flowDaily_toRetrieve_MissouriHermann = nwis.get_dv(sites= usgsGage_MissouriHermann, parameterCd= parameterCode, start= startDate_MissouriHermann, end= endDate_MissouriHermann) \n",
    "print(\"Retrieved \" + str(len(flowDaily_toRetrieve_MissouriHermann[0])) + \" data values.\")\n",
    "\n",
    "flowDaily_MissouriHermann = flowDaily_toRetrieve_MissouriHermann[0].to_numpy()\n",
    "print(flowDaily_MissouriHermann.shape)\n",
    "\n",
    "flowDaily_cumec_MissouriHermann = (flowDaily_MissouriHermann[:, 0])/(3.281**3)\n",
    "print(flowDaily_cumec_MissouriHermann.shape)\n",
    "\n",
    "flowDaily_cumec_float_MissouriHermann = pd.to_numeric(flowDaily_cumec_MissouriHermann, downcast=\"float\")\n",
    "print(flowDaily_cumec_float_MissouriHermann.shape)\n",
    "print(flowDaily_cumec_float_MissouriHermann[0:31])\n"
   ]
  },
  {
   "cell_type": "code",
   "execution_count": 25,
   "metadata": {},
   "outputs": [
    {
     "name": "stdout",
     "output_type": "stream",
     "text": [
      "34241\n",
      "0\n"
     ]
    },
    {
     "data": {
      "text/html": [
       "<div>\n",
       "<style scoped>\n",
       "    .dataframe tbody tr th:only-of-type {\n",
       "        vertical-align: middle;\n",
       "    }\n",
       "\n",
       "    .dataframe tbody tr th {\n",
       "        vertical-align: top;\n",
       "    }\n",
       "\n",
       "    .dataframe thead th {\n",
       "        text-align: right;\n",
       "    }\n",
       "</style>\n",
       "<table border=\"1\" class=\"dataframe\">\n",
       "  <thead>\n",
       "    <tr style=\"text-align: right;\">\n",
       "      <th></th>\n",
       "      <th>Day_step</th>\n",
       "      <th>Date</th>\n",
       "      <th>Discharge</th>\n",
       "    </tr>\n",
       "  </thead>\n",
       "  <tbody>\n",
       "    <tr>\n",
       "      <th>0</th>\n",
       "      <td>0</td>\n",
       "      <td>1929-01-01</td>\n",
       "      <td>1254.252686</td>\n",
       "    </tr>\n",
       "    <tr>\n",
       "      <th>1</th>\n",
       "      <td>1</td>\n",
       "      <td>1929-01-02</td>\n",
       "      <td>1180.639648</td>\n",
       "    </tr>\n",
       "    <tr>\n",
       "      <th>2</th>\n",
       "      <td>2</td>\n",
       "      <td>1929-01-03</td>\n",
       "      <td>1112.689209</td>\n",
       "    </tr>\n",
       "    <tr>\n",
       "      <th>3</th>\n",
       "      <td>3</td>\n",
       "      <td>1929-01-04</td>\n",
       "      <td>979.619446</td>\n",
       "    </tr>\n",
       "    <tr>\n",
       "      <th>4</th>\n",
       "      <td>4</td>\n",
       "      <td>1929-01-05</td>\n",
       "      <td>917.331543</td>\n",
       "    </tr>\n",
       "    <tr>\n",
       "      <th>...</th>\n",
       "      <td>...</td>\n",
       "      <td>...</td>\n",
       "      <td>...</td>\n",
       "    </tr>\n",
       "    <tr>\n",
       "      <th>34236</th>\n",
       "      <td>34236</td>\n",
       "      <td>2022-09-26</td>\n",
       "      <td>1135.339355</td>\n",
       "    </tr>\n",
       "    <tr>\n",
       "      <th>34237</th>\n",
       "      <td>34237</td>\n",
       "      <td>2022-09-27</td>\n",
       "      <td>1132.508057</td>\n",
       "    </tr>\n",
       "    <tr>\n",
       "      <th>34238</th>\n",
       "      <td>34238</td>\n",
       "      <td>2022-09-28</td>\n",
       "      <td>1126.845459</td>\n",
       "    </tr>\n",
       "    <tr>\n",
       "      <th>34239</th>\n",
       "      <td>34239</td>\n",
       "      <td>2022-09-29</td>\n",
       "      <td>1126.845459</td>\n",
       "    </tr>\n",
       "    <tr>\n",
       "      <th>34240</th>\n",
       "      <td>34240</td>\n",
       "      <td>2022-09-30</td>\n",
       "      <td>1124.014282</td>\n",
       "    </tr>\n",
       "  </tbody>\n",
       "</table>\n",
       "<p>34241 rows × 3 columns</p>\n",
       "</div>"
      ],
      "text/plain": [
       "       Day_step       Date    Discharge\n",
       "0             0 1929-01-01  1254.252686\n",
       "1             1 1929-01-02  1180.639648\n",
       "2             2 1929-01-03  1112.689209\n",
       "3             3 1929-01-04   979.619446\n",
       "4             4 1929-01-05   917.331543\n",
       "...         ...        ...          ...\n",
       "34236     34236 2022-09-26  1135.339355\n",
       "34237     34237 2022-09-27  1132.508057\n",
       "34238     34238 2022-09-28  1126.845459\n",
       "34239     34239 2022-09-29  1126.845459\n",
       "34240     34240 2022-09-30  1124.014282\n",
       "\n",
       "[34241 rows x 3 columns]"
      ]
     },
     "execution_count": 25,
     "metadata": {},
     "output_type": "execute_result"
    }
   ],
   "source": [
    "datesUsgsGageSt_MissouriHermann = pd.Series(pd.date_range(str(yrGageSt_MissouriHermann) + \"-01-01\", str(yrGageEnd_MissouriHermann) + \"-9-30\", freq=\"D\"))\n",
    "usgsGageShape_MissouriHermann = datesUsgsGageSt_MissouriHermann.shape[0]\n",
    "print(usgsGageShape_MissouriHermann)\n",
    "\n",
    "missingGageData_MissouriHermann = usgsGageShape_MissouriHermann - len(flowDaily_toRetrieve_MissouriHermann[0])\n",
    "print(missingGageData_MissouriHermann)\n",
    "\n",
    "dfUsgsDisch_MissouriHermann = pd.DataFrame(np.zeros((usgsGageShape_MissouriHermann-missingGageData_MissouriHermann, 3)), columns=['Day_step', 'Date','Discharge'])\n",
    "dfUsgsDisch_MissouriHermann.Day_step = np.arange(usgsGageShape_MissouriHermann-missingGageData_MissouriHermann)\n",
    "dfUsgsDisch_MissouriHermann.Date = datesUsgsGageSt_MissouriHermann\n",
    "dfUsgsDisch_MissouriHermann.Discharge = flowDaily_cumec_float_MissouriHermann\n",
    "\n",
    "dfUsgsDisch_MissouriHermann\n"
   ]
  },
  {
   "cell_type": "code",
   "execution_count": 26,
   "metadata": {},
   "outputs": [
    {
     "data": {
      "text/html": [
       "<div>\n",
       "<style scoped>\n",
       "    .dataframe tbody tr th:only-of-type {\n",
       "        vertical-align: middle;\n",
       "    }\n",
       "\n",
       "    .dataframe tbody tr th {\n",
       "        vertical-align: top;\n",
       "    }\n",
       "\n",
       "    .dataframe thead th {\n",
       "        text-align: right;\n",
       "    }\n",
       "</style>\n",
       "<table border=\"1\" class=\"dataframe\">\n",
       "  <thead>\n",
       "    <tr style=\"text-align: right;\">\n",
       "      <th></th>\n",
       "      <th>Date</th>\n",
       "      <th>Discharge</th>\n",
       "    </tr>\n",
       "  </thead>\n",
       "  <tbody>\n",
       "    <tr>\n",
       "      <th>0</th>\n",
       "      <td>1929-01</td>\n",
       "      <td>1244.480225</td>\n",
       "    </tr>\n",
       "    <tr>\n",
       "      <th>1</th>\n",
       "      <td>1929-02</td>\n",
       "      <td>1042.210815</td>\n",
       "    </tr>\n",
       "    <tr>\n",
       "      <th>2</th>\n",
       "      <td>1929-03</td>\n",
       "      <td>4398.515137</td>\n",
       "    </tr>\n",
       "    <tr>\n",
       "      <th>3</th>\n",
       "      <td>1929-04</td>\n",
       "      <td>6418.489258</td>\n",
       "    </tr>\n",
       "    <tr>\n",
       "      <th>4</th>\n",
       "      <td>1929-05</td>\n",
       "      <td>6418.763184</td>\n",
       "    </tr>\n",
       "    <tr>\n",
       "      <th>...</th>\n",
       "      <td>...</td>\n",
       "      <td>...</td>\n",
       "    </tr>\n",
       "    <tr>\n",
       "      <th>1120</th>\n",
       "      <td>2022-05</td>\n",
       "      <td>3984.784424</td>\n",
       "    </tr>\n",
       "    <tr>\n",
       "      <th>1121</th>\n",
       "      <td>2022-06</td>\n",
       "      <td>3470.287842</td>\n",
       "    </tr>\n",
       "    <tr>\n",
       "      <th>1122</th>\n",
       "      <td>2022-07</td>\n",
       "      <td>1753.378174</td>\n",
       "    </tr>\n",
       "    <tr>\n",
       "      <th>1123</th>\n",
       "      <td>2022-08</td>\n",
       "      <td>1348.049927</td>\n",
       "    </tr>\n",
       "    <tr>\n",
       "      <th>1124</th>\n",
       "      <td>2022-09</td>\n",
       "      <td>1168.937012</td>\n",
       "    </tr>\n",
       "  </tbody>\n",
       "</table>\n",
       "<p>1125 rows × 2 columns</p>\n",
       "</div>"
      ],
      "text/plain": [
       "         Date    Discharge\n",
       "0     1929-01  1244.480225\n",
       "1     1929-02  1042.210815\n",
       "2     1929-03  4398.515137\n",
       "3     1929-04  6418.489258\n",
       "4     1929-05  6418.763184\n",
       "...       ...          ...\n",
       "1120  2022-05  3984.784424\n",
       "1121  2022-06  3470.287842\n",
       "1122  2022-07  1753.378174\n",
       "1123  2022-08  1348.049927\n",
       "1124  2022-09  1168.937012\n",
       "\n",
       "[1125 rows x 2 columns]"
      ]
     },
     "execution_count": 26,
     "metadata": {},
     "output_type": "execute_result"
    }
   ],
   "source": [
    "dfUsgsDischMon_MissouriHermann = dfUsgsDisch_MissouriHermann.groupby(pd.PeriodIndex(dfUsgsDisch_MissouriHermann['Date'], freq=\"M\"))['Discharge'].mean().reset_index()\n",
    "dfUsgsDischMon_MissouriHermann"
   ]
  },
  {
   "cell_type": "code",
   "execution_count": 27,
   "metadata": {},
   "outputs": [
    {
     "name": "stdout",
     "output_type": "stream",
     "text": [
      "(1125,)\n"
     ]
    }
   ],
   "source": [
    "dfUsgsDischMon_Squeeze_MissouriHermann = np.squeeze(dfUsgsDischMon_MissouriHermann.Discharge)\n",
    "print(dfUsgsDischMon_Squeeze_MissouriHermann.shape)"
   ]
  },
  {
   "cell_type": "code",
   "execution_count": 28,
   "metadata": {},
   "outputs": [
    {
     "name": "stdout",
     "output_type": "stream",
     "text": [
      "(12,)\n"
     ]
    }
   ],
   "source": [
    "dischObsMonClim_MissouriHermann = np.zeros((nMonsPerYr))\n",
    "dischObsMonClim_MissouriHermann[:] = np.nan\n",
    "print(dischObsMonClim_MissouriHermann.shape)"
   ]
  },
  {
   "cell_type": "code",
   "execution_count": 29,
   "metadata": {},
   "outputs": [
    {
     "name": "stdout",
     "output_type": "stream",
     "text": [
      "(12,)\n",
      "[1392.42883301 1749.33813477 2585.2644043  3264.80078125 3441.96386719\n",
      " 3714.66650391 2942.82641602 2021.93322754 1987.68139648 1980.22937012\n",
      " 1894.86279297 1532.3807373 ]\n"
     ]
    }
   ],
   "source": [
    "for gageMon in range(nMonsPerYr):\n",
    "    dischObsMonClim_MissouriHermann[gageMon] =  np.nanmean(dfUsgsDischMon_Squeeze_MissouriHermann[gageMon::nMonsPerYr])\n",
    "    \n",
    "print(dischObsMonClim_MissouriHermann.shape)\n",
    "print(dischObsMonClim_MissouriHermann)  "
   ]
  },
  {
   "cell_type": "markdown",
   "metadata": {},
   "source": [
    "## Ohio at Olmsted"
   ]
  },
  {
   "cell_type": "code",
   "execution_count": 30,
   "metadata": {},
   "outputs": [
    {
     "name": "stdout",
     "output_type": "stream",
     "text": [
      "8\n",
      "Retrieved 2922 data values.\n",
      "(2922, 3)\n",
      "(2922,)\n",
      "(2922,)\n",
      "[21092.963  20526.709  20102.018  19620.701  19365.889  18743.008\n",
      " 17299.06   15571.985  13873.224  11863.021  11353.394  11608.208\n",
      " 12287.713  12712.403  13873.224  15487.048  17327.373  18120.129\n",
      " 18516.506  18544.82   18205.066  16987.621  13986.475  10815.452\n",
      "  9314.879   8408.872   7672.742   6568.547   5407.726   5464.3516\n",
      "  6087.231 ]\n"
     ]
    }
   ],
   "source": [
    "\n",
    "usgsGage_OhioOlmsted = '03612600'   # Ohio at Olmsted\n",
    "startDate_OhioOlmsted = \"2014-1-1\"\n",
    "endDate_OhioOlmsted = \"2021-12-31\"  # Many missing data after 04/02/2022\n",
    "yrGageSt_OhioOlmsted =  2014\n",
    "yrGageEnd_OhioOlmsted = 2021\n",
    "\n",
    "nYrsGage_OhioOlmsted = yrGageEnd_OhioOlmsted - yrGageSt_OhioOlmsted + 1\n",
    "print(nYrsGage_OhioOlmsted)\n",
    "\n",
    "# Retrieve the data\n",
    "flowDaily_toRetrieve_OhioOlmsted = nwis.get_dv(sites= usgsGage_OhioOlmsted, parameterCd= parameterCode, start= startDate_OhioOlmsted, end= endDate_OhioOlmsted) \n",
    "print(\"Retrieved \" + str(len(flowDaily_toRetrieve_OhioOlmsted[0])) + \" data values.\")\n",
    "\n",
    "flowDaily_OhioOlmsted = flowDaily_toRetrieve_OhioOlmsted[0].to_numpy()\n",
    "print(flowDaily_OhioOlmsted.shape)\n",
    "\n",
    "flowDaily_cumec_OhioOlmsted = (flowDaily_OhioOlmsted[:, 0])/(3.281**3)\n",
    "print(flowDaily_cumec_OhioOlmsted.shape)\n",
    "\n",
    "flowDaily_cumec_float_OhioOlmsted = pd.to_numeric(flowDaily_cumec_OhioOlmsted, downcast=\"float\")\n",
    "print(flowDaily_cumec_float_OhioOlmsted.shape)\n",
    "print(flowDaily_cumec_float_OhioOlmsted[0:31])\n"
   ]
  },
  {
   "cell_type": "code",
   "execution_count": 31,
   "metadata": {},
   "outputs": [
    {
     "name": "stdout",
     "output_type": "stream",
     "text": [
      "2922\n",
      "0\n"
     ]
    },
    {
     "data": {
      "text/html": [
       "<div>\n",
       "<style scoped>\n",
       "    .dataframe tbody tr th:only-of-type {\n",
       "        vertical-align: middle;\n",
       "    }\n",
       "\n",
       "    .dataframe tbody tr th {\n",
       "        vertical-align: top;\n",
       "    }\n",
       "\n",
       "    .dataframe thead th {\n",
       "        text-align: right;\n",
       "    }\n",
       "</style>\n",
       "<table border=\"1\" class=\"dataframe\">\n",
       "  <thead>\n",
       "    <tr style=\"text-align: right;\">\n",
       "      <th></th>\n",
       "      <th>Day_step</th>\n",
       "      <th>Date</th>\n",
       "      <th>Discharge</th>\n",
       "    </tr>\n",
       "  </thead>\n",
       "  <tbody>\n",
       "    <tr>\n",
       "      <th>0</th>\n",
       "      <td>0</td>\n",
       "      <td>2014-01-01</td>\n",
       "      <td>21092.962891</td>\n",
       "    </tr>\n",
       "    <tr>\n",
       "      <th>1</th>\n",
       "      <td>1</td>\n",
       "      <td>2014-01-02</td>\n",
       "      <td>20526.708984</td>\n",
       "    </tr>\n",
       "    <tr>\n",
       "      <th>2</th>\n",
       "      <td>2</td>\n",
       "      <td>2014-01-03</td>\n",
       "      <td>20102.017578</td>\n",
       "    </tr>\n",
       "    <tr>\n",
       "      <th>3</th>\n",
       "      <td>3</td>\n",
       "      <td>2014-01-04</td>\n",
       "      <td>19620.701172</td>\n",
       "    </tr>\n",
       "    <tr>\n",
       "      <th>4</th>\n",
       "      <td>4</td>\n",
       "      <td>2014-01-05</td>\n",
       "      <td>19365.888672</td>\n",
       "    </tr>\n",
       "    <tr>\n",
       "      <th>...</th>\n",
       "      <td>...</td>\n",
       "      <td>...</td>\n",
       "      <td>...</td>\n",
       "    </tr>\n",
       "    <tr>\n",
       "      <th>2917</th>\n",
       "      <td>2917</td>\n",
       "      <td>2021-12-27</td>\n",
       "      <td>6710.110352</td>\n",
       "    </tr>\n",
       "    <tr>\n",
       "      <th>2918</th>\n",
       "      <td>2918</td>\n",
       "      <td>2021-12-28</td>\n",
       "      <td>6879.986328</td>\n",
       "    </tr>\n",
       "    <tr>\n",
       "      <th>2919</th>\n",
       "      <td>2919</td>\n",
       "      <td>2021-12-29</td>\n",
       "      <td>7955.869141</td>\n",
       "    </tr>\n",
       "    <tr>\n",
       "      <th>2920</th>\n",
       "      <td>2920</td>\n",
       "      <td>2021-12-30</td>\n",
       "      <td>7955.869141</td>\n",
       "    </tr>\n",
       "    <tr>\n",
       "      <th>2921</th>\n",
       "      <td>2921</td>\n",
       "      <td>2021-12-31</td>\n",
       "      <td>8437.184570</td>\n",
       "    </tr>\n",
       "  </tbody>\n",
       "</table>\n",
       "<p>2922 rows × 3 columns</p>\n",
       "</div>"
      ],
      "text/plain": [
       "      Day_step       Date     Discharge\n",
       "0            0 2014-01-01  21092.962891\n",
       "1            1 2014-01-02  20526.708984\n",
       "2            2 2014-01-03  20102.017578\n",
       "3            3 2014-01-04  19620.701172\n",
       "4            4 2014-01-05  19365.888672\n",
       "...        ...        ...           ...\n",
       "2917      2917 2021-12-27   6710.110352\n",
       "2918      2918 2021-12-28   6879.986328\n",
       "2919      2919 2021-12-29   7955.869141\n",
       "2920      2920 2021-12-30   7955.869141\n",
       "2921      2921 2021-12-31   8437.184570\n",
       "\n",
       "[2922 rows x 3 columns]"
      ]
     },
     "execution_count": 31,
     "metadata": {},
     "output_type": "execute_result"
    }
   ],
   "source": [
    "datesUsgsGageSt_OhioOlmsted = pd.Series(pd.date_range(str(yrGageSt_OhioOlmsted) + \"-01-01\", str(yrGageEnd_OhioOlmsted) + \"-12-31\", freq=\"D\"))\n",
    "usgsGageShape_OhioOlmsted = datesUsgsGageSt_OhioOlmsted.shape[0]\n",
    "print(usgsGageShape_OhioOlmsted)\n",
    "\n",
    "missingGageData_OhioOlmsted = usgsGageShape_OhioOlmsted - len(flowDaily_toRetrieve_OhioOlmsted[0])\n",
    "print(missingGageData_OhioOlmsted)\n",
    "\n",
    "dfUsgsDisch_OhioOlmsted = pd.DataFrame(np.zeros((usgsGageShape_OhioOlmsted-missingGageData_OhioOlmsted, 3)), columns=['Day_step', 'Date','Discharge'])\n",
    "dfUsgsDisch_OhioOlmsted.Day_step = np.arange(usgsGageShape_OhioOlmsted-missingGageData_OhioOlmsted)\n",
    "dfUsgsDisch_OhioOlmsted.Date = datesUsgsGageSt_OhioOlmsted\n",
    "dfUsgsDisch_OhioOlmsted.Discharge = flowDaily_cumec_float_OhioOlmsted\n",
    "\n",
    "dfUsgsDisch_OhioOlmsted\n"
   ]
  },
  {
   "cell_type": "code",
   "execution_count": 32,
   "metadata": {},
   "outputs": [
    {
     "data": {
      "text/html": [
       "<div>\n",
       "<style scoped>\n",
       "    .dataframe tbody tr th:only-of-type {\n",
       "        vertical-align: middle;\n",
       "    }\n",
       "\n",
       "    .dataframe tbody tr th {\n",
       "        vertical-align: top;\n",
       "    }\n",
       "\n",
       "    .dataframe thead th {\n",
       "        text-align: right;\n",
       "    }\n",
       "</style>\n",
       "<table border=\"1\" class=\"dataframe\">\n",
       "  <thead>\n",
       "    <tr style=\"text-align: right;\">\n",
       "      <th></th>\n",
       "      <th>Date</th>\n",
       "      <th>Discharge</th>\n",
       "    </tr>\n",
       "  </thead>\n",
       "  <tbody>\n",
       "    <tr>\n",
       "      <th>0</th>\n",
       "      <td>2014-01</td>\n",
       "      <td>14090.591797</td>\n",
       "    </tr>\n",
       "    <tr>\n",
       "      <th>1</th>\n",
       "      <td>2014-02</td>\n",
       "      <td>13529.426758</td>\n",
       "    </tr>\n",
       "    <tr>\n",
       "      <th>2</th>\n",
       "      <td>2014-03</td>\n",
       "      <td>11479.430664</td>\n",
       "    </tr>\n",
       "    <tr>\n",
       "      <th>3</th>\n",
       "      <td>2014-04</td>\n",
       "      <td>12942.679688</td>\n",
       "    </tr>\n",
       "    <tr>\n",
       "      <th>4</th>\n",
       "      <td>2014-05</td>\n",
       "      <td>11264.801758</td>\n",
       "    </tr>\n",
       "    <tr>\n",
       "      <th>...</th>\n",
       "      <td>...</td>\n",
       "      <td>...</td>\n",
       "    </tr>\n",
       "    <tr>\n",
       "      <th>91</th>\n",
       "      <td>2021-08</td>\n",
       "      <td>4653.786133</td>\n",
       "    </tr>\n",
       "    <tr>\n",
       "      <th>92</th>\n",
       "      <td>2021-09</td>\n",
       "      <td>6138.759766</td>\n",
       "    </tr>\n",
       "    <tr>\n",
       "      <th>93</th>\n",
       "      <td>2021-10</td>\n",
       "      <td>5224.149902</td>\n",
       "    </tr>\n",
       "    <tr>\n",
       "      <th>94</th>\n",
       "      <td>2021-11</td>\n",
       "      <td>4867.896973</td>\n",
       "    </tr>\n",
       "    <tr>\n",
       "      <th>95</th>\n",
       "      <td>2021-12</td>\n",
       "      <td>7788.732910</td>\n",
       "    </tr>\n",
       "  </tbody>\n",
       "</table>\n",
       "<p>96 rows × 2 columns</p>\n",
       "</div>"
      ],
      "text/plain": [
       "       Date     Discharge\n",
       "0   2014-01  14090.591797\n",
       "1   2014-02  13529.426758\n",
       "2   2014-03  11479.430664\n",
       "3   2014-04  12942.679688\n",
       "4   2014-05  11264.801758\n",
       "..      ...           ...\n",
       "91  2021-08   4653.786133\n",
       "92  2021-09   6138.759766\n",
       "93  2021-10   5224.149902\n",
       "94  2021-11   4867.896973\n",
       "95  2021-12   7788.732910\n",
       "\n",
       "[96 rows x 2 columns]"
      ]
     },
     "execution_count": 32,
     "metadata": {},
     "output_type": "execute_result"
    }
   ],
   "source": [
    "dfUsgsDischMon_OhioOlmsted = dfUsgsDisch_OhioOlmsted.groupby(pd.PeriodIndex(dfUsgsDisch_OhioOlmsted['Date'], freq=\"M\"))['Discharge'].mean().reset_index()\n",
    "dfUsgsDischMon_OhioOlmsted"
   ]
  },
  {
   "cell_type": "code",
   "execution_count": 33,
   "metadata": {},
   "outputs": [
    {
     "name": "stdout",
     "output_type": "stream",
     "text": [
      "(96,)\n"
     ]
    }
   ],
   "source": [
    "dfUsgsDischMon_Squeeze_OhioOlmsted = np.squeeze(dfUsgsDischMon_OhioOlmsted.Discharge)\n",
    "print(dfUsgsDischMon_Squeeze_OhioOlmsted.shape)"
   ]
  },
  {
   "cell_type": "code",
   "execution_count": 34,
   "metadata": {},
   "outputs": [
    {
     "name": "stdout",
     "output_type": "stream",
     "text": [
      "(12,)\n"
     ]
    }
   ],
   "source": [
    "dischObsMonClim_OhioOlmsted = np.zeros((nMonsPerYr))\n",
    "dischObsMonClim_OhioOlmsted[:] = np.nan\n",
    "print(dischObsMonClim_OhioOlmsted.shape)"
   ]
  },
  {
   "cell_type": "code",
   "execution_count": 35,
   "metadata": {},
   "outputs": [
    {
     "name": "stdout",
     "output_type": "stream",
     "text": [
      "(12,)\n",
      "[14077.12109375 15990.33007812 18373.00195312 15044.89746094\n",
      " 10862.91015625  7305.59667969  6946.81835938  4279.12255859\n",
      "  4255.05664062  4389.42773438  6908.11035156 10406.17382812]\n"
     ]
    }
   ],
   "source": [
    "for gageMon in range(nMonsPerYr):\n",
    "    dischObsMonClim_OhioOlmsted[gageMon] =  np.nanmean(dfUsgsDischMon_Squeeze_OhioOlmsted[gageMon::nMonsPerYr])\n",
    "    \n",
    "print(dischObsMonClim_OhioOlmsted.shape)\n",
    "print(dischObsMonClim_OhioOlmsted)  "
   ]
  },
  {
   "cell_type": "markdown",
   "metadata": {},
   "source": [
    "## Mississippi at Vicksburg"
   ]
  },
  {
   "cell_type": "code",
   "execution_count": 36,
   "metadata": {},
   "outputs": [
    {
     "name": "stdout",
     "output_type": "stream",
     "text": [
      "14\n"
     ]
    }
   ],
   "source": [
    "yrGaugeVicksSt =  2008\n",
    "yrGaugeVicksEnd = 2021\n",
    "nYrsGaugeVicks = yrGaugeVicksEnd - yrGaugeVicksSt + 1\n",
    "print(nYrsGaugeVicks)\n"
   ]
  },
  {
   "cell_type": "code",
   "execution_count": 37,
   "metadata": {},
   "outputs": [
    {
     "name": "stdout",
     "output_type": "stream",
     "text": [
      "5114\n"
     ]
    }
   ],
   "source": [
    "timeGaugeVicksSt = \"2008-1-1\"\n",
    "timeGaugeVicksEnd = \"2021-12-31\"\n",
    "\n",
    "datesGaugeVicks = pd.Series(pd.date_range(timeGaugeVicksSt, timeGaugeVicksEnd, freq=\"D\"))\n",
    "nDaysGaugeVicks = datesGaugeVicks.shape[0]\n",
    "print(nDaysGaugeVicks)"
   ]
  },
  {
   "cell_type": "code",
   "execution_count": 38,
   "metadata": {},
   "outputs": [
    {
     "name": "stdout",
     "output_type": "stream",
     "text": [
      "(5114,)\n"
     ]
    }
   ],
   "source": [
    "dischGauge_VicksFile = pd.read_excel('C:/rezaul/1.academic/1.research/2.project/mrb/dt/param/disch/usgs/dnld/stn/Vicksburg.xlsx', sheet_name='Vicks-filled')\n",
    "dischGauge_Vicks_cusec = dischGauge_VicksFile.Discharge\n",
    "print(dischGauge_Vicks_cusec.shape)\n"
   ]
  },
  {
   "cell_type": "code",
   "execution_count": 39,
   "metadata": {},
   "outputs": [
    {
     "name": "stdout",
     "output_type": "stream",
     "text": [
      "(5114,)\n"
     ]
    }
   ],
   "source": [
    "dischGauge_Vicks = (dischGauge_Vicks_cusec)/(3.281**3)\n",
    "print(dischGauge_Vicks.shape)"
   ]
  },
  {
   "cell_type": "markdown",
   "metadata": {},
   "source": [
    "## Feeding into a pandas dataframe"
   ]
  },
  {
   "cell_type": "code",
   "execution_count": 40,
   "metadata": {},
   "outputs": [
    {
     "data": {
      "text/html": [
       "<div>\n",
       "<style scoped>\n",
       "    .dataframe tbody tr th:only-of-type {\n",
       "        vertical-align: middle;\n",
       "    }\n",
       "\n",
       "    .dataframe tbody tr th {\n",
       "        vertical-align: top;\n",
       "    }\n",
       "\n",
       "    .dataframe thead th {\n",
       "        text-align: right;\n",
       "    }\n",
       "</style>\n",
       "<table border=\"1\" class=\"dataframe\">\n",
       "  <thead>\n",
       "    <tr style=\"text-align: right;\">\n",
       "      <th></th>\n",
       "      <th>Sl</th>\n",
       "      <th>time</th>\n",
       "      <th>flow</th>\n",
       "    </tr>\n",
       "  </thead>\n",
       "  <tbody>\n",
       "    <tr>\n",
       "      <th>0</th>\n",
       "      <td>0</td>\n",
       "      <td>2008-01-01</td>\n",
       "      <td>21347.776863</td>\n",
       "    </tr>\n",
       "    <tr>\n",
       "      <th>1</th>\n",
       "      <td>1</td>\n",
       "      <td>2008-01-02</td>\n",
       "      <td>20243.581508</td>\n",
       "    </tr>\n",
       "    <tr>\n",
       "      <th>2</th>\n",
       "      <td>2</td>\n",
       "      <td>2008-01-03</td>\n",
       "      <td>19309.262362</td>\n",
       "    </tr>\n",
       "    <tr>\n",
       "      <th>3</th>\n",
       "      <td>3</td>\n",
       "      <td>2008-01-04</td>\n",
       "      <td>18431.568618</td>\n",
       "    </tr>\n",
       "    <tr>\n",
       "      <th>4</th>\n",
       "      <td>4</td>\n",
       "      <td>2008-01-05</td>\n",
       "      <td>17638.812979</td>\n",
       "    </tr>\n",
       "    <tr>\n",
       "      <th>...</th>\n",
       "      <td>...</td>\n",
       "      <td>...</td>\n",
       "      <td>...</td>\n",
       "    </tr>\n",
       "    <tr>\n",
       "      <th>5109</th>\n",
       "      <td>5109</td>\n",
       "      <td>2021-12-27</td>\n",
       "      <td>16534.617624</td>\n",
       "    </tr>\n",
       "    <tr>\n",
       "      <th>5110</th>\n",
       "      <td>5110</td>\n",
       "      <td>2021-12-28</td>\n",
       "      <td>16194.865207</td>\n",
       "    </tr>\n",
       "    <tr>\n",
       "      <th>5111</th>\n",
       "      <td>5111</td>\n",
       "      <td>2021-12-29</td>\n",
       "      <td>15826.800088</td>\n",
       "    </tr>\n",
       "    <tr>\n",
       "      <th>5112</th>\n",
       "      <td>5112</td>\n",
       "      <td>2021-12-30</td>\n",
       "      <td>15628.611178</td>\n",
       "    </tr>\n",
       "    <tr>\n",
       "      <th>5113</th>\n",
       "      <td>5113</td>\n",
       "      <td>2021-12-31</td>\n",
       "      <td>15515.360373</td>\n",
       "    </tr>\n",
       "  </tbody>\n",
       "</table>\n",
       "<p>5114 rows × 3 columns</p>\n",
       "</div>"
      ],
      "text/plain": [
       "        Sl       time          flow\n",
       "0        0 2008-01-01  21347.776863\n",
       "1        1 2008-01-02  20243.581508\n",
       "2        2 2008-01-03  19309.262362\n",
       "3        3 2008-01-04  18431.568618\n",
       "4        4 2008-01-05  17638.812979\n",
       "...    ...        ...           ...\n",
       "5109  5109 2021-12-27  16534.617624\n",
       "5110  5110 2021-12-28  16194.865207\n",
       "5111  5111 2021-12-29  15826.800088\n",
       "5112  5112 2021-12-30  15628.611178\n",
       "5113  5113 2021-12-31  15515.360373\n",
       "\n",
       "[5114 rows x 3 columns]"
      ]
     },
     "execution_count": 40,
     "metadata": {},
     "output_type": "execute_result"
    }
   ],
   "source": [
    "dfUsgsDisch_Vicks = pd.DataFrame(np.zeros((nDaysGaugeVicks, 3)), columns=['Sl', 'time','flow'])\n",
    "dfUsgsDisch_Vicks.Sl = np.arange(nDaysGaugeVicks)\n",
    "dfUsgsDisch_Vicks.time = datesGaugeVicks\n",
    "dfUsgsDisch_Vicks.flow = dischGauge_Vicks\n",
    "\n",
    "dfUsgsDisch_Vicks\n"
   ]
  },
  {
   "cell_type": "code",
   "execution_count": 41,
   "metadata": {},
   "outputs": [
    {
     "data": {
      "text/html": [
       "<div>\n",
       "<style scoped>\n",
       "    .dataframe tbody tr th:only-of-type {\n",
       "        vertical-align: middle;\n",
       "    }\n",
       "\n",
       "    .dataframe tbody tr th {\n",
       "        vertical-align: top;\n",
       "    }\n",
       "\n",
       "    .dataframe thead th {\n",
       "        text-align: right;\n",
       "    }\n",
       "</style>\n",
       "<table border=\"1\" class=\"dataframe\">\n",
       "  <thead>\n",
       "    <tr style=\"text-align: right;\">\n",
       "      <th></th>\n",
       "      <th>time</th>\n",
       "      <th>flow</th>\n",
       "    </tr>\n",
       "  </thead>\n",
       "  <tbody>\n",
       "    <tr>\n",
       "      <th>0</th>\n",
       "      <td>2008-01</td>\n",
       "      <td>17268.007921</td>\n",
       "    </tr>\n",
       "    <tr>\n",
       "      <th>1</th>\n",
       "      <td>2008-02</td>\n",
       "      <td>23222.272957</td>\n",
       "    </tr>\n",
       "    <tr>\n",
       "      <th>2</th>\n",
       "      <td>2008-03</td>\n",
       "      <td>33505.798837</td>\n",
       "    </tr>\n",
       "    <tr>\n",
       "      <th>3</th>\n",
       "      <td>2008-04</td>\n",
       "      <td>49009.286141</td>\n",
       "    </tr>\n",
       "    <tr>\n",
       "      <th>4</th>\n",
       "      <td>2008-05</td>\n",
       "      <td>34459.297555</td>\n",
       "    </tr>\n",
       "    <tr>\n",
       "      <th>...</th>\n",
       "      <td>...</td>\n",
       "      <td>...</td>\n",
       "    </tr>\n",
       "    <tr>\n",
       "      <th>163</th>\n",
       "      <td>2021-08</td>\n",
       "      <td>12991.876696</td>\n",
       "    </tr>\n",
       "    <tr>\n",
       "      <th>164</th>\n",
       "      <td>2021-09</td>\n",
       "      <td>11852.640567</td>\n",
       "    </tr>\n",
       "    <tr>\n",
       "      <th>165</th>\n",
       "      <td>2021-10</td>\n",
       "      <td>10551.504497</td>\n",
       "    </tr>\n",
       "    <tr>\n",
       "      <th>166</th>\n",
       "      <td>2021-11</td>\n",
       "      <td>12637.846153</td>\n",
       "    </tr>\n",
       "    <tr>\n",
       "      <th>167</th>\n",
       "      <td>2021-12</td>\n",
       "      <td>12830.220304</td>\n",
       "    </tr>\n",
       "  </tbody>\n",
       "</table>\n",
       "<p>168 rows × 2 columns</p>\n",
       "</div>"
      ],
      "text/plain": [
       "        time          flow\n",
       "0    2008-01  17268.007921\n",
       "1    2008-02  23222.272957\n",
       "2    2008-03  33505.798837\n",
       "3    2008-04  49009.286141\n",
       "4    2008-05  34459.297555\n",
       "..       ...           ...\n",
       "163  2021-08  12991.876696\n",
       "164  2021-09  11852.640567\n",
       "165  2021-10  10551.504497\n",
       "166  2021-11  12637.846153\n",
       "167  2021-12  12830.220304\n",
       "\n",
       "[168 rows x 2 columns]"
      ]
     },
     "execution_count": 41,
     "metadata": {},
     "output_type": "execute_result"
    }
   ],
   "source": [
    "dfUsgsDischMon_Vicks = dfUsgsDisch_Vicks.groupby(pd.PeriodIndex(dfUsgsDisch_Vicks['time'], freq=\"M\"))['flow'].mean().reset_index()\n",
    "dfUsgsDischMon_Vicks"
   ]
  },
  {
   "cell_type": "code",
   "execution_count": 42,
   "metadata": {},
   "outputs": [
    {
     "name": "stdout",
     "output_type": "stream",
     "text": [
      "(168,)\n"
     ]
    }
   ],
   "source": [
    "print(dfUsgsDischMon_Vicks.flow.shape)"
   ]
  },
  {
   "cell_type": "code",
   "execution_count": 43,
   "metadata": {},
   "outputs": [
    {
     "name": "stdout",
     "output_type": "stream",
     "text": [
      "(168,)\n"
     ]
    }
   ],
   "source": [
    "usgsDischMon_Vicks = np.squeeze(dfUsgsDischMon_Vicks.flow)\n",
    "print(usgsDischMon_Vicks.shape)"
   ]
  },
  {
   "cell_type": "code",
   "execution_count": 44,
   "metadata": {},
   "outputs": [
    {
     "name": "stdout",
     "output_type": "stream",
     "text": [
      "(12,)\n"
     ]
    }
   ],
   "source": [
    "dischObsMonClim_MissiVicks = np.zeros((nMonsPerYr))\n",
    "dischObsMonClim_MissiVicks[:] = np.nan\n",
    "print(dischObsMonClim_MissiVicks.shape)\n"
   ]
  },
  {
   "cell_type": "code",
   "execution_count": 45,
   "metadata": {},
   "outputs": [
    {
     "name": "stdout",
     "output_type": "stream",
     "text": [
      "(12,)\n",
      "[22835.62889342 23115.24357329 30434.84928322 31271.3787076\n",
      " 32741.4211352  26293.73615491 21955.65186733 14635.64429328\n",
      " 12195.96577723 12644.05668087 14269.46668837 17691.39370977]\n"
     ]
    }
   ],
   "source": [
    "for gageMon in range(nMonsPerYr):    \n",
    "    dischObsMonClim_MissiVicks[gageMon] =  np.nanmean(usgsDischMon_Vicks[gageMon::nMonsPerYr])\n",
    "   \n",
    "print(dischObsMonClim_MissiVicks.shape)\n",
    "print(dischObsMonClim_MissiVicks)  "
   ]
  },
  {
   "cell_type": "markdown",
   "metadata": {},
   "source": [
    "## Group plot for the Relative Discharges (the Z-score)"
   ]
  },
  {
   "cell_type": "markdown",
   "metadata": {},
   "source": [
    "## Reference Period"
   ]
  },
  {
   "cell_type": "code",
   "execution_count": 46,
   "metadata": {},
   "outputs": [
    {
     "name": "stdout",
     "output_type": "stream",
     "text": [
      "41 71\n",
      "30\n"
     ]
    }
   ],
   "source": [
    "refPeriodStepSt = refPeriodYrSt - histYrSelSt\n",
    "refPeriodStepEnd = refPeriodYrEnd - histYrSelSt + 1\n",
    "\n",
    "print(refPeriodStepSt, refPeriodStepEnd)\n",
    "print(refPeriodStepEnd-refPeriodStepSt)"
   ]
  },
  {
   "cell_type": "markdown",
   "metadata": {},
   "source": [
    "## Era1"
   ]
  },
  {
   "cell_type": "code",
   "execution_count": 47,
   "metadata": {},
   "outputs": [
    {
     "name": "stdout",
     "output_type": "stream",
     "text": [
      "85 115\n",
      "30\n"
     ]
    }
   ],
   "source": [
    "scenEraOneStepSt = scenYrSt - histYrSelSt\n",
    "scenEraOneStepEnd = scenEraTwoYrSt - histYrSelSt\n",
    "\n",
    "print(scenEraOneStepSt, scenEraOneStepEnd)\n",
    "print(scenEraOneStepEnd-scenEraOneStepSt)"
   ]
  },
  {
   "cell_type": "markdown",
   "metadata": {},
   "source": [
    "## Era2"
   ]
  },
  {
   "cell_type": "code",
   "execution_count": 48,
   "metadata": {},
   "outputs": [
    {
     "name": "stdout",
     "output_type": "stream",
     "text": [
      "115 145\n",
      "30\n"
     ]
    }
   ],
   "source": [
    "scenEraTwoStepSt = scenEraTwoYrSt - histYrSelSt\n",
    "scenEraTwoStepEnd = scenEraThreeYrSt - histYrSelSt\n",
    "\n",
    "print(scenEraTwoStepSt, scenEraTwoStepEnd)\n",
    "print(scenEraTwoStepEnd-scenEraTwoStepSt)"
   ]
  },
  {
   "cell_type": "markdown",
   "metadata": {},
   "source": [
    "## Era3"
   ]
  },
  {
   "cell_type": "code",
   "execution_count": 49,
   "metadata": {},
   "outputs": [
    {
     "name": "stdout",
     "output_type": "stream",
     "text": [
      "145 171\n",
      "26\n"
     ]
    }
   ],
   "source": [
    "scenEraThreeStepSt = scenEraThreeYrSt - histYrSelSt\n",
    "scenEraThreeStepEnd = scenYrEnd - histYrSelSt + 1\n",
    "\n",
    "print(scenEraThreeStepSt, scenEraThreeStepEnd)\n",
    "print(scenEraThreeStepEnd-scenEraThreeStepSt)"
   ]
  },
  {
   "cell_type": "code",
   "execution_count": 50,
   "metadata": {},
   "outputs": [
    {
     "name": "stdout",
     "output_type": "stream",
     "text": [
      "(171, 12)\n",
      "(171, 12)\n",
      "(171, 12)\n",
      "(171, 12)\n"
     ]
    }
   ],
   "source": [
    "print(disch_histSel_scen_ensMean_Yr_MissouriHermann.shape)\n",
    "print(disch_histSel_scen_ensMean_Yr_ArkansasMurrayLittleRock.shape)\n",
    "print(disch_histSel_scen_ensMean_Yr_OhioOlmsted.shape)\n",
    "print(disch_histSel_scen_ensMean_Yr_MissiVicks.shape)"
   ]
  },
  {
   "cell_type": "markdown",
   "metadata": {},
   "source": [
    "## Missouri at Hermann"
   ]
  },
  {
   "cell_type": "code",
   "execution_count": 51,
   "metadata": {},
   "outputs": [
    {
     "name": "stdout",
     "output_type": "stream",
     "text": [
      "(30, 12)\n",
      "(30, 12)\n",
      "(30, 12)\n",
      "(26, 12)\n"
     ]
    }
   ],
   "source": [
    "disch_yrMon_refPeriod_ensMean_MissouriHermann = disch_histSel_scen_ensMean_Yr_MissouriHermann[refPeriodStepSt:refPeriodStepEnd,:]\n",
    "print(disch_yrMon_refPeriod_ensMean_MissouriHermann.shape)\n",
    "\n",
    "disch_yrMon_eraOne_ensMean_MissouriHermann = disch_histSel_scen_ensMean_Yr_MissouriHermann[scenEraOneStepSt:scenEraOneStepEnd,:]\n",
    "print(disch_yrMon_eraOne_ensMean_MissouriHermann.shape)\n",
    "\n",
    "disch_yrMon_eraTwo_ensMean_MissouriHermann = disch_histSel_scen_ensMean_Yr_MissouriHermann[scenEraTwoStepSt:scenEraTwoStepEnd,:]\n",
    "print(disch_yrMon_eraTwo_ensMean_MissouriHermann.shape)\n",
    "\n",
    "disch_yrMon_eraThree_ensMean_MissouriHermann = disch_histSel_scen_ensMean_Yr_MissouriHermann[scenEraThreeStepSt:scenEraThreeStepEnd,:]\n",
    "print(disch_yrMon_eraThree_ensMean_MissouriHermann.shape)\n",
    "\n"
   ]
  },
  {
   "cell_type": "code",
   "execution_count": 52,
   "metadata": {},
   "outputs": [
    {
     "name": "stdout",
     "output_type": "stream",
     "text": [
      "(12,)\n",
      "(12,)\n",
      "(12,)\n",
      "(12,)\n"
     ]
    }
   ],
   "source": [
    "\n",
    "disch_monClim_refPeriod_ensMean_MissouriHermann = np.nanmean(disch_yrMon_refPeriod_ensMean_MissouriHermann, axis = 0)\n",
    "print(disch_monClim_refPeriod_ensMean_MissouriHermann.shape)\n",
    "\n",
    "disch_monClim_eraOne_ensMean_MissouriHermann = np.nanmean(disch_yrMon_eraOne_ensMean_MissouriHermann, axis = 0)\n",
    "print(disch_monClim_eraOne_ensMean_MissouriHermann.shape)\n",
    "\n",
    "disch_monClim_eraTwo_ensMean_MissouriHermann = np.nanmean(disch_yrMon_eraTwo_ensMean_MissouriHermann, axis = 0)\n",
    "print(disch_monClim_eraTwo_ensMean_MissouriHermann.shape)\n",
    "\n",
    "disch_monClim_eraThree_ensMean_MissouriHermann = np.nanmean(disch_yrMon_eraThree_ensMean_MissouriHermann, axis = 0)\n",
    "print(disch_monClim_eraThree_ensMean_MissouriHermann.shape)\n"
   ]
  },
  {
   "cell_type": "markdown",
   "metadata": {},
   "source": [
    "## Arkansas at Murray Dam near Little Rock"
   ]
  },
  {
   "cell_type": "code",
   "execution_count": 53,
   "metadata": {},
   "outputs": [
    {
     "name": "stdout",
     "output_type": "stream",
     "text": [
      "(30, 12)\n",
      "(30, 12)\n",
      "(30, 12)\n",
      "(26, 12)\n"
     ]
    }
   ],
   "source": [
    "disch_yrMon_refPeriod_ensMean_ArkansasMurrayLittleRock = disch_histSel_scen_ensMean_Yr_ArkansasMurrayLittleRock[refPeriodStepSt:refPeriodStepEnd,:]\n",
    "print(disch_yrMon_refPeriod_ensMean_ArkansasMurrayLittleRock.shape)\n",
    "\n",
    "disch_yrMon_eraOne_ensMean_ArkansasMurrayLittleRock = disch_histSel_scen_ensMean_Yr_ArkansasMurrayLittleRock[scenEraOneStepSt:scenEraOneStepEnd,:]\n",
    "print(disch_yrMon_eraOne_ensMean_ArkansasMurrayLittleRock.shape)\n",
    "\n",
    "disch_yrMon_eraTwo_ensMean_ArkansasMurrayLittleRock = disch_histSel_scen_ensMean_Yr_ArkansasMurrayLittleRock[scenEraTwoStepSt:scenEraTwoStepEnd,:]\n",
    "print(disch_yrMon_eraTwo_ensMean_ArkansasMurrayLittleRock.shape)\n",
    "\n",
    "disch_yrMon_eraThree_ensMean_ArkansasMurrayLittleRock = disch_histSel_scen_ensMean_Yr_ArkansasMurrayLittleRock[scenEraThreeStepSt:scenEraThreeStepEnd,:]\n",
    "print(disch_yrMon_eraThree_ensMean_ArkansasMurrayLittleRock.shape)\n",
    "\n"
   ]
  },
  {
   "cell_type": "code",
   "execution_count": 54,
   "metadata": {},
   "outputs": [
    {
     "name": "stdout",
     "output_type": "stream",
     "text": [
      "(12,)\n",
      "(12,)\n",
      "(12,)\n",
      "(12,)\n"
     ]
    }
   ],
   "source": [
    "\n",
    "disch_monClim_refPeriod_ensMean_ArkansasMurrayLittleRock = np.nanmean(disch_yrMon_refPeriod_ensMean_ArkansasMurrayLittleRock, axis = 0)\n",
    "print(disch_monClim_refPeriod_ensMean_ArkansasMurrayLittleRock.shape)\n",
    "\n",
    "disch_monClim_eraOne_ensMean_ArkansasMurrayLittleRock = np.nanmean(disch_yrMon_eraOne_ensMean_ArkansasMurrayLittleRock, axis = 0)\n",
    "print(disch_monClim_eraOne_ensMean_ArkansasMurrayLittleRock.shape)\n",
    "\n",
    "disch_monClim_eraTwo_ensMean_ArkansasMurrayLittleRock = np.nanmean(disch_yrMon_eraTwo_ensMean_ArkansasMurrayLittleRock, axis = 0)\n",
    "print(disch_monClim_eraTwo_ensMean_ArkansasMurrayLittleRock.shape)\n",
    "\n",
    "disch_monClim_eraThree_ensMean_ArkansasMurrayLittleRock = np.nanmean(disch_yrMon_eraThree_ensMean_ArkansasMurrayLittleRock, axis = 0)\n",
    "print(disch_monClim_eraThree_ensMean_ArkansasMurrayLittleRock.shape)\n"
   ]
  },
  {
   "cell_type": "markdown",
   "metadata": {},
   "source": [
    "## Ohio River at Olmsted"
   ]
  },
  {
   "cell_type": "code",
   "execution_count": 55,
   "metadata": {},
   "outputs": [
    {
     "name": "stdout",
     "output_type": "stream",
     "text": [
      "(30, 12)\n",
      "(30, 12)\n",
      "(30, 12)\n",
      "(26, 12)\n"
     ]
    }
   ],
   "source": [
    "disch_yrMon_refPeriod_ensMean_OhioOlmsted = disch_histSel_scen_ensMean_Yr_OhioOlmsted[refPeriodStepSt:refPeriodStepEnd,:]\n",
    "print(disch_yrMon_refPeriod_ensMean_OhioOlmsted.shape)\n",
    "\n",
    "disch_yrMon_eraOne_ensMean_OhioOlmsted = disch_histSel_scen_ensMean_Yr_OhioOlmsted[scenEraOneStepSt:scenEraOneStepEnd,:]\n",
    "print(disch_yrMon_eraOne_ensMean_OhioOlmsted.shape)\n",
    "\n",
    "disch_yrMon_eraTwo_ensMean_OhioOlmsted = disch_histSel_scen_ensMean_Yr_OhioOlmsted[scenEraTwoStepSt:scenEraTwoStepEnd,:]\n",
    "print(disch_yrMon_eraTwo_ensMean_OhioOlmsted.shape)\n",
    "\n",
    "disch_yrMon_eraThree_ensMean_OhioOlmsted = disch_histSel_scen_ensMean_Yr_OhioOlmsted[scenEraThreeStepSt:scenEraThreeStepEnd,:]\n",
    "print(disch_yrMon_eraThree_ensMean_OhioOlmsted.shape)\n",
    "\n"
   ]
  },
  {
   "cell_type": "code",
   "execution_count": 56,
   "metadata": {},
   "outputs": [
    {
     "name": "stdout",
     "output_type": "stream",
     "text": [
      "(12,)\n",
      "(12,)\n",
      "(12,)\n",
      "(12,)\n"
     ]
    }
   ],
   "source": [
    "\n",
    "disch_monClim_refPeriod_ensMean_OhioOlmsted = np.nanmean(disch_yrMon_refPeriod_ensMean_OhioOlmsted, axis = 0)\n",
    "print(disch_monClim_refPeriod_ensMean_OhioOlmsted.shape)\n",
    "\n",
    "disch_monClim_eraOne_ensMean_OhioOlmsted = np.nanmean(disch_yrMon_eraOne_ensMean_OhioOlmsted, axis = 0)\n",
    "print(disch_monClim_eraOne_ensMean_OhioOlmsted.shape)\n",
    "\n",
    "disch_monClim_eraTwo_ensMean_OhioOlmsted = np.nanmean(disch_yrMon_eraTwo_ensMean_OhioOlmsted, axis = 0)\n",
    "print(disch_monClim_eraTwo_ensMean_OhioOlmsted.shape)\n",
    "\n",
    "disch_monClim_eraThree_ensMean_OhioOlmsted = np.nanmean(disch_yrMon_eraThree_ensMean_OhioOlmsted, axis = 0)\n",
    "print(disch_monClim_eraThree_ensMean_OhioOlmsted.shape)\n"
   ]
  },
  {
   "cell_type": "markdown",
   "metadata": {},
   "source": [
    "## Mississippi River at Vicksburg"
   ]
  },
  {
   "cell_type": "code",
   "execution_count": 57,
   "metadata": {},
   "outputs": [
    {
     "name": "stdout",
     "output_type": "stream",
     "text": [
      "(30, 12)\n",
      "(30, 12)\n",
      "(30, 12)\n",
      "(26, 12)\n"
     ]
    }
   ],
   "source": [
    "disch_yrMon_refPeriod_ensMean_MissiVicks = disch_histSel_scen_ensMean_Yr_MissiVicks[refPeriodStepSt:refPeriodStepEnd,:]\n",
    "print(disch_yrMon_refPeriod_ensMean_MissiVicks.shape)\n",
    "\n",
    "disch_yrMon_eraOne_ensMean_MissiVicks = disch_histSel_scen_ensMean_Yr_MissiVicks[scenEraOneStepSt:scenEraOneStepEnd,:]\n",
    "print(disch_yrMon_eraOne_ensMean_MissiVicks.shape)\n",
    "\n",
    "disch_yrMon_eraTwo_ensMean_MissiVicks = disch_histSel_scen_ensMean_Yr_MissiVicks[scenEraTwoStepSt:scenEraTwoStepEnd,:]\n",
    "print(disch_yrMon_eraTwo_ensMean_MissiVicks.shape)\n",
    "\n",
    "disch_yrMon_eraThree_ensMean_MissiVicks = disch_histSel_scen_ensMean_Yr_MissiVicks[scenEraThreeStepSt:scenEraThreeStepEnd,:]\n",
    "print(disch_yrMon_eraThree_ensMean_MissiVicks.shape)\n",
    "\n"
   ]
  },
  {
   "cell_type": "code",
   "execution_count": 58,
   "metadata": {},
   "outputs": [
    {
     "name": "stdout",
     "output_type": "stream",
     "text": [
      "(12,)\n",
      "(12,)\n",
      "(12,)\n",
      "(12,)\n"
     ]
    }
   ],
   "source": [
    "\n",
    "disch_monClim_refPeriod_ensMean_MissiVicks = np.nanmean(disch_yrMon_refPeriod_ensMean_MissiVicks, axis = 0)\n",
    "print(disch_monClim_refPeriod_ensMean_MissiVicks.shape)\n",
    "\n",
    "disch_monClim_eraOne_ensMean_MissiVicks = np.nanmean(disch_yrMon_eraOne_ensMean_MissiVicks, axis = 0)\n",
    "print(disch_monClim_eraOne_ensMean_MissiVicks.shape)\n",
    "\n",
    "disch_monClim_eraTwo_ensMean_MissiVicks = np.nanmean(disch_yrMon_eraTwo_ensMean_MissiVicks, axis = 0)\n",
    "print(disch_monClim_eraTwo_ensMean_MissiVicks.shape)\n",
    "\n",
    "disch_monClim_eraThree_ensMean_MissiVicks = np.nanmean(disch_yrMon_eraThree_ensMean_MissiVicks, axis = 0)\n",
    "print(disch_monClim_eraThree_ensMean_MissiVicks.shape)\n"
   ]
  },
  {
   "cell_type": "markdown",
   "metadata": {},
   "source": [
    "## Reporting the Discharges as a Z-score"
   ]
  },
  {
   "cell_type": "markdown",
   "metadata": {},
   "source": [
    "## Mississippi at Vicksburg"
   ]
  },
  {
   "cell_type": "code",
   "execution_count": 59,
   "metadata": {},
   "outputs": [
    {
     "name": "stdout",
     "output_type": "stream",
     "text": [
      "(12,)\n",
      "(12,)\n",
      "(12,)\n",
      "(12,)\n",
      "(12,)\n"
     ]
    }
   ],
   "source": [
    "print(disch_monClim_refPeriod_ensMean_MissiVicks.shape)\n",
    "print(disch_monClim_eraOne_ensMean_MissiVicks.shape)\n",
    "print(disch_monClim_eraTwo_ensMean_MissiVicks.shape)\n",
    "print(disch_monClim_eraThree_ensMean_MissiVicks.shape)\n",
    "print(dischObsMonClim_MissiVicks.shape)\n"
   ]
  },
  {
   "cell_type": "code",
   "execution_count": 60,
   "metadata": {},
   "outputs": [
    {
     "name": "stdout",
     "output_type": "stream",
     "text": [
      "21673.703063707584\n",
      "7116.866989415529\n"
     ]
    }
   ],
   "source": [
    "dischObsMonClim_mean_MissiVicks =  np.nanmean(dischObsMonClim_MissiVicks)\n",
    "print(dischObsMonClim_mean_MissiVicks)\n",
    "\n",
    "dischObsMonClim_std_MissiVicks =  np.nanstd(dischObsMonClim_MissiVicks)\n",
    "print(dischObsMonClim_std_MissiVicks)\n"
   ]
  },
  {
   "cell_type": "code",
   "execution_count": 61,
   "metadata": {},
   "outputs": [
    {
     "name": "stdout",
     "output_type": "stream",
     "text": [
      "(12,)\n",
      "[-0.17126563  0.12839955  0.95330679  2.00459357  1.49956369  0.49430398\n",
      " -0.11194807 -0.62959579 -0.68047199 -0.63507738 -0.68341929 -0.41086595]\n"
     ]
    }
   ],
   "source": [
    "disch_monClim_refPeriod_zScore_ensMean_MissiVicks = (disch_monClim_refPeriod_ensMean_MissiVicks-dischObsMonClim_mean_MissiVicks)/dischObsMonClim_std_MissiVicks\n",
    "print(disch_monClim_refPeriod_zScore_ensMean_MissiVicks.shape)\n",
    "print(disch_monClim_refPeriod_zScore_ensMean_MissiVicks)\n"
   ]
  },
  {
   "cell_type": "code",
   "execution_count": 62,
   "metadata": {},
   "outputs": [
    {
     "name": "stdout",
     "output_type": "stream",
     "text": [
      "(12,)\n",
      "[-0.13743676  0.23513175  0.95972043  1.75450126  1.24903013  0.42418058\n",
      " -0.20653489 -0.63116551 -0.67267335 -0.6445909  -0.71695213 -0.42949259]\n"
     ]
    }
   ],
   "source": [
    "disch_monClim_eraOne_zScore_ensMean_MissiVicks = (disch_monClim_eraOne_ensMean_MissiVicks-dischObsMonClim_mean_MissiVicks)/dischObsMonClim_std_MissiVicks\n",
    "print(disch_monClim_eraOne_zScore_ensMean_MissiVicks.shape)\n",
    "print(disch_monClim_eraOne_zScore_ensMean_MissiVicks)\n"
   ]
  },
  {
   "cell_type": "code",
   "execution_count": 63,
   "metadata": {},
   "outputs": [
    {
     "name": "stdout",
     "output_type": "stream",
     "text": [
      "(12,)\n",
      "[ 0.13885333  0.49006441  1.20119488  1.88369985  1.39123124  0.60011316\n",
      " -0.05404907 -0.46899472 -0.55990824 -0.56953324 -0.60054203 -0.23284307]\n"
     ]
    }
   ],
   "source": [
    "disch_monClim_eraTwo_zScore_ensMean_MissiVicks = (disch_monClim_eraTwo_ensMean_MissiVicks-dischObsMonClim_mean_MissiVicks)/dischObsMonClim_std_MissiVicks\n",
    "print(disch_monClim_eraTwo_zScore_ensMean_MissiVicks.shape)\n",
    "print(disch_monClim_eraTwo_zScore_ensMean_MissiVicks)\n"
   ]
  },
  {
   "cell_type": "code",
   "execution_count": 64,
   "metadata": {},
   "outputs": [
    {
     "name": "stdout",
     "output_type": "stream",
     "text": [
      "(12,)\n",
      "[ 0.41904577  0.7728053   1.42609333  2.02859526  1.66022882  0.78672023\n",
      "  0.11827141 -0.25384913 -0.42427724 -0.44446095 -0.45683601 -0.02344892]\n"
     ]
    }
   ],
   "source": [
    "disch_monClim_eraThree_zScore_ensMean_MissiVicks = (disch_monClim_eraThree_ensMean_MissiVicks-dischObsMonClim_mean_MissiVicks)/dischObsMonClim_std_MissiVicks\n",
    "print(disch_monClim_eraThree_zScore_ensMean_MissiVicks.shape)\n",
    "print(disch_monClim_eraThree_zScore_ensMean_MissiVicks)\n"
   ]
  },
  {
   "cell_type": "code",
   "execution_count": 65,
   "metadata": {},
   "outputs": [
    {
     "name": "stdout",
     "output_type": "stream",
     "text": [
      "(12,)\n",
      "[ 0.16326367  0.20255268  1.23103976  1.34858157  1.55513909  0.6491667\n",
      "  0.03961698 -0.98892656 -1.33172888 -1.26876706 -1.04037864 -0.55955933]\n"
     ]
    }
   ],
   "source": [
    "dischObsMonClim_zScore_MissiVicks = (dischObsMonClim_MissiVicks-dischObsMonClim_mean_MissiVicks)/dischObsMonClim_std_MissiVicks\n",
    "print(dischObsMonClim_zScore_MissiVicks.shape)\n",
    "print(dischObsMonClim_zScore_MissiVicks)\n"
   ]
  },
  {
   "cell_type": "markdown",
   "metadata": {},
   "source": [
    "## Plotting Z-score relative to Observation for Supplemenatry Figure (Vicksburg only)"
   ]
  },
  {
   "cell_type": "code",
   "execution_count": 66,
   "metadata": {},
   "outputs": [
    {
     "name": "stdout",
     "output_type": "stream",
     "text": [
      "('Jan', 'Feb', 'Mar', 'Apr', 'May', 'Jun', 'Jul', 'Aug', 'Sep', 'Oct', 'Nov', 'Dec')\n"
     ]
    }
   ],
   "source": [
    "monsStr = 'Jan','Feb','Mar','Apr','May','Jun','Jul', 'Aug', 'Sep','Oct', 'Nov', 'Dec'\n",
    "print(monsStr)"
   ]
  },
  {
   "cell_type": "code",
   "execution_count": 67,
   "metadata": {},
   "outputs": [
    {
     "data": {
      "image/png": "[encoded data removed]",
      "text/plain": [
       "<Figure size 648x432 with 1 Axes>"
      ]
     },
     "metadata": {
      "needs_background": "light"
     },
     "output_type": "display_data"
    }
   ],
   "source": [
    "\n",
    "tickFontSize = 14\n",
    "textFontSize = 16\n",
    "legendFontSize = 15\n",
    "titleFontSize = 16\n",
    "\n",
    "linewidth = 0.8\n",
    "dashLinewidth = 0.7\n",
    "\n",
    "#++++++++++++++++++++++++++++++++++++++++++++++++++++++++++++++++++++++++++\n",
    "\n",
    "fig=plt.figure(figsize=(9, 6))\n",
    "\n",
    "zScoreStr = ['-2', '-1', '0', '1', '2', '3']\n",
    "\n",
    "plt.plot(range(nMonsPerYr), disch_monClim_refPeriod_zScore_ensMean_MissiVicks, label=\"1971-2000\", color = 'green', linestyle='dashed', linewidth=2.5)\n",
    "plt.plot(range(nMonsPerYr), disch_monClim_eraOne_zScore_ensMean_MissiVicks, label=\"2015-2044\", color = 'blue', linewidth=1)\n",
    "plt.plot(range(nMonsPerYr), disch_monClim_eraTwo_zScore_ensMean_MissiVicks, label=\"2045-2074\", color = 'orange', linewidth=1.5)\n",
    "plt.plot(range(nMonsPerYr), disch_monClim_eraThree_zScore_ensMean_MissiVicks, label=\"2075-2100\", color = 'red', linewidth=1)\n",
    "plt.plot(range(nMonsPerYr), dischObsMonClim_zScore_MissiVicks, label=\"Gauge (2008-2021)\", color = 'black', linewidth=1, marker='')\n",
    "\n",
    "\n",
    "plt.gca().set_xticks(range(nMonsPerYr))\n",
    "plt.gca().set_xticklabels(monsStr, minor=False, fontsize = tickFontSize)\n",
    "\n",
    "plt.gca().set_yticks([-2, -1, 0, 1, 2, 3])\n",
    "plt.gca().set_yticklabels(zScoreStr, minor=False, fontsize = tickFontSize)\n",
    "\n",
    "plt.xlabel('Months', fontsize = textFontSize)\n",
    "plt.ylabel('Z-score', fontsize = textFontSize)\n",
    "\n",
    "plt.legend(frameon=False, fontsize=legendFontSize)\n",
    "\n",
    "plt.xlim([0, 11])\n",
    "plt.ylim([-1.5, 2.2])\n",
    "\n",
    "plt.subplots_adjust(hspace=0.25, bottom=0.2)\n",
    "plt.show()\n"
   ]
  },
  {
   "cell_type": "markdown",
   "metadata": {},
   "source": [
    "## Printing the Z-scores for Mississippi at Vicksburg"
   ]
  },
  {
   "cell_type": "code",
   "execution_count": 68,
   "metadata": {},
   "outputs": [
    {
     "name": "stdout",
     "output_type": "stream",
     "text": [
      "[-0.17126563  0.12839955  0.95330679  2.00459357  1.49956369  0.49430398\n",
      " -0.11194807 -0.62959579 -0.68047199 -0.63507738 -0.68341929 -0.41086595]\n",
      "\n",
      "[-0.13743676  0.23513175  0.95972043  1.75450126  1.24903013  0.42418058\n",
      " -0.20653489 -0.63116551 -0.67267335 -0.6445909  -0.71695213 -0.42949259]\n",
      "\n",
      "[ 0.13885333  0.49006441  1.20119488  1.88369985  1.39123124  0.60011316\n",
      " -0.05404907 -0.46899472 -0.55990824 -0.56953324 -0.60054203 -0.23284307]\n",
      "\n",
      "[ 0.41904577  0.7728053   1.42609333  2.02859526  1.66022882  0.78672023\n",
      "  0.11827141 -0.25384913 -0.42427724 -0.44446095 -0.45683601 -0.02344892]\n",
      "\n",
      "[ 0.16326367  0.20255268  1.23103976  1.34858157  1.55513909  0.6491667\n",
      "  0.03961698 -0.98892656 -1.33172888 -1.26876706 -1.04037864 -0.55955933]\n"
     ]
    }
   ],
   "source": [
    "print(disch_monClim_refPeriod_zScore_ensMean_MissiVicks)\n",
    "print('')\n",
    "print(disch_monClim_eraOne_zScore_ensMean_MissiVicks)\n",
    "print('')\n",
    "print(disch_monClim_eraTwo_zScore_ensMean_MissiVicks)\n",
    "print('')\n",
    "print(disch_monClim_eraThree_zScore_ensMean_MissiVicks)\n",
    "print('')\n",
    "print(dischObsMonClim_zScore_MissiVicks)\n"
   ]
  },
  {
   "cell_type": "code",
   "execution_count": null,
   "metadata": {},
   "outputs": [],
   "source": []
  },
  {
   "cell_type": "code",
   "execution_count": null,
   "metadata": {},
   "outputs": [],
   "source": []
  },
  {
   "cell_type": "code",
   "execution_count": null,
   "metadata": {},
   "outputs": [],
   "source": []
  },
  {
   "cell_type": "code",
   "execution_count": null,
   "metadata": {},
   "outputs": [],
   "source": []
  },
  {
   "cell_type": "code",
   "execution_count": null,
   "metadata": {},
   "outputs": [],
   "source": []
  },
  {
   "cell_type": "code",
   "execution_count": 69,
   "metadata": {},
   "outputs": [
    {
     "ename": "SyntaxError",
     "evalue": "invalid syntax (<ipython-input-69-665768e7338e>, line 1)",
     "output_type": "error",
     "traceback": [
      "\u001b[1;36m  File \u001b[1;32m\"<ipython-input-69-665768e7338e>\"\u001b[1;36m, line \u001b[1;32m1\u001b[0m\n\u001b[1;33m    STOP here ===========\u001b[0m\n\u001b[1;37m         ^\u001b[0m\n\u001b[1;31mSyntaxError\u001b[0m\u001b[1;31m:\u001b[0m invalid syntax\n"
     ]
    }
   ],
   "source": [
    "STOP here ==========="
   ]
  },
  {
   "cell_type": "code",
   "execution_count": null,
   "metadata": {},
   "outputs": [],
   "source": []
  },
  {
   "cell_type": "code",
   "execution_count": null,
   "metadata": {},
   "outputs": [],
   "source": []
  },
  {
   "cell_type": "code",
   "execution_count": null,
   "metadata": {},
   "outputs": [],
   "source": []
  },
  {
   "cell_type": "code",
   "execution_count": null,
   "metadata": {},
   "outputs": [],
   "source": []
  }
 ],
 "metadata": {
  "kernelspec": {
   "display_name": "Python 3",
   "language": "python",
   "name": "python3"
  },
  "language_info": {
   "codemirror_mode": {
    "name": "ipython",
    "version": 3
   },
   "file_extension": ".py",
   "mimetype": "text/x-python",
   "name": "python",
   "nbconvert_exporter": "python",
   "pygments_lexer": "ipython3",
   "version": "3.8.5"
  }
 },
 "nbformat": 4,
 "nbformat_minor": 4
}
