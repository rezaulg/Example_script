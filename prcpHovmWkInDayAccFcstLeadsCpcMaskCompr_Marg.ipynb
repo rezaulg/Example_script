{
 "cells": [
  {
   "cell_type": "markdown",
   "metadata": {},
   "source": [
    "# This script reads Ecmwf daily precip realtime forecast with wkly init (1 member)"
   ]
  },
  {
   "cell_type": "code",
   "execution_count": 1,
   "metadata": {},
   "outputs": [],
   "source": [
    "# To support both python 2 and python 3\n",
    "from __future__ import division, print_function, unicode_literals\n",
    "\n",
    "# Common imports\n",
    "import numpy as np\n",
    "import os\n",
    "\n",
    "# to make this notebook's output stable across runs\n",
    "np.random.seed(42)\n",
    "\n",
    "# To plot pretty figures\n",
    "%matplotlib inline\n",
    "import matplotlib as mpl\n",
    "import matplotlib.pyplot as plt\n",
    "mpl.rc('axes', labelsize=14)\n",
    "mpl.rc('xtick', labelsize=12)\n",
    "mpl.rc('ytick', labelsize=12)\n",
    "\n",
    "    \n",
    "# Where to save the figures\n",
    "PROJECT_ROOT_DIR = \".\"\n",
    "IMAGES_PATH = os.path.join(r\"C:/rezaul/academic/research/project/S2S/biasFnBigProc/prcp/conus/output/fig/python/ecmwfCpc/\")\n",
    "\n",
    "outputPath = os.path.join(\"C:/rezaul/academic/research/project/S2S/biasFnBigProc/prcp/conus/output/python/ecmwfCpc/\")\n",
    "PATH = os.path.join(outputPath)\n",
    "\n",
    "\n",
    "def save_fig(fig_id, tight_layout=True, fig_extension=\"png\", resolution=300):\n",
    "    path = os.path.join(IMAGES_PATH, fig_id + \".\" + fig_extension)\n",
    "    \n",
    "    print(\"Saving figure\", fig_id)\n",
    "    if tight_layout:\n",
    "        plt.tight_layout()\n",
    "    plt.savefig(path, format=fig_extension, dpi=resolution)\n",
    "    "
   ]
  },
  {
   "cell_type": "markdown",
   "metadata": {},
   "source": [
    "# Common imports"
   ]
  },
  {
   "cell_type": "code",
   "execution_count": 2,
   "metadata": {},
   "outputs": [],
   "source": [
    "import numpy as np\n",
    "import numpy.ma as ma     # used for Masking\n",
    "\n",
    "import pandas as pd\n",
    "import os\n",
    "import glob\n",
    "from datetime import datetime\n",
    "from osgeo import gdal \n",
    "#import gdal\n",
    "\n",
    "import cmocean\n",
    "\n",
    "import matplotlib.pyplot as plt \n",
    "from numpy import linspace \n",
    "from numpy import meshgrid \n",
    "\n",
    "import scipy.io as sio\n",
    "import calendar\n",
    "import datetime\n",
    "import matplotlib.dates as mdates\n",
    "from numpy import array, ma\n",
    "from scipy.io import loadmat  \n",
    "\n",
    "from netCDF4 import Dataset  \n",
    "import xarray as xr\n"
   ]
  },
  {
   "cell_type": "code",
   "execution_count": 3,
   "metadata": {},
   "outputs": [],
   "source": [
    "import matplotlib.colors as colors\n",
    "from copy import copy\n",
    "from mpl_toolkits.axes_grid1 import make_axes_locatable"
   ]
  },
  {
   "cell_type": "code",
   "execution_count": 4,
   "metadata": {},
   "outputs": [],
   "source": [
    "#cartopy.feature.STATES.with_scale('10m')\n",
    "import cartopy.crs as ccrs\n",
    "import cartopy.feature as cfeature\n",
    "\n",
    "from cartopy.io.shapereader import Reader\n",
    "from cartopy.feature import ShapelyFeature"
   ]
  },
  {
   "cell_type": "code",
   "execution_count": 5,
   "metadata": {},
   "outputs": [],
   "source": [
    "#import rasterio\n",
    "import pygrib"
   ]
  },
  {
   "cell_type": "code",
   "execution_count": 6,
   "metadata": {},
   "outputs": [],
   "source": [
    "from mpl_toolkits.basemap import Basemap\n",
    "from mpl_toolkits.basemap import shiftgrid"
   ]
  },
  {
   "cell_type": "code",
   "execution_count": 7,
   "metadata": {},
   "outputs": [],
   "source": [
    "import math"
   ]
  },
  {
   "cell_type": "code",
   "execution_count": 8,
   "metadata": {},
   "outputs": [],
   "source": [
    "from matplotlib.colors import ListedColormap, LinearSegmentedColormap\n",
    "from matplotlib.colors import BoundaryNorm"
   ]
  },
  {
   "cell_type": "code",
   "execution_count": null,
   "metadata": {},
   "outputs": [],
   "source": []
  },
  {
   "cell_type": "code",
   "execution_count": 9,
   "metadata": {},
   "outputs": [
    {
     "name": "stdout",
     "output_type": "stream",
     "text": [
      "(3,)\n",
      "[53 52 52]\n"
     ]
    }
   ],
   "source": [
    "weekNumberList = []\n",
    "for yr in range(3):    \n",
    "    weekNumberList.append(52)    \n",
    "weekNumber = np.array(weekNumberList)\n",
    "weekNumber[0] = 53     \n",
    "print(weekNumber.shape)\n",
    "print(weekNumber)\n"
   ]
  },
  {
   "cell_type": "code",
   "execution_count": 10,
   "metadata": {},
   "outputs": [
    {
     "name": "stdout",
     "output_type": "stream",
     "text": [
      "157\n",
      "3\n"
     ]
    }
   ],
   "source": [
    "\n",
    "weeksTot = 0\n",
    "for yr in range(3):      \n",
    "    weeksTot = weeksTot + weekNumber[yr]\n",
    "    \n",
    "print(weeksTot)\n",
    "\n",
    "weeksTot = 3\n",
    "\n",
    "print(weeksTot)\n"
   ]
  },
  {
   "cell_type": "code",
   "execution_count": null,
   "metadata": {},
   "outputs": [],
   "source": []
  },
  {
   "cell_type": "markdown",
   "metadata": {},
   "source": [
    "## Prepare a CPC daily precipitation sample file to condition the ECMWF data in 2018"
   ]
  },
  {
   "cell_type": "code",
   "execution_count": 11,
   "metadata": {},
   "outputs": [
    {
     "name": "stdout",
     "output_type": "stream",
     "text": [
      "2018\n",
      "21\n"
     ]
    }
   ],
   "source": [
    "yrSample = 2018\n",
    "yrSampleStr = str(yrSample)\n",
    "print(yrSampleStr)\n",
    "\n",
    "monSt = 8\n",
    "monEnd = 8\n",
    "\n",
    "daySt = 218    # = from May 7, 2018 to May 21, 2018 init\n",
    "dayEnd = 238   # = from May 7, 2018 to May 21, 2018 init\n",
    "daysTrgt = weeksTot*7\n",
    "\n",
    "print(daysTrgt)"
   ]
  },
  {
   "cell_type": "code",
   "execution_count": 12,
   "metadata": {},
   "outputs": [
    {
     "data": {
      "text/plain": [
       "'C:/rezaul/1.academic/1.research/1.data/CPC/precip/precip.2018.nc'"
      ]
     },
     "execution_count": 12,
     "metadata": {},
     "output_type": "execute_result"
    }
   ],
   "source": [
    "# Loading data downloaded and stored in a local disk\n",
    "ncFileCpc = r'C:/rezaul/1.academic/1.research/1.data/CPC/precip/precip.' + str(yrSampleStr) + '.nc'\n",
    "ncFileCpc"
   ]
  },
  {
   "cell_type": "code",
   "execution_count": 13,
   "metadata": {},
   "outputs": [
    {
     "data": {
      "text/plain": [
       "<class 'netCDF4._netCDF4.Dataset'>\n",
       "root group (NETCDF4_CLASSIC data model, file format HDF5):\n",
       "    Conventions: CF-1.0\n",
       "    Source: ftp://ftp.cpc.ncep.noaa.gov/precip/CPC_UNI_PRCP/\n",
       "    version: V1.0\n",
       "    title: CPC GLOBAL PRCP V1.0 RT\n",
       "    dataset_title: CPC GLOBAL PRCP V1.0\n",
       "    dataset: CPC Global Precipitation\n",
       "    history: Updated 2019-01-28 17:33:20\n",
       "    References: https://www.psl.noaa.gov/data/gridded/data.cpc.globalprecip.html\n",
       "    dimensions(sizes): lat(360), lon(720), time(365)\n",
       "    variables(dimensions): float32 lat(lat), float32 lon(lon), float64 time(time), float32 precip(time, lat, lon)\n",
       "    groups: "
      ]
     },
     "execution_count": 13,
     "metadata": {},
     "output_type": "execute_result"
    }
   ],
   "source": [
    "nc_fid_Cpc = Dataset(ncFileCpc, 'r')\n",
    "nc_fid_Cpc"
   ]
  },
  {
   "cell_type": "code",
   "execution_count": 14,
   "metadata": {},
   "outputs": [
    {
     "data": {
      "text/html": [
       "<div><svg style=\"position: absolute; width: 0; height: 0; overflow: hidden\">\n",
       "<defs>\n",
       "<symbol id=\"icon-database\" viewBox=\"0 0 32 32\">\n",
       "<path d=\"M16 0c-8.837 0-16 2.239-16 5v4c0 2.761 7.163 5 16 5s16-2.239 16-5v-4c0-2.761-7.163-5-16-5z\"></path>\n",
       "<path d=\"M16 17c-8.837 0-16-2.239-16-5v6c0 2.761 7.163 5 16 5s16-2.239 16-5v-6c0 2.761-7.163 5-16 5z\"></path>\n",
       "<path d=\"M16 26c-8.837 0-16-2.239-16-5v6c0 2.761 7.163 5 16 5s16-2.239 16-5v-6c0 2.761-7.163 5-16 5z\"></path>\n",
       "</symbol>\n",
       "<symbol id=\"icon-file-text2\" viewBox=\"0 0 32 32\">\n",
       "<path d=\"M28.681 7.159c-0.694-0.947-1.662-2.053-2.724-3.116s-2.169-2.030-3.116-2.724c-1.612-1.182-2.393-1.319-2.841-1.319h-15.5c-1.378 0-2.5 1.121-2.5 2.5v27c0 1.378 1.122 2.5 2.5 2.5h23c1.378 0 2.5-1.122 2.5-2.5v-19.5c0-0.448-0.137-1.23-1.319-2.841zM24.543 5.457c0.959 0.959 1.712 1.825 2.268 2.543h-4.811v-4.811c0.718 0.556 1.584 1.309 2.543 2.268zM28 29.5c0 0.271-0.229 0.5-0.5 0.5h-23c-0.271 0-0.5-0.229-0.5-0.5v-27c0-0.271 0.229-0.5 0.5-0.5 0 0 15.499-0 15.5 0v7c0 0.552 0.448 1 1 1h7v19.5z\"></path>\n",
       "<path d=\"M23 26h-14c-0.552 0-1-0.448-1-1s0.448-1 1-1h14c0.552 0 1 0.448 1 1s-0.448 1-1 1z\"></path>\n",
       "<path d=\"M23 22h-14c-0.552 0-1-0.448-1-1s0.448-1 1-1h14c0.552 0 1 0.448 1 1s-0.448 1-1 1z\"></path>\n",
       "<path d=\"M23 18h-14c-0.552 0-1-0.448-1-1s0.448-1 1-1h14c0.552 0 1 0.448 1 1s-0.448 1-1 1z\"></path>\n",
       "</symbol>\n",
       "</defs>\n",
       "</svg>\n",
       "<style>/* CSS stylesheet for displaying xarray objects in jupyterlab.\n",
       " *\n",
       " */\n",
       "\n",
       ":root {\n",
       "  --xr-font-color0: var(--jp-content-font-color0, rgba(0, 0, 0, 1));\n",
       "  --xr-font-color2: var(--jp-content-font-color2, rgba(0, 0, 0, 0.54));\n",
       "  --xr-font-color3: var(--jp-content-font-color3, rgba(0, 0, 0, 0.38));\n",
       "  --xr-border-color: var(--jp-border-color2, #e0e0e0);\n",
       "  --xr-disabled-color: var(--jp-layout-color3, #bdbdbd);\n",
       "  --xr-background-color: var(--jp-layout-color0, white);\n",
       "  --xr-background-color-row-even: var(--jp-layout-color1, white);\n",
       "  --xr-background-color-row-odd: var(--jp-layout-color2, #eeeeee);\n",
       "}\n",
       "\n",
       "html[theme=dark],\n",
       "body.vscode-dark {\n",
       "  --xr-font-color0: rgba(255, 255, 255, 1);\n",
       "  --xr-font-color2: rgba(255, 255, 255, 0.54);\n",
       "  --xr-font-color3: rgba(255, 255, 255, 0.38);\n",
       "  --xr-border-color: #1F1F1F;\n",
       "  --xr-disabled-color: #515151;\n",
       "  --xr-background-color: #111111;\n",
       "  --xr-background-color-row-even: #111111;\n",
       "  --xr-background-color-row-odd: #313131;\n",
       "}\n",
       "\n",
       ".xr-wrap {\n",
       "  display: block;\n",
       "  min-width: 300px;\n",
       "  max-width: 700px;\n",
       "}\n",
       "\n",
       ".xr-text-repr-fallback {\n",
       "  /* fallback to plain text repr when CSS is not injected (untrusted notebook) */\n",
       "  display: none;\n",
       "}\n",
       "\n",
       ".xr-header {\n",
       "  padding-top: 6px;\n",
       "  padding-bottom: 6px;\n",
       "  margin-bottom: 4px;\n",
       "  border-bottom: solid 1px var(--xr-border-color);\n",
       "}\n",
       "\n",
       ".xr-header > div,\n",
       ".xr-header > ul {\n",
       "  display: inline;\n",
       "  margin-top: 0;\n",
       "  margin-bottom: 0;\n",
       "}\n",
       "\n",
       ".xr-obj-type,\n",
       ".xr-array-name {\n",
       "  margin-left: 2px;\n",
       "  margin-right: 10px;\n",
       "}\n",
       "\n",
       ".xr-obj-type {\n",
       "  color: var(--xr-font-color2);\n",
       "}\n",
       "\n",
       ".xr-sections {\n",
       "  padding-left: 0 !important;\n",
       "  display: grid;\n",
       "  grid-template-columns: 150px auto auto 1fr 20px 20px;\n",
       "}\n",
       "\n",
       ".xr-section-item {\n",
       "  display: contents;\n",
       "}\n",
       "\n",
       ".xr-section-item input {\n",
       "  display: none;\n",
       "}\n",
       "\n",
       ".xr-section-item input + label {\n",
       "  color: var(--xr-disabled-color);\n",
       "}\n",
       "\n",
       ".xr-section-item input:enabled + label {\n",
       "  cursor: pointer;\n",
       "  color: var(--xr-font-color2);\n",
       "}\n",
       "\n",
       ".xr-section-item input:enabled + label:hover {\n",
       "  color: var(--xr-font-color0);\n",
       "}\n",
       "\n",
       ".xr-section-summary {\n",
       "  grid-column: 1;\n",
       "  color: var(--xr-font-color2);\n",
       "  font-weight: 500;\n",
       "}\n",
       "\n",
       ".xr-section-summary > span {\n",
       "  display: inline-block;\n",
       "  padding-left: 0.5em;\n",
       "}\n",
       "\n",
       ".xr-section-summary-in:disabled + label {\n",
       "  color: var(--xr-font-color2);\n",
       "}\n",
       "\n",
       ".xr-section-summary-in + label:before {\n",
       "  display: inline-block;\n",
       "  content: '►';\n",
       "  font-size: 11px;\n",
       "  width: 15px;\n",
       "  text-align: center;\n",
       "}\n",
       "\n",
       ".xr-section-summary-in:disabled + label:before {\n",
       "  color: var(--xr-disabled-color);\n",
       "}\n",
       "\n",
       ".xr-section-summary-in:checked + label:before {\n",
       "  content: '▼';\n",
       "}\n",
       "\n",
       ".xr-section-summary-in:checked + label > span {\n",
       "  display: none;\n",
       "}\n",
       "\n",
       ".xr-section-summary,\n",
       ".xr-section-inline-details {\n",
       "  padding-top: 4px;\n",
       "  padding-bottom: 4px;\n",
       "}\n",
       "\n",
       ".xr-section-inline-details {\n",
       "  grid-column: 2 / -1;\n",
       "}\n",
       "\n",
       ".xr-section-details {\n",
       "  display: none;\n",
       "  grid-column: 1 / -1;\n",
       "  margin-bottom: 5px;\n",
       "}\n",
       "\n",
       ".xr-section-summary-in:checked ~ .xr-section-details {\n",
       "  display: contents;\n",
       "}\n",
       "\n",
       ".xr-array-wrap {\n",
       "  grid-column: 1 / -1;\n",
       "  display: grid;\n",
       "  grid-template-columns: 20px auto;\n",
       "}\n",
       "\n",
       ".xr-array-wrap > label {\n",
       "  grid-column: 1;\n",
       "  vertical-align: top;\n",
       "}\n",
       "\n",
       ".xr-preview {\n",
       "  color: var(--xr-font-color3);\n",
       "}\n",
       "\n",
       ".xr-array-preview,\n",
       ".xr-array-data {\n",
       "  padding: 0 5px !important;\n",
       "  grid-column: 2;\n",
       "}\n",
       "\n",
       ".xr-array-data,\n",
       ".xr-array-in:checked ~ .xr-array-preview {\n",
       "  display: none;\n",
       "}\n",
       "\n",
       ".xr-array-in:checked ~ .xr-array-data,\n",
       ".xr-array-preview {\n",
       "  display: inline-block;\n",
       "}\n",
       "\n",
       ".xr-dim-list {\n",
       "  display: inline-block !important;\n",
       "  list-style: none;\n",
       "  padding: 0 !important;\n",
       "  margin: 0;\n",
       "}\n",
       "\n",
       ".xr-dim-list li {\n",
       "  display: inline-block;\n",
       "  padding: 0;\n",
       "  margin: 0;\n",
       "}\n",
       "\n",
       ".xr-dim-list:before {\n",
       "  content: '(';\n",
       "}\n",
       "\n",
       ".xr-dim-list:after {\n",
       "  content: ')';\n",
       "}\n",
       "\n",
       ".xr-dim-list li:not(:last-child):after {\n",
       "  content: ',';\n",
       "  padding-right: 5px;\n",
       "}\n",
       "\n",
       ".xr-has-index {\n",
       "  font-weight: bold;\n",
       "}\n",
       "\n",
       ".xr-var-list,\n",
       ".xr-var-item {\n",
       "  display: contents;\n",
       "}\n",
       "\n",
       ".xr-var-item > div,\n",
       ".xr-var-item label,\n",
       ".xr-var-item > .xr-var-name span {\n",
       "  background-color: var(--xr-background-color-row-even);\n",
       "  margin-bottom: 0;\n",
       "}\n",
       "\n",
       ".xr-var-item > .xr-var-name:hover span {\n",
       "  padding-right: 5px;\n",
       "}\n",
       "\n",
       ".xr-var-list > li:nth-child(odd) > div,\n",
       ".xr-var-list > li:nth-child(odd) > label,\n",
       ".xr-var-list > li:nth-child(odd) > .xr-var-name span {\n",
       "  background-color: var(--xr-background-color-row-odd);\n",
       "}\n",
       "\n",
       ".xr-var-name {\n",
       "  grid-column: 1;\n",
       "}\n",
       "\n",
       ".xr-var-dims {\n",
       "  grid-column: 2;\n",
       "}\n",
       "\n",
       ".xr-var-dtype {\n",
       "  grid-column: 3;\n",
       "  text-align: right;\n",
       "  color: var(--xr-font-color2);\n",
       "}\n",
       "\n",
       ".xr-var-preview {\n",
       "  grid-column: 4;\n",
       "}\n",
       "\n",
       ".xr-var-name,\n",
       ".xr-var-dims,\n",
       ".xr-var-dtype,\n",
       ".xr-preview,\n",
       ".xr-attrs dt {\n",
       "  white-space: nowrap;\n",
       "  overflow: hidden;\n",
       "  text-overflow: ellipsis;\n",
       "  padding-right: 10px;\n",
       "}\n",
       "\n",
       ".xr-var-name:hover,\n",
       ".xr-var-dims:hover,\n",
       ".xr-var-dtype:hover,\n",
       ".xr-attrs dt:hover {\n",
       "  overflow: visible;\n",
       "  width: auto;\n",
       "  z-index: 1;\n",
       "}\n",
       "\n",
       ".xr-var-attrs,\n",
       ".xr-var-data {\n",
       "  display: none;\n",
       "  background-color: var(--xr-background-color) !important;\n",
       "  padding-bottom: 5px !important;\n",
       "}\n",
       "\n",
       ".xr-var-attrs-in:checked ~ .xr-var-attrs,\n",
       ".xr-var-data-in:checked ~ .xr-var-data {\n",
       "  display: block;\n",
       "}\n",
       "\n",
       ".xr-var-data > table {\n",
       "  float: right;\n",
       "}\n",
       "\n",
       ".xr-var-name span,\n",
       ".xr-var-data,\n",
       ".xr-attrs {\n",
       "  padding-left: 25px !important;\n",
       "}\n",
       "\n",
       ".xr-attrs,\n",
       ".xr-var-attrs,\n",
       ".xr-var-data {\n",
       "  grid-column: 1 / -1;\n",
       "}\n",
       "\n",
       "dl.xr-attrs {\n",
       "  padding: 0;\n",
       "  margin: 0;\n",
       "  display: grid;\n",
       "  grid-template-columns: 125px auto;\n",
       "}\n",
       "\n",
       ".xr-attrs dt,\n",
       ".xr-attrs dd {\n",
       "  padding: 0;\n",
       "  margin: 0;\n",
       "  float: left;\n",
       "  padding-right: 10px;\n",
       "  width: auto;\n",
       "}\n",
       "\n",
       ".xr-attrs dt {\n",
       "  font-weight: normal;\n",
       "  grid-column: 1;\n",
       "}\n",
       "\n",
       ".xr-attrs dt:hover span {\n",
       "  display: inline-block;\n",
       "  background: var(--xr-background-color);\n",
       "  padding-right: 10px;\n",
       "}\n",
       "\n",
       ".xr-attrs dd {\n",
       "  grid-column: 2;\n",
       "  white-space: pre-wrap;\n",
       "  word-break: break-all;\n",
       "}\n",
       "\n",
       ".xr-icon-database,\n",
       ".xr-icon-file-text2 {\n",
       "  display: inline-block;\n",
       "  vertical-align: middle;\n",
       "  width: 1em;\n",
       "  height: 1.5em !important;\n",
       "  stroke-width: 0;\n",
       "  stroke: currentColor;\n",
       "  fill: currentColor;\n",
       "}\n",
       "</style><pre class='xr-text-repr-fallback'>&lt;xarray.Dataset&gt;\n",
       "Dimensions:  (lat: 360, lon: 720, time: 365)\n",
       "Coordinates:\n",
       "  * lat      (lat) float32 89.75 89.25 88.75 88.25 ... -88.75 -89.25 -89.75\n",
       "  * lon      (lon) float32 0.25 0.75 1.25 1.75 2.25 ... 358.2 358.8 359.2 359.8\n",
       "  * time     (time) datetime64[ns] 2018-01-01 2018-01-02 ... 2018-12-31\n",
       "Data variables:\n",
       "    precip   (time, lat, lon) float32 ...\n",
       "Attributes:\n",
       "    Conventions:    CF-1.0\n",
       "    Source:         ftp://ftp.cpc.ncep.noaa.gov/precip/CPC_UNI_PRCP/\n",
       "    version:        V1.0\n",
       "    title:          CPC GLOBAL PRCP V1.0 RT\n",
       "    dataset_title:  CPC GLOBAL PRCP V1.0\n",
       "    dataset:        CPC Global Precipitation\n",
       "    history:        Updated 2019-01-28 17:33:20\n",
       "    References:     https://www.psl.noaa.gov/data/gridded/data.cpc.globalprec...</pre><div class='xr-wrap' hidden><div class='xr-header'><div class='xr-obj-type'>xarray.Dataset</div></div><ul class='xr-sections'><li class='xr-section-item'><input id='section-27b616fc-9b2b-470e-b96f-7b23339707d1' class='xr-section-summary-in' type='checkbox' disabled ><label for='section-27b616fc-9b2b-470e-b96f-7b23339707d1' class='xr-section-summary'  title='Expand/collapse section'>Dimensions:</label><div class='xr-section-inline-details'><ul class='xr-dim-list'><li><span class='xr-has-index'>lat</span>: 360</li><li><span class='xr-has-index'>lon</span>: 720</li><li><span class='xr-has-index'>time</span>: 365</li></ul></div><div class='xr-section-details'></div></li><li class='xr-section-item'><input id='section-e60b079a-9010-43f2-b7ba-19f7c25623c4' class='xr-section-summary-in' type='checkbox'  checked><label for='section-e60b079a-9010-43f2-b7ba-19f7c25623c4' class='xr-section-summary' >Coordinates: <span>(3)</span></label><div class='xr-section-inline-details'></div><div class='xr-section-details'><ul class='xr-var-list'><li class='xr-var-item'><div class='xr-var-name'><span class='xr-has-index'>lat</span></div><div class='xr-var-dims'>(lat)</div><div class='xr-var-dtype'>float32</div><div class='xr-var-preview xr-preview'>89.75 89.25 88.75 ... -89.25 -89.75</div><input id='attrs-2f955907-ac78-45fe-af0f-b19514056234' class='xr-var-attrs-in' type='checkbox' ><label for='attrs-2f955907-ac78-45fe-af0f-b19514056234' title='Show/Hide attributes'><svg class='icon xr-icon-file-text2'><use xlink:href='#icon-file-text2'></use></svg></label><input id='data-5a33dd23-a868-4347-8060-cebc9b713402' class='xr-var-data-in' type='checkbox'><label for='data-5a33dd23-a868-4347-8060-cebc9b713402' title='Show/Hide data repr'><svg class='icon xr-icon-database'><use xlink:href='#icon-database'></use></svg></label><div class='xr-var-attrs'><dl class='xr-attrs'><dt><span>actual_range :</span></dt><dd>[ 89.75 -89.75]</dd><dt><span>long_name :</span></dt><dd>Latitude</dd><dt><span>units :</span></dt><dd>degrees_north</dd><dt><span>axis :</span></dt><dd>Y</dd><dt><span>standard_name :</span></dt><dd>latitude</dd><dt><span>coordinate_defines :</span></dt><dd>center</dd></dl></div><div class='xr-var-data'><pre>array([ 89.75,  89.25,  88.75, ..., -88.75, -89.25, -89.75], dtype=float32)</pre></div></li><li class='xr-var-item'><div class='xr-var-name'><span class='xr-has-index'>lon</span></div><div class='xr-var-dims'>(lon)</div><div class='xr-var-dtype'>float32</div><div class='xr-var-preview xr-preview'>0.25 0.75 1.25 ... 359.2 359.8</div><input id='attrs-3cf50fb3-adef-4b00-b2d9-7d787ec684d8' class='xr-var-attrs-in' type='checkbox' ><label for='attrs-3cf50fb3-adef-4b00-b2d9-7d787ec684d8' title='Show/Hide attributes'><svg class='icon xr-icon-file-text2'><use xlink:href='#icon-file-text2'></use></svg></label><input id='data-ccfeaecb-7af6-42bd-be37-ad562d8a4b18' class='xr-var-data-in' type='checkbox'><label for='data-ccfeaecb-7af6-42bd-be37-ad562d8a4b18' title='Show/Hide data repr'><svg class='icon xr-icon-database'><use xlink:href='#icon-database'></use></svg></label><div class='xr-var-attrs'><dl class='xr-attrs'><dt><span>long_name :</span></dt><dd>Longitude</dd><dt><span>units :</span></dt><dd>degrees_east</dd><dt><span>axis :</span></dt><dd>X</dd><dt><span>standard_name :</span></dt><dd>longitude</dd><dt><span>actual_range :</span></dt><dd>[2.5000e-01 3.5975e+02]</dd><dt><span>coordinate_defines :</span></dt><dd>center</dd></dl></div><div class='xr-var-data'><pre>array([2.5000e-01, 7.5000e-01, 1.2500e+00, ..., 3.5875e+02, 3.5925e+02,\n",
       "       3.5975e+02], dtype=float32)</pre></div></li><li class='xr-var-item'><div class='xr-var-name'><span class='xr-has-index'>time</span></div><div class='xr-var-dims'>(time)</div><div class='xr-var-dtype'>datetime64[ns]</div><div class='xr-var-preview xr-preview'>2018-01-01 ... 2018-12-31</div><input id='attrs-8a9b4bc3-9e37-4963-ad50-95a30e4b3df6' class='xr-var-attrs-in' type='checkbox' ><label for='attrs-8a9b4bc3-9e37-4963-ad50-95a30e4b3df6' title='Show/Hide attributes'><svg class='icon xr-icon-file-text2'><use xlink:href='#icon-file-text2'></use></svg></label><input id='data-371f8fa5-9af1-44ab-b396-be6c0865f0a4' class='xr-var-data-in' type='checkbox'><label for='data-371f8fa5-9af1-44ab-b396-be6c0865f0a4' title='Show/Hide data repr'><svg class='icon xr-icon-database'><use xlink:href='#icon-database'></use></svg></label><div class='xr-var-attrs'><dl class='xr-attrs'><dt><span>long_name :</span></dt><dd>Time</dd><dt><span>delta_t :</span></dt><dd>0000-00-01 00:00:00</dd><dt><span>avg_period :</span></dt><dd>0000-00-01 00:00:00</dd><dt><span>axis :</span></dt><dd>T</dd><dt><span>standard_name :</span></dt><dd>time</dd><dt><span>coordinate_defines :</span></dt><dd>start</dd><dt><span>actual_range :</span></dt><dd>[1042872. 1043112.]</dd></dl></div><div class='xr-var-data'><pre>array([&#x27;2018-01-01T00:00:00.000000000&#x27;, &#x27;2018-01-02T00:00:00.000000000&#x27;,\n",
       "       &#x27;2018-01-03T00:00:00.000000000&#x27;, ..., &#x27;2018-12-29T00:00:00.000000000&#x27;,\n",
       "       &#x27;2018-12-30T00:00:00.000000000&#x27;, &#x27;2018-12-31T00:00:00.000000000&#x27;],\n",
       "      dtype=&#x27;datetime64[ns]&#x27;)</pre></div></li></ul></div></li><li class='xr-section-item'><input id='section-d3409c17-72db-4674-9cf8-dccfd2fe2fe2' class='xr-section-summary-in' type='checkbox'  checked><label for='section-d3409c17-72db-4674-9cf8-dccfd2fe2fe2' class='xr-section-summary' >Data variables: <span>(1)</span></label><div class='xr-section-inline-details'></div><div class='xr-section-details'><ul class='xr-var-list'><li class='xr-var-item'><div class='xr-var-name'><span>precip</span></div><div class='xr-var-dims'>(time, lat, lon)</div><div class='xr-var-dtype'>float32</div><div class='xr-var-preview xr-preview'>...</div><input id='attrs-26ae468c-7ea5-42c2-a2ef-12cf94ca392e' class='xr-var-attrs-in' type='checkbox' ><label for='attrs-26ae468c-7ea5-42c2-a2ef-12cf94ca392e' title='Show/Hide attributes'><svg class='icon xr-icon-file-text2'><use xlink:href='#icon-file-text2'></use></svg></label><input id='data-e9ff0eb5-dbb6-4d92-b11a-a6fa23c08271' class='xr-var-data-in' type='checkbox'><label for='data-e9ff0eb5-dbb6-4d92-b11a-a6fa23c08271' title='Show/Hide data repr'><svg class='icon xr-icon-database'><use xlink:href='#icon-database'></use></svg></label><div class='xr-var-attrs'><dl class='xr-attrs'><dt><span>units :</span></dt><dd>mm</dd><dt><span>var_desc :</span></dt><dd>Precipitation</dd><dt><span>level_desc :</span></dt><dd>Surface</dd><dt><span>statistic :</span></dt><dd>Total</dd><dt><span>parent_stat :</span></dt><dd>Other</dd><dt><span>long_name :</span></dt><dd>Daily total of precipitation</dd><dt><span>cell_methods :</span></dt><dd>time: sum</dd><dt><span>valid_range :</span></dt><dd>[   0. 1000.]</dd><dt><span>avg_period :</span></dt><dd>0000-00-01 00:00:00</dd><dt><span>actual_range :</span></dt><dd>[  0.   776.75]</dd><dt><span>dataset :</span></dt><dd>CPC Global Precipitation</dd></dl></div><div class='xr-var-data'><pre>[94608000 values with dtype=float32]</pre></div></li></ul></div></li><li class='xr-section-item'><input id='section-b53501b5-aa7a-4a0a-9988-c0535668a9d4' class='xr-section-summary-in' type='checkbox'  checked><label for='section-b53501b5-aa7a-4a0a-9988-c0535668a9d4' class='xr-section-summary' >Attributes: <span>(8)</span></label><div class='xr-section-inline-details'></div><div class='xr-section-details'><dl class='xr-attrs'><dt><span>Conventions :</span></dt><dd>CF-1.0</dd><dt><span>Source :</span></dt><dd>ftp://ftp.cpc.ncep.noaa.gov/precip/CPC_UNI_PRCP/</dd><dt><span>version :</span></dt><dd>V1.0</dd><dt><span>title :</span></dt><dd>CPC GLOBAL PRCP V1.0 RT</dd><dt><span>dataset_title :</span></dt><dd>CPC GLOBAL PRCP V1.0</dd><dt><span>dataset :</span></dt><dd>CPC Global Precipitation</dd><dt><span>history :</span></dt><dd>Updated 2019-01-28 17:33:20</dd><dt><span>References :</span></dt><dd>https://www.psl.noaa.gov/data/gridded/data.cpc.globalprecip.html</dd></dl></div></li></ul></div></div>"
      ],
      "text/plain": [
       "<xarray.Dataset>\n",
       "Dimensions:  (lat: 360, lon: 720, time: 365)\n",
       "Coordinates:\n",
       "  * lat      (lat) float32 89.75 89.25 88.75 88.25 ... -88.75 -89.25 -89.75\n",
       "  * lon      (lon) float32 0.25 0.75 1.25 1.75 2.25 ... 358.2 358.8 359.2 359.8\n",
       "  * time     (time) datetime64[ns] 2018-01-01 2018-01-02 ... 2018-12-31\n",
       "Data variables:\n",
       "    precip   (time, lat, lon) float32 ...\n",
       "Attributes:\n",
       "    Conventions:    CF-1.0\n",
       "    Source:         ftp://ftp.cpc.ncep.noaa.gov/precip/CPC_UNI_PRCP/\n",
       "    version:        V1.0\n",
       "    title:          CPC GLOBAL PRCP V1.0 RT\n",
       "    dataset_title:  CPC GLOBAL PRCP V1.0\n",
       "    dataset:        CPC Global Precipitation\n",
       "    history:        Updated 2019-01-28 17:33:20\n",
       "    References:     https://www.psl.noaa.gov/data/gridded/data.cpc.globalprec..."
      ]
     },
     "execution_count": 14,
     "metadata": {},
     "output_type": "execute_result"
    }
   ],
   "source": [
    "ds_Cpc = xr.open_dataset(ncFileCpc)\n",
    "ds_Cpc"
   ]
  },
  {
   "cell_type": "code",
   "execution_count": 15,
   "metadata": {},
   "outputs": [
    {
     "name": "stdout",
     "output_type": "stream",
     "text": [
      "(360,)\n",
      "(720,)\n",
      "(365, 360, 720)\n"
     ]
    }
   ],
   "source": [
    "latsCpc = nc_fid_Cpc.variables['lat'][:]\n",
    "lonsCpc = nc_fid_Cpc.variables['lon'][:]\n",
    "\n",
    "print(latsCpc.shape)\n",
    "print(lonsCpc.shape)\n",
    "\n",
    "precipCpcGl = nc_fid_Cpc.variables['precip'][:]\n",
    "print(precipCpcGl.shape)"
   ]
  },
  {
   "cell_type": "code",
   "execution_count": 16,
   "metadata": {},
   "outputs": [
    {
     "name": "stdout",
     "output_type": "stream",
     "text": [
      "[ 89.75  89.25  88.75  88.25  87.75  87.25  86.75  86.25  85.75  85.25\n",
      "  84.75  84.25  83.75  83.25  82.75  82.25  81.75  81.25  80.75  80.25\n",
      "  79.75  79.25  78.75  78.25  77.75  77.25  76.75  76.25  75.75  75.25\n",
      "  74.75  74.25  73.75  73.25  72.75  72.25  71.75  71.25  70.75  70.25\n",
      "  69.75  69.25  68.75  68.25  67.75  67.25  66.75  66.25  65.75  65.25\n",
      "  64.75  64.25  63.75  63.25  62.75  62.25  61.75  61.25  60.75  60.25\n",
      "  59.75  59.25  58.75  58.25  57.75  57.25  56.75  56.25  55.75  55.25\n",
      "  54.75  54.25  53.75  53.25  52.75  52.25  51.75  51.25  50.75  50.25\n",
      "  49.75  49.25  48.75  48.25  47.75  47.25  46.75  46.25  45.75  45.25\n",
      "  44.75  44.25  43.75  43.25  42.75  42.25  41.75  41.25  40.75  40.25\n",
      "  39.75  39.25  38.75  38.25  37.75  37.25  36.75  36.25  35.75  35.25\n",
      "  34.75  34.25  33.75  33.25  32.75  32.25  31.75  31.25  30.75  30.25\n",
      "  29.75  29.25  28.75  28.25  27.75  27.25  26.75  26.25  25.75  25.25\n",
      "  24.75  24.25  23.75  23.25  22.75  22.25  21.75  21.25  20.75  20.25\n",
      "  19.75  19.25  18.75  18.25  17.75  17.25  16.75  16.25  15.75  15.25\n",
      "  14.75  14.25  13.75  13.25  12.75  12.25  11.75  11.25  10.75  10.25\n",
      "   9.75   9.25   8.75   8.25   7.75   7.25   6.75   6.25   5.75   5.25\n",
      "   4.75   4.25   3.75   3.25   2.75   2.25   1.75   1.25   0.75   0.25\n",
      "  -0.25  -0.75  -1.25  -1.75  -2.25  -2.75  -3.25  -3.75  -4.25  -4.75\n",
      "  -5.25  -5.75  -6.25  -6.75  -7.25  -7.75  -8.25  -8.75  -9.25  -9.75\n",
      " -10.25 -10.75 -11.25 -11.75 -12.25 -12.75 -13.25 -13.75 -14.25 -14.75\n",
      " -15.25 -15.75 -16.25 -16.75 -17.25 -17.75 -18.25 -18.75 -19.25 -19.75\n",
      " -20.25 -20.75 -21.25 -21.75 -22.25 -22.75 -23.25 -23.75 -24.25 -24.75\n",
      " -25.25 -25.75 -26.25 -26.75 -27.25 -27.75 -28.25 -28.75 -29.25 -29.75\n",
      " -30.25 -30.75 -31.25 -31.75 -32.25 -32.75 -33.25 -33.75 -34.25 -34.75\n",
      " -35.25 -35.75 -36.25 -36.75 -37.25 -37.75 -38.25 -38.75 -39.25 -39.75\n",
      " -40.25 -40.75 -41.25 -41.75 -42.25 -42.75 -43.25 -43.75 -44.25 -44.75\n",
      " -45.25 -45.75 -46.25 -46.75 -47.25 -47.75 -48.25 -48.75 -49.25 -49.75\n",
      " -50.25 -50.75 -51.25 -51.75 -52.25 -52.75 -53.25 -53.75 -54.25 -54.75\n",
      " -55.25 -55.75 -56.25 -56.75 -57.25 -57.75 -58.25 -58.75 -59.25 -59.75\n",
      " -60.25 -60.75 -61.25 -61.75 -62.25 -62.75 -63.25 -63.75 -64.25 -64.75\n",
      " -65.25 -65.75 -66.25 -66.75 -67.25 -67.75 -68.25 -68.75 -69.25 -69.75\n",
      " -70.25 -70.75 -71.25 -71.75 -72.25 -72.75 -73.25 -73.75 -74.25 -74.75\n",
      " -75.25 -75.75 -76.25 -76.75 -77.25 -77.75 -78.25 -78.75 -79.25 -79.75\n",
      " -80.25 -80.75 -81.25 -81.75 -82.25 -82.75 -83.25 -83.75 -84.25 -84.75\n",
      " -85.25 -85.75 -86.25 -86.75 -87.25 -87.75 -88.25 -88.75 -89.25 -89.75]\n"
     ]
    }
   ],
   "source": [
    "print(latsCpc)"
   ]
  },
  {
   "cell_type": "code",
   "execution_count": 17,
   "metadata": {},
   "outputs": [
    {
     "name": "stdout",
     "output_type": "stream",
     "text": [
      "[2.5000e-01 7.5000e-01 1.2500e+00 1.7500e+00 2.2500e+00 2.7500e+00\n",
      " 3.2500e+00 3.7500e+00 4.2500e+00 4.7500e+00 5.2500e+00 5.7500e+00\n",
      " 6.2500e+00 6.7500e+00 7.2500e+00 7.7500e+00 8.2500e+00 8.7500e+00\n",
      " 9.2500e+00 9.7500e+00 1.0250e+01 1.0750e+01 1.1250e+01 1.1750e+01\n",
      " 1.2250e+01 1.2750e+01 1.3250e+01 1.3750e+01 1.4250e+01 1.4750e+01\n",
      " 1.5250e+01 1.5750e+01 1.6250e+01 1.6750e+01 1.7250e+01 1.7750e+01\n",
      " 1.8250e+01 1.8750e+01 1.9250e+01 1.9750e+01 2.0250e+01 2.0750e+01\n",
      " 2.1250e+01 2.1750e+01 2.2250e+01 2.2750e+01 2.3250e+01 2.3750e+01\n",
      " 2.4250e+01 2.4750e+01 2.5250e+01 2.5750e+01 2.6250e+01 2.6750e+01\n",
      " 2.7250e+01 2.7750e+01 2.8250e+01 2.8750e+01 2.9250e+01 2.9750e+01\n",
      " 3.0250e+01 3.0750e+01 3.1250e+01 3.1750e+01 3.2250e+01 3.2750e+01\n",
      " 3.3250e+01 3.3750e+01 3.4250e+01 3.4750e+01 3.5250e+01 3.5750e+01\n",
      " 3.6250e+01 3.6750e+01 3.7250e+01 3.7750e+01 3.8250e+01 3.8750e+01\n",
      " 3.9250e+01 3.9750e+01 4.0250e+01 4.0750e+01 4.1250e+01 4.1750e+01\n",
      " 4.2250e+01 4.2750e+01 4.3250e+01 4.3750e+01 4.4250e+01 4.4750e+01\n",
      " 4.5250e+01 4.5750e+01 4.6250e+01 4.6750e+01 4.7250e+01 4.7750e+01\n",
      " 4.8250e+01 4.8750e+01 4.9250e+01 4.9750e+01 5.0250e+01 5.0750e+01\n",
      " 5.1250e+01 5.1750e+01 5.2250e+01 5.2750e+01 5.3250e+01 5.3750e+01\n",
      " 5.4250e+01 5.4750e+01 5.5250e+01 5.5750e+01 5.6250e+01 5.6750e+01\n",
      " 5.7250e+01 5.7750e+01 5.8250e+01 5.8750e+01 5.9250e+01 5.9750e+01\n",
      " 6.0250e+01 6.0750e+01 6.1250e+01 6.1750e+01 6.2250e+01 6.2750e+01\n",
      " 6.3250e+01 6.3750e+01 6.4250e+01 6.4750e+01 6.5250e+01 6.5750e+01\n",
      " 6.6250e+01 6.6750e+01 6.7250e+01 6.7750e+01 6.8250e+01 6.8750e+01\n",
      " 6.9250e+01 6.9750e+01 7.0250e+01 7.0750e+01 7.1250e+01 7.1750e+01\n",
      " 7.2250e+01 7.2750e+01 7.3250e+01 7.3750e+01 7.4250e+01 7.4750e+01\n",
      " 7.5250e+01 7.5750e+01 7.6250e+01 7.6750e+01 7.7250e+01 7.7750e+01\n",
      " 7.8250e+01 7.8750e+01 7.9250e+01 7.9750e+01 8.0250e+01 8.0750e+01\n",
      " 8.1250e+01 8.1750e+01 8.2250e+01 8.2750e+01 8.3250e+01 8.3750e+01\n",
      " 8.4250e+01 8.4750e+01 8.5250e+01 8.5750e+01 8.6250e+01 8.6750e+01\n",
      " 8.7250e+01 8.7750e+01 8.8250e+01 8.8750e+01 8.9250e+01 8.9750e+01\n",
      " 9.0250e+01 9.0750e+01 9.1250e+01 9.1750e+01 9.2250e+01 9.2750e+01\n",
      " 9.3250e+01 9.3750e+01 9.4250e+01 9.4750e+01 9.5250e+01 9.5750e+01\n",
      " 9.6250e+01 9.6750e+01 9.7250e+01 9.7750e+01 9.8250e+01 9.8750e+01\n",
      " 9.9250e+01 9.9750e+01 1.0025e+02 1.0075e+02 1.0125e+02 1.0175e+02\n",
      " 1.0225e+02 1.0275e+02 1.0325e+02 1.0375e+02 1.0425e+02 1.0475e+02\n",
      " 1.0525e+02 1.0575e+02 1.0625e+02 1.0675e+02 1.0725e+02 1.0775e+02\n",
      " 1.0825e+02 1.0875e+02 1.0925e+02 1.0975e+02 1.1025e+02 1.1075e+02\n",
      " 1.1125e+02 1.1175e+02 1.1225e+02 1.1275e+02 1.1325e+02 1.1375e+02\n",
      " 1.1425e+02 1.1475e+02 1.1525e+02 1.1575e+02 1.1625e+02 1.1675e+02\n",
      " 1.1725e+02 1.1775e+02 1.1825e+02 1.1875e+02 1.1925e+02 1.1975e+02\n",
      " 1.2025e+02 1.2075e+02 1.2125e+02 1.2175e+02 1.2225e+02 1.2275e+02\n",
      " 1.2325e+02 1.2375e+02 1.2425e+02 1.2475e+02 1.2525e+02 1.2575e+02\n",
      " 1.2625e+02 1.2675e+02 1.2725e+02 1.2775e+02 1.2825e+02 1.2875e+02\n",
      " 1.2925e+02 1.2975e+02 1.3025e+02 1.3075e+02 1.3125e+02 1.3175e+02\n",
      " 1.3225e+02 1.3275e+02 1.3325e+02 1.3375e+02 1.3425e+02 1.3475e+02\n",
      " 1.3525e+02 1.3575e+02 1.3625e+02 1.3675e+02 1.3725e+02 1.3775e+02\n",
      " 1.3825e+02 1.3875e+02 1.3925e+02 1.3975e+02 1.4025e+02 1.4075e+02\n",
      " 1.4125e+02 1.4175e+02 1.4225e+02 1.4275e+02 1.4325e+02 1.4375e+02\n",
      " 1.4425e+02 1.4475e+02 1.4525e+02 1.4575e+02 1.4625e+02 1.4675e+02\n",
      " 1.4725e+02 1.4775e+02 1.4825e+02 1.4875e+02 1.4925e+02 1.4975e+02\n",
      " 1.5025e+02 1.5075e+02 1.5125e+02 1.5175e+02 1.5225e+02 1.5275e+02\n",
      " 1.5325e+02 1.5375e+02 1.5425e+02 1.5475e+02 1.5525e+02 1.5575e+02\n",
      " 1.5625e+02 1.5675e+02 1.5725e+02 1.5775e+02 1.5825e+02 1.5875e+02\n",
      " 1.5925e+02 1.5975e+02 1.6025e+02 1.6075e+02 1.6125e+02 1.6175e+02\n",
      " 1.6225e+02 1.6275e+02 1.6325e+02 1.6375e+02 1.6425e+02 1.6475e+02\n",
      " 1.6525e+02 1.6575e+02 1.6625e+02 1.6675e+02 1.6725e+02 1.6775e+02\n",
      " 1.6825e+02 1.6875e+02 1.6925e+02 1.6975e+02 1.7025e+02 1.7075e+02\n",
      " 1.7125e+02 1.7175e+02 1.7225e+02 1.7275e+02 1.7325e+02 1.7375e+02\n",
      " 1.7425e+02 1.7475e+02 1.7525e+02 1.7575e+02 1.7625e+02 1.7675e+02\n",
      " 1.7725e+02 1.7775e+02 1.7825e+02 1.7875e+02 1.7925e+02 1.7975e+02\n",
      " 1.8025e+02 1.8075e+02 1.8125e+02 1.8175e+02 1.8225e+02 1.8275e+02\n",
      " 1.8325e+02 1.8375e+02 1.8425e+02 1.8475e+02 1.8525e+02 1.8575e+02\n",
      " 1.8625e+02 1.8675e+02 1.8725e+02 1.8775e+02 1.8825e+02 1.8875e+02\n",
      " 1.8925e+02 1.8975e+02 1.9025e+02 1.9075e+02 1.9125e+02 1.9175e+02\n",
      " 1.9225e+02 1.9275e+02 1.9325e+02 1.9375e+02 1.9425e+02 1.9475e+02\n",
      " 1.9525e+02 1.9575e+02 1.9625e+02 1.9675e+02 1.9725e+02 1.9775e+02\n",
      " 1.9825e+02 1.9875e+02 1.9925e+02 1.9975e+02 2.0025e+02 2.0075e+02\n",
      " 2.0125e+02 2.0175e+02 2.0225e+02 2.0275e+02 2.0325e+02 2.0375e+02\n",
      " 2.0425e+02 2.0475e+02 2.0525e+02 2.0575e+02 2.0625e+02 2.0675e+02\n",
      " 2.0725e+02 2.0775e+02 2.0825e+02 2.0875e+02 2.0925e+02 2.0975e+02\n",
      " 2.1025e+02 2.1075e+02 2.1125e+02 2.1175e+02 2.1225e+02 2.1275e+02\n",
      " 2.1325e+02 2.1375e+02 2.1425e+02 2.1475e+02 2.1525e+02 2.1575e+02\n",
      " 2.1625e+02 2.1675e+02 2.1725e+02 2.1775e+02 2.1825e+02 2.1875e+02\n",
      " 2.1925e+02 2.1975e+02 2.2025e+02 2.2075e+02 2.2125e+02 2.2175e+02\n",
      " 2.2225e+02 2.2275e+02 2.2325e+02 2.2375e+02 2.2425e+02 2.2475e+02\n",
      " 2.2525e+02 2.2575e+02 2.2625e+02 2.2675e+02 2.2725e+02 2.2775e+02\n",
      " 2.2825e+02 2.2875e+02 2.2925e+02 2.2975e+02 2.3025e+02 2.3075e+02\n",
      " 2.3125e+02 2.3175e+02 2.3225e+02 2.3275e+02 2.3325e+02 2.3375e+02\n",
      " 2.3425e+02 2.3475e+02 2.3525e+02 2.3575e+02 2.3625e+02 2.3675e+02\n",
      " 2.3725e+02 2.3775e+02 2.3825e+02 2.3875e+02 2.3925e+02 2.3975e+02\n",
      " 2.4025e+02 2.4075e+02 2.4125e+02 2.4175e+02 2.4225e+02 2.4275e+02\n",
      " 2.4325e+02 2.4375e+02 2.4425e+02 2.4475e+02 2.4525e+02 2.4575e+02\n",
      " 2.4625e+02 2.4675e+02 2.4725e+02 2.4775e+02 2.4825e+02 2.4875e+02\n",
      " 2.4925e+02 2.4975e+02 2.5025e+02 2.5075e+02 2.5125e+02 2.5175e+02\n",
      " 2.5225e+02 2.5275e+02 2.5325e+02 2.5375e+02 2.5425e+02 2.5475e+02\n",
      " 2.5525e+02 2.5575e+02 2.5625e+02 2.5675e+02 2.5725e+02 2.5775e+02\n",
      " 2.5825e+02 2.5875e+02 2.5925e+02 2.5975e+02 2.6025e+02 2.6075e+02\n",
      " 2.6125e+02 2.6175e+02 2.6225e+02 2.6275e+02 2.6325e+02 2.6375e+02\n",
      " 2.6425e+02 2.6475e+02 2.6525e+02 2.6575e+02 2.6625e+02 2.6675e+02\n",
      " 2.6725e+02 2.6775e+02 2.6825e+02 2.6875e+02 2.6925e+02 2.6975e+02\n",
      " 2.7025e+02 2.7075e+02 2.7125e+02 2.7175e+02 2.7225e+02 2.7275e+02\n",
      " 2.7325e+02 2.7375e+02 2.7425e+02 2.7475e+02 2.7525e+02 2.7575e+02\n",
      " 2.7625e+02 2.7675e+02 2.7725e+02 2.7775e+02 2.7825e+02 2.7875e+02\n",
      " 2.7925e+02 2.7975e+02 2.8025e+02 2.8075e+02 2.8125e+02 2.8175e+02\n",
      " 2.8225e+02 2.8275e+02 2.8325e+02 2.8375e+02 2.8425e+02 2.8475e+02\n",
      " 2.8525e+02 2.8575e+02 2.8625e+02 2.8675e+02 2.8725e+02 2.8775e+02\n",
      " 2.8825e+02 2.8875e+02 2.8925e+02 2.8975e+02 2.9025e+02 2.9075e+02\n",
      " 2.9125e+02 2.9175e+02 2.9225e+02 2.9275e+02 2.9325e+02 2.9375e+02\n",
      " 2.9425e+02 2.9475e+02 2.9525e+02 2.9575e+02 2.9625e+02 2.9675e+02\n",
      " 2.9725e+02 2.9775e+02 2.9825e+02 2.9875e+02 2.9925e+02 2.9975e+02\n",
      " 3.0025e+02 3.0075e+02 3.0125e+02 3.0175e+02 3.0225e+02 3.0275e+02\n",
      " 3.0325e+02 3.0375e+02 3.0425e+02 3.0475e+02 3.0525e+02 3.0575e+02\n",
      " 3.0625e+02 3.0675e+02 3.0725e+02 3.0775e+02 3.0825e+02 3.0875e+02\n",
      " 3.0925e+02 3.0975e+02 3.1025e+02 3.1075e+02 3.1125e+02 3.1175e+02\n",
      " 3.1225e+02 3.1275e+02 3.1325e+02 3.1375e+02 3.1425e+02 3.1475e+02\n",
      " 3.1525e+02 3.1575e+02 3.1625e+02 3.1675e+02 3.1725e+02 3.1775e+02\n",
      " 3.1825e+02 3.1875e+02 3.1925e+02 3.1975e+02 3.2025e+02 3.2075e+02\n",
      " 3.2125e+02 3.2175e+02 3.2225e+02 3.2275e+02 3.2325e+02 3.2375e+02\n",
      " 3.2425e+02 3.2475e+02 3.2525e+02 3.2575e+02 3.2625e+02 3.2675e+02\n",
      " 3.2725e+02 3.2775e+02 3.2825e+02 3.2875e+02 3.2925e+02 3.2975e+02\n",
      " 3.3025e+02 3.3075e+02 3.3125e+02 3.3175e+02 3.3225e+02 3.3275e+02\n",
      " 3.3325e+02 3.3375e+02 3.3425e+02 3.3475e+02 3.3525e+02 3.3575e+02\n",
      " 3.3625e+02 3.3675e+02 3.3725e+02 3.3775e+02 3.3825e+02 3.3875e+02\n",
      " 3.3925e+02 3.3975e+02 3.4025e+02 3.4075e+02 3.4125e+02 3.4175e+02\n",
      " 3.4225e+02 3.4275e+02 3.4325e+02 3.4375e+02 3.4425e+02 3.4475e+02\n",
      " 3.4525e+02 3.4575e+02 3.4625e+02 3.4675e+02 3.4725e+02 3.4775e+02\n",
      " 3.4825e+02 3.4875e+02 3.4925e+02 3.4975e+02 3.5025e+02 3.5075e+02\n",
      " 3.5125e+02 3.5175e+02 3.5225e+02 3.5275e+02 3.5325e+02 3.5375e+02\n",
      " 3.5425e+02 3.5475e+02 3.5525e+02 3.5575e+02 3.5625e+02 3.5675e+02\n",
      " 3.5725e+02 3.5775e+02 3.5825e+02 3.5875e+02 3.5925e+02 3.5975e+02]\n"
     ]
    }
   ],
   "source": [
    "print(lonsCpc)"
   ]
  },
  {
   "cell_type": "code",
   "execution_count": null,
   "metadata": {},
   "outputs": [],
   "source": []
  },
  {
   "cell_type": "markdown",
   "metadata": {},
   "source": [
    "## Subsetting CPC precip for the CONUS area"
   ]
  },
  {
   "cell_type": "code",
   "execution_count": 18,
   "metadata": {},
   "outputs": [],
   "source": [
    "iiCpcSt = 70      # = 55 degree\n",
    "iiCpcEnd = 141    # = 20 degree\n",
    "\n",
    "jjCpcSt = 460   # = 229.75 deg = 130.25 deg W\n",
    "jjCpcEnd = 601\n"
   ]
  },
  {
   "cell_type": "code",
   "execution_count": 19,
   "metadata": {},
   "outputs": [
    {
     "name": "stdout",
     "output_type": "stream",
     "text": [
      "[55.25 54.75 54.25 53.75 53.25 52.75 52.25 51.75 51.25 50.75 50.25 49.75\n",
      " 49.25 48.75 48.25 47.75 47.25 46.75 46.25 45.75 45.25 44.75 44.25 43.75\n",
      " 43.25 42.75 42.25 41.75 41.25 40.75 40.25 39.75 39.25 38.75 38.25 37.75\n",
      " 37.25 36.75 36.25 35.75 35.25 34.75 34.25 33.75 33.25 32.75 32.25 31.75\n",
      " 31.25 30.75 30.25 29.75 29.25 28.75 28.25 27.75 27.25 26.75 26.25 25.75\n",
      " 25.25 24.75 24.25 23.75 23.25 22.75 22.25 21.75 21.25 20.75 20.25 19.75]\n"
     ]
    }
   ],
   "source": [
    "print(latsCpc[iiCpcSt-1:iiCpcEnd])"
   ]
  },
  {
   "cell_type": "code",
   "execution_count": 20,
   "metadata": {},
   "outputs": [
    {
     "name": "stdout",
     "output_type": "stream",
     "text": [
      "(72,)\n",
      "[55.25 54.75 54.25 53.75 53.25 52.75 52.25 51.75 51.25 50.75 50.25 49.75\n",
      " 49.25 48.75 48.25 47.75 47.25 46.75 46.25 45.75 45.25 44.75 44.25 43.75\n",
      " 43.25 42.75 42.25 41.75 41.25 40.75 40.25 39.75 39.25 38.75 38.25 37.75\n",
      " 37.25 36.75 36.25 35.75 35.25 34.75 34.25 33.75 33.25 32.75 32.25 31.75\n",
      " 31.25 30.75 30.25 29.75 29.25 28.75 28.25 27.75 27.25 26.75 26.25 25.75\n",
      " 25.25 24.75 24.25 23.75 23.25 22.75 22.25 21.75 21.25 20.75 20.25 19.75]\n"
     ]
    }
   ],
   "source": [
    "latsConus = latsCpc[iiCpcSt-1:iiCpcEnd]\n",
    "print(latsConus.shape)\n",
    "print(latsConus)"
   ]
  },
  {
   "cell_type": "code",
   "execution_count": 21,
   "metadata": {},
   "outputs": [
    {
     "name": "stdout",
     "output_type": "stream",
     "text": [
      "[229.75 230.25 230.75 231.25 231.75 232.25 232.75 233.25 233.75 234.25\n",
      " 234.75 235.25 235.75 236.25 236.75 237.25 237.75 238.25 238.75 239.25\n",
      " 239.75 240.25 240.75 241.25 241.75 242.25 242.75 243.25 243.75 244.25\n",
      " 244.75 245.25 245.75 246.25 246.75 247.25 247.75 248.25 248.75 249.25\n",
      " 249.75 250.25 250.75 251.25 251.75 252.25 252.75 253.25 253.75 254.25\n",
      " 254.75 255.25 255.75 256.25 256.75 257.25 257.75 258.25 258.75 259.25\n",
      " 259.75 260.25 260.75 261.25 261.75 262.25 262.75 263.25 263.75 264.25\n",
      " 264.75 265.25 265.75 266.25 266.75 267.25 267.75 268.25 268.75 269.25\n",
      " 269.75 270.25 270.75 271.25 271.75 272.25 272.75 273.25 273.75 274.25\n",
      " 274.75 275.25 275.75 276.25 276.75 277.25 277.75 278.25 278.75 279.25\n",
      " 279.75 280.25 280.75 281.25 281.75 282.25 282.75 283.25 283.75 284.25\n",
      " 284.75 285.25 285.75 286.25 286.75 287.25 287.75 288.25 288.75 289.25\n",
      " 289.75 290.25 290.75 291.25 291.75 292.25 292.75 293.25 293.75 294.25\n",
      " 294.75 295.25 295.75 296.25 296.75 297.25 297.75 298.25 298.75 299.25\n",
      " 299.75 300.25]\n"
     ]
    }
   ],
   "source": [
    "print(lonsCpc[jjCpcSt-1:jjCpcEnd])"
   ]
  },
  {
   "cell_type": "code",
   "execution_count": 22,
   "metadata": {},
   "outputs": [
    {
     "name": "stdout",
     "output_type": "stream",
     "text": [
      "(142,)\n",
      "[229.75 230.25 230.75 231.25 231.75 232.25 232.75 233.25 233.75 234.25\n",
      " 234.75 235.25 235.75 236.25 236.75 237.25 237.75 238.25 238.75 239.25\n",
      " 239.75 240.25 240.75 241.25 241.75 242.25 242.75 243.25 243.75 244.25\n",
      " 244.75 245.25 245.75 246.25 246.75 247.25 247.75 248.25 248.75 249.25\n",
      " 249.75 250.25 250.75 251.25 251.75 252.25 252.75 253.25 253.75 254.25\n",
      " 254.75 255.25 255.75 256.25 256.75 257.25 257.75 258.25 258.75 259.25\n",
      " 259.75 260.25 260.75 261.25 261.75 262.25 262.75 263.25 263.75 264.25\n",
      " 264.75 265.25 265.75 266.25 266.75 267.25 267.75 268.25 268.75 269.25\n",
      " 269.75 270.25 270.75 271.25 271.75 272.25 272.75 273.25 273.75 274.25\n",
      " 274.75 275.25 275.75 276.25 276.75 277.25 277.75 278.25 278.75 279.25\n",
      " 279.75 280.25 280.75 281.25 281.75 282.25 282.75 283.25 283.75 284.25\n",
      " 284.75 285.25 285.75 286.25 286.75 287.25 287.75 288.25 288.75 289.25\n",
      " 289.75 290.25 290.75 291.25 291.75 292.25 292.75 293.25 293.75 294.25\n",
      " 294.75 295.25 295.75 296.25 296.75 297.25 297.75 298.25 298.75 299.25\n",
      " 299.75 300.25]\n"
     ]
    }
   ],
   "source": [
    "lonsConus = lonsCpc[jjCpcSt-1:jjCpcEnd]\n",
    "print(lonsConus.shape)\n",
    "print(lonsConus)"
   ]
  },
  {
   "cell_type": "code",
   "execution_count": 23,
   "metadata": {},
   "outputs": [
    {
     "name": "stdout",
     "output_type": "stream",
     "text": [
      "(100,)\n",
      "[235.75 236.25 236.75 237.25 237.75 238.25 238.75 239.25 239.75 240.25\n",
      " 240.75 241.25 241.75 242.25 242.75 243.25 243.75 244.25 244.75 245.25\n",
      " 245.75 246.25 246.75 247.25 247.75 248.25 248.75 249.25 249.75 250.25\n",
      " 250.75 251.25 251.75 252.25 252.75 253.25 253.75 254.25 254.75 255.25\n",
      " 255.75 256.25 256.75 257.25 257.75 258.25 258.75 259.25 259.75 260.25\n",
      " 260.75 261.25 261.75 262.25 262.75 263.25 263.75 264.25 264.75 265.25\n",
      " 265.75 266.25 266.75 267.25 267.75 268.25 268.75 269.25 269.75 270.25\n",
      " 270.75 271.25 271.75 272.25 272.75 273.25 273.75 274.25 274.75 275.25\n",
      " 275.75 276.25 276.75 277.25 277.75 278.25 278.75 279.25 279.75 280.25\n",
      " 280.75 281.25 281.75 282.25 282.75 283.25 283.75 284.25 284.75 285.25]\n"
     ]
    }
   ],
   "source": [
    "lonsConusChk1 = lonsCpc[472-1:571]\n",
    "print(lonsConusChk1.shape)\n",
    "print(lonsConusChk1)"
   ]
  },
  {
   "cell_type": "code",
   "execution_count": 24,
   "metadata": {},
   "outputs": [],
   "source": [
    "bufferCellSt = 13\n",
    "bufferCellEnd = 112"
   ]
  },
  {
   "cell_type": "code",
   "execution_count": 25,
   "metadata": {},
   "outputs": [
    {
     "name": "stdout",
     "output_type": "stream",
     "text": [
      "(100,)\n",
      "[235.75 236.25 236.75 237.25 237.75 238.25 238.75 239.25 239.75 240.25\n",
      " 240.75 241.25 241.75 242.25 242.75 243.25 243.75 244.25 244.75 245.25\n",
      " 245.75 246.25 246.75 247.25 247.75 248.25 248.75 249.25 249.75 250.25\n",
      " 250.75 251.25 251.75 252.25 252.75 253.25 253.75 254.25 254.75 255.25\n",
      " 255.75 256.25 256.75 257.25 257.75 258.25 258.75 259.25 259.75 260.25\n",
      " 260.75 261.25 261.75 262.25 262.75 263.25 263.75 264.25 264.75 265.25\n",
      " 265.75 266.25 266.75 267.25 267.75 268.25 268.75 269.25 269.75 270.25\n",
      " 270.75 271.25 271.75 272.25 272.75 273.25 273.75 274.25 274.75 275.25\n",
      " 275.75 276.25 276.75 277.25 277.75 278.25 278.75 279.25 279.75 280.25\n",
      " 280.75 281.25 281.75 282.25 282.75 283.25 283.75 284.25 284.75 285.25]\n"
     ]
    }
   ],
   "source": [
    "lonsConusBuffer = lonsConus[bufferCellSt-1:bufferCellEnd]\n",
    "print(lonsConusBuffer.shape)\n",
    "print(lonsConusBuffer)"
   ]
  },
  {
   "cell_type": "code",
   "execution_count": 26,
   "metadata": {},
   "outputs": [
    {
     "name": "stdout",
     "output_type": "stream",
     "text": [
      "(21, 72, 142)\n"
     ]
    }
   ],
   "source": [
    "\n",
    "precipCpcConusDays = precipCpcGl[daySt-1:dayEnd,iiCpcSt-1:iiCpcEnd,jjCpcSt-1:jjCpcEnd]\n",
    "print(precipCpcConusDays.shape)"
   ]
  },
  {
   "cell_type": "code",
   "execution_count": 27,
   "metadata": {},
   "outputs": [
    {
     "name": "stdout",
     "output_type": "stream",
     "text": [
      "72\n",
      "142\n",
      "21\n"
     ]
    }
   ],
   "source": [
    "\n",
    "t,y,x = precipCpcConusDays.shape\n",
    "\n",
    "print(y)\n",
    "print(x)\n",
    "print(t)\n"
   ]
  },
  {
   "cell_type": "code",
   "execution_count": 28,
   "metadata": {},
   "outputs": [
    {
     "name": "stdout",
     "output_type": "stream",
     "text": [
      "(72, 142)\n",
      "[[3.60858416557312 1.7175287008285522 0.41484758257865906 ...\n",
      "  0.7112919688224792 0.16330674290657043 0.2587921917438507]\n",
      " [0.8838971257209778 0.313178151845932 0.0 ... 1.139244794845581\n",
      "  1.0623468160629272 1.442520022392273]\n",
      " [0.0 0.0 0.0 ... 2.649423360824585 2.875415802001953 3.7296483516693115]\n",
      " ...\n",
      " [-- -- -- ... -- -- --]\n",
      " [-- -- -- ... -- -- --]\n",
      " [-- -- -- ... -- -- --]]\n"
     ]
    }
   ],
   "source": [
    "timeStepArbitrary = 9\n",
    "precipCpcConusRepr = precipCpcConusDays[timeStepArbitrary,:,:]    # as a representative extent of the field\n",
    "print(precipCpcConusRepr.shape)\n",
    "print(precipCpcConusRepr)"
   ]
  },
  {
   "cell_type": "code",
   "execution_count": null,
   "metadata": {},
   "outputs": [],
   "source": []
  },
  {
   "cell_type": "markdown",
   "metadata": {},
   "source": [
    "## Modifying the CPC file so that the missing data will be nan values"
   ]
  },
  {
   "cell_type": "code",
   "execution_count": 29,
   "metadata": {},
   "outputs": [
    {
     "name": "stdout",
     "output_type": "stream",
     "text": [
      "(72, 142)\n"
     ]
    }
   ],
   "source": [
    "print(precipCpcConusRepr.shape)"
   ]
  },
  {
   "cell_type": "code",
   "execution_count": 30,
   "metadata": {},
   "outputs": [
    {
     "name": "stdout",
     "output_type": "stream",
     "text": [
      "0\n"
     ]
    }
   ],
   "source": [
    "nanCountPrecipCpcConusRepr = np.count_nonzero(np.isnan(precipCpcConusRepr))\n",
    "print(nanCountPrecipCpcConusRepr)"
   ]
  },
  {
   "cell_type": "code",
   "execution_count": 31,
   "metadata": {},
   "outputs": [
    {
     "name": "stdout",
     "output_type": "stream",
     "text": [
      "(72, 142)\n"
     ]
    }
   ],
   "source": [
    "precipCpcConusReprToNan = np.where(precipCpcConusRepr<0, np.nan, precipCpcConusRepr)\n",
    "print(precipCpcConusReprToNan.shape)"
   ]
  },
  {
   "cell_type": "code",
   "execution_count": 32,
   "metadata": {},
   "outputs": [
    {
     "name": "stdout",
     "output_type": "stream",
     "text": [
      "3794\n"
     ]
    }
   ],
   "source": [
    "nanCountPrecipCpcConusReprToNan = np.count_nonzero(np.isnan(precipCpcConusReprToNan))\n",
    "print(nanCountPrecipCpcConusReprToNan)"
   ]
  },
  {
   "cell_type": "code",
   "execution_count": null,
   "metadata": {},
   "outputs": [],
   "source": []
  },
  {
   "cell_type": "markdown",
   "metadata": {},
   "source": [
    "## Fetch CPC data in a loop for three weeks in 2018"
   ]
  },
  {
   "cell_type": "code",
   "execution_count": 33,
   "metadata": {},
   "outputs": [
    {
     "name": "stdout",
     "output_type": "stream",
     "text": [
      "21\n",
      "2018\n",
      "2018\n"
     ]
    }
   ],
   "source": [
    "yrSt = 2018\n",
    "yrEnd = 2018\n",
    "\n",
    "monSt = 8\n",
    "monEnd = 8\n",
    "\n",
    "daySt = 218    # = from May 7, 2018 to May 21, 2018 init\n",
    "dayEnd = 238   # = from May 7, 2018 to May 21, 2018 init\n",
    "daysTrgt = weeksTot*7\n",
    "print(daysTrgt)\n",
    "yrStStr = str(yrSt)\n",
    "print(yrStStr)\n",
    "yrEndStr = str(yrEnd)\n",
    "print(yrEndStr)"
   ]
  },
  {
   "cell_type": "code",
   "execution_count": 34,
   "metadata": {},
   "outputs": [
    {
     "name": "stdout",
     "output_type": "stream",
     "text": [
      "[40.25 39.75 39.25 38.75 38.25 37.75 37.25 36.75 36.25 35.75 35.25 34.75\n",
      " 34.25 33.75 33.25 32.75 32.25 31.75 31.25 30.75 30.25]\n"
     ]
    }
   ],
   "source": [
    "# Targetting 30~40 deg lat\n",
    "latConusLowerSt = 31\n",
    "latConusLowerEnd = 51\n",
    "\n",
    "latsConusLower = latsConus[latConusLowerSt-1:latConusLowerEnd]\n",
    "\n",
    "print(latsConusLower)"
   ]
  },
  {
   "cell_type": "code",
   "execution_count": 35,
   "metadata": {},
   "outputs": [
    {
     "name": "stdout",
     "output_type": "stream",
     "text": [
      "(21, 142)\n"
     ]
    },
    {
     "name": "stderr",
     "output_type": "stream",
     "text": [
      "<ipython-input-35-6e0dd045d1e0>:23: RuntimeWarning: Mean of empty slice\n",
      "  prcpCpcConusNoNegYrsLatAvg = np.nanmean(prcpCpcConusNoNeg, axis=1)      # = (365 x 142)\n"
     ]
    }
   ],
   "source": [
    "\n",
    "yrCounter = 0\n",
    "for yr in range(yrSt,yrEnd+1):\n",
    "    \n",
    "    yrCounter = yrCounter + 1\n",
    "    \n",
    "    yrStr = str(yr)                        # = 2018\n",
    "    daysPerYr = 366 if calendar.isleap(yr) else 365\n",
    "    \n",
    "    filePathCpc = os.path.join(\"C:/rezaul/1.academic/1.research/1.data/CPC/precip\")\n",
    "    fileNameCpc = 'precip.' +yrStr + '.nc'\n",
    "    ncFileCpc = str(filePathCpc)+ '/'+ str(fileNameCpc)\n",
    "    \n",
    "    nc_fid_Cpc = Dataset(ncFileCpc, 'r')\n",
    "    prcpCpcGl = nc_fid_Cpc.variables['precip'][:]   # = (365 x 360 x 720)    \n",
    "    \n",
    "    prcpCpcConus = prcpCpcGl[daySt-1:dayEnd,iiCpcSt-1:iiCpcEnd,jjCpcSt-1:jjCpcEnd]\n",
    "    prcpCpcConusLower = prcpCpcConus[:,latConusLowerSt-1:latConusLowerEnd,:]    \n",
    "    \n",
    "    prcpCpcConusNoNeg = np.where(prcpCpcConusLower<0,np.nan,prcpCpcConusLower)    # = (365 x 21 x 142)\n",
    "    \n",
    "        \n",
    "    if yrCounter == 1:        \n",
    "        prcpCpcConusNoNegYrsLatAvg = np.nanmean(prcpCpcConusNoNeg, axis=1)      # = (365 x 142)\n",
    "        \n",
    "    else:\n",
    "        prcpCpcConusNoNegYrsLatAvgToCat = np.nanmean(prcpCpcConusNoNeg, axis=1)      # = (365 x 142)\n",
    "        \n",
    "        prcpCpcConusNoNegYrsLatAvg = np.concatenate((prcpCpcConusNoNegYrsLatAvg, prcpCpcConusNoNegYrsLatAvgToCat), axis = 0)\n",
    "        \n",
    "        \n",
    "print(prcpCpcConusNoNegYrsLatAvg.shape)  "
   ]
  },
  {
   "cell_type": "code",
   "execution_count": 36,
   "metadata": {},
   "outputs": [
    {
     "name": "stdout",
     "output_type": "stream",
     "text": [
      "72\n",
      "142\n",
      "21\n"
     ]
    }
   ],
   "source": [
    "t,x = prcpCpcConusNoNegYrsLatAvg.shape\n",
    "\n",
    "print(y)\n",
    "print(x)\n",
    "print(t)"
   ]
  },
  {
   "cell_type": "code",
   "execution_count": null,
   "metadata": {},
   "outputs": [],
   "source": []
  },
  {
   "cell_type": "markdown",
   "metadata": {},
   "source": [
    "## Hovmoller Plot for CPC:"
   ]
  },
  {
   "cell_type": "code",
   "execution_count": 37,
   "metadata": {},
   "outputs": [],
   "source": [
    "dayValidationStart = 6   # USER Input = value for May, 2018 = keep it as it is"
   ]
  },
  {
   "cell_type": "code",
   "execution_count": 38,
   "metadata": {},
   "outputs": [],
   "source": [
    "timeList = []\n",
    "for yr in range(yrSt,yrEnd+1): \n",
    "    \n",
    "    for mon in range(monSt,monEnd+1): \n",
    "        _,num_days = calendar.monthrange(yr,mon)\n",
    "        num_days = daysTrgt       \n",
    "        \n",
    "        for day in range(dayValidationStart,dayValidationStart+num_days):          \n",
    "          \n",
    "            \n",
    "            yMDToList = datetime.datetime(yr,mon,day)\n",
    "            timeList.append(yMDToList)           \n",
    "                \n",
    "timeListDf = pd.DataFrame(timeList)"
   ]
  },
  {
   "cell_type": "code",
   "execution_count": 39,
   "metadata": {},
   "outputs": [
    {
     "data": {
      "text/html": [
       "<div>\n",
       "<style scoped>\n",
       "    .dataframe tbody tr th:only-of-type {\n",
       "        vertical-align: middle;\n",
       "    }\n",
       "\n",
       "    .dataframe tbody tr th {\n",
       "        vertical-align: top;\n",
       "    }\n",
       "\n",
       "    .dataframe thead th {\n",
       "        text-align: right;\n",
       "    }\n",
       "</style>\n",
       "<table border=\"1\" class=\"dataframe\">\n",
       "  <thead>\n",
       "    <tr style=\"text-align: right;\">\n",
       "      <th></th>\n",
       "      <th>t1</th>\n",
       "    </tr>\n",
       "  </thead>\n",
       "  <tbody>\n",
       "    <tr>\n",
       "      <th>0</th>\n",
       "      <td>2018-08-06</td>\n",
       "    </tr>\n",
       "    <tr>\n",
       "      <th>1</th>\n",
       "      <td>2018-08-07</td>\n",
       "    </tr>\n",
       "    <tr>\n",
       "      <th>2</th>\n",
       "      <td>2018-08-08</td>\n",
       "    </tr>\n",
       "    <tr>\n",
       "      <th>3</th>\n",
       "      <td>2018-08-09</td>\n",
       "    </tr>\n",
       "    <tr>\n",
       "      <th>4</th>\n",
       "      <td>2018-08-10</td>\n",
       "    </tr>\n",
       "    <tr>\n",
       "      <th>5</th>\n",
       "      <td>2018-08-11</td>\n",
       "    </tr>\n",
       "    <tr>\n",
       "      <th>6</th>\n",
       "      <td>2018-08-12</td>\n",
       "    </tr>\n",
       "    <tr>\n",
       "      <th>7</th>\n",
       "      <td>2018-08-13</td>\n",
       "    </tr>\n",
       "    <tr>\n",
       "      <th>8</th>\n",
       "      <td>2018-08-14</td>\n",
       "    </tr>\n",
       "    <tr>\n",
       "      <th>9</th>\n",
       "      <td>2018-08-15</td>\n",
       "    </tr>\n",
       "    <tr>\n",
       "      <th>10</th>\n",
       "      <td>2018-08-16</td>\n",
       "    </tr>\n",
       "    <tr>\n",
       "      <th>11</th>\n",
       "      <td>2018-08-17</td>\n",
       "    </tr>\n",
       "    <tr>\n",
       "      <th>12</th>\n",
       "      <td>2018-08-18</td>\n",
       "    </tr>\n",
       "    <tr>\n",
       "      <th>13</th>\n",
       "      <td>2018-08-19</td>\n",
       "    </tr>\n",
       "    <tr>\n",
       "      <th>14</th>\n",
       "      <td>2018-08-20</td>\n",
       "    </tr>\n",
       "    <tr>\n",
       "      <th>15</th>\n",
       "      <td>2018-08-21</td>\n",
       "    </tr>\n",
       "    <tr>\n",
       "      <th>16</th>\n",
       "      <td>2018-08-22</td>\n",
       "    </tr>\n",
       "    <tr>\n",
       "      <th>17</th>\n",
       "      <td>2018-08-23</td>\n",
       "    </tr>\n",
       "    <tr>\n",
       "      <th>18</th>\n",
       "      <td>2018-08-24</td>\n",
       "    </tr>\n",
       "    <tr>\n",
       "      <th>19</th>\n",
       "      <td>2018-08-25</td>\n",
       "    </tr>\n",
       "    <tr>\n",
       "      <th>20</th>\n",
       "      <td>2018-08-26</td>\n",
       "    </tr>\n",
       "  </tbody>\n",
       "</table>\n",
       "</div>"
      ],
      "text/plain": [
       "           t1\n",
       "0  2018-08-06\n",
       "1  2018-08-07\n",
       "2  2018-08-08\n",
       "3  2018-08-09\n",
       "4  2018-08-10\n",
       "5  2018-08-11\n",
       "6  2018-08-12\n",
       "7  2018-08-13\n",
       "8  2018-08-14\n",
       "9  2018-08-15\n",
       "10 2018-08-16\n",
       "11 2018-08-17\n",
       "12 2018-08-18\n",
       "13 2018-08-19\n",
       "14 2018-08-20\n",
       "15 2018-08-21\n",
       "16 2018-08-22\n",
       "17 2018-08-23\n",
       "18 2018-08-24\n",
       "19 2018-08-25\n",
       "20 2018-08-26"
      ]
     },
     "execution_count": 39,
     "metadata": {},
     "output_type": "execute_result"
    }
   ],
   "source": [
    "timeListDf.columns = ['t1']\n",
    "timeListDf"
   ]
  },
  {
   "cell_type": "code",
   "execution_count": 40,
   "metadata": {},
   "outputs": [
    {
     "name": "stdout",
     "output_type": "stream",
     "text": [
      "0     2018-08-06\n",
      "2     2018-08-08\n",
      "4     2018-08-10\n",
      "6     2018-08-12\n",
      "8     2018-08-14\n",
      "10    2018-08-16\n",
      "12    2018-08-18\n",
      "14    2018-08-20\n",
      "16    2018-08-22\n",
      "18    2018-08-24\n",
      "20    2018-08-26\n",
      "Name: t1, dtype: object\n",
      "Int64Index([0, 2, 4, 6, 8, 10, 12, 14, 16, 18, 20], dtype='int64')\n"
     ]
    }
   ],
   "source": [
    "yMD = timeListDf['t1'].dt.strftime('%Y-%m-%d').sort_values()\n",
    "multiple = t/daysTrgt*2\n",
    "\n",
    "multiple = np.ceil(multiple)\n",
    "timeTickLebels = yMD[yMD.index % multiple == 0]\n",
    "print(timeTickLebels)\n",
    "timeTicks = yMD.index[yMD.index % multiple == 0]\n",
    "print(timeTicks)"
   ]
  },
  {
   "cell_type": "code",
   "execution_count": 41,
   "metadata": {},
   "outputs": [
    {
     "data": {
      "text/plain": [
       "masked_array(data=[229.75, 230.25, 230.75, 231.25, 231.75, 232.25, 232.75,\n",
       "                   233.25, 233.75, 234.25, 234.75, 235.25, 235.75, 236.25,\n",
       "                   236.75, 237.25, 237.75, 238.25, 238.75, 239.25, 239.75,\n",
       "                   240.25, 240.75, 241.25, 241.75, 242.25, 242.75, 243.25,\n",
       "                   243.75, 244.25, 244.75, 245.25, 245.75, 246.25, 246.75,\n",
       "                   247.25, 247.75, 248.25, 248.75, 249.25, 249.75, 250.25,\n",
       "                   250.75, 251.25, 251.75, 252.25, 252.75, 253.25, 253.75,\n",
       "                   254.25, 254.75, 255.25, 255.75, 256.25, 256.75, 257.25,\n",
       "                   257.75, 258.25, 258.75, 259.25, 259.75, 260.25, 260.75,\n",
       "                   261.25, 261.75, 262.25, 262.75, 263.25, 263.75, 264.25,\n",
       "                   264.75, 265.25, 265.75, 266.25, 266.75, 267.25, 267.75,\n",
       "                   268.25, 268.75, 269.25, 269.75, 270.25, 270.75, 271.25,\n",
       "                   271.75, 272.25, 272.75, 273.25, 273.75, 274.25, 274.75,\n",
       "                   275.25, 275.75, 276.25, 276.75, 277.25, 277.75, 278.25,\n",
       "                   278.75, 279.25, 279.75, 280.25, 280.75, 281.25, 281.75,\n",
       "                   282.25, 282.75, 283.25, 283.75, 284.25, 284.75, 285.25,\n",
       "                   285.75, 286.25, 286.75, 287.25, 287.75, 288.25, 288.75,\n",
       "                   289.25, 289.75, 290.25, 290.75, 291.25, 291.75, 292.25,\n",
       "                   292.75, 293.25, 293.75, 294.25, 294.75, 295.25, 295.75,\n",
       "                   296.25, 296.75, 297.25, 297.75, 298.25, 298.75, 299.25,\n",
       "                   299.75, 300.25],\n",
       "             mask=False,\n",
       "       fill_value=1e+20,\n",
       "            dtype=float32)"
      ]
     },
     "execution_count": 41,
     "metadata": {},
     "output_type": "execute_result"
    }
   ],
   "source": [
    "lonsConus"
   ]
  },
  {
   "cell_type": "code",
   "execution_count": 42,
   "metadata": {},
   "outputs": [
    {
     "name": "stdout",
     "output_type": "stream",
     "text": [
      "(100,)\n",
      "[235.75 236.25 236.75 237.25 237.75 238.25 238.75 239.25 239.75 240.25\n",
      " 240.75 241.25 241.75 242.25 242.75 243.25 243.75 244.25 244.75 245.25\n",
      " 245.75 246.25 246.75 247.25 247.75 248.25 248.75 249.25 249.75 250.25\n",
      " 250.75 251.25 251.75 252.25 252.75 253.25 253.75 254.25 254.75 255.25\n",
      " 255.75 256.25 256.75 257.25 257.75 258.25 258.75 259.25 259.75 260.25\n",
      " 260.75 261.25 261.75 262.25 262.75 263.25 263.75 264.25 264.75 265.25\n",
      " 265.75 266.25 266.75 267.25 267.75 268.25 268.75 269.25 269.75 270.25\n",
      " 270.75 271.25 271.75 272.25 272.75 273.25 273.75 274.25 274.75 275.25\n",
      " 275.75 276.25 276.75 277.25 277.75 278.25 278.75 279.25 279.75 280.25\n",
      " 280.75 281.25 281.75 282.25 282.75 283.25 283.75 284.25 284.75 285.25]\n",
      "(100,)\n"
     ]
    }
   ],
   "source": [
    "lonsConusBufferSt = 13\n",
    "lonsConusBufferEnd = 112\n",
    "\n",
    "lonsConusBuffer = lonsConus[lonsConusBufferSt-1:lonsConusBufferEnd]\n",
    "print(lonsConusBuffer.shape)\n",
    "print(lonsConusBuffer)\n",
    "\n",
    "xBuffer = lonsConusBuffer.shape\n",
    "print(xBuffer)\n"
   ]
  },
  {
   "cell_type": "code",
   "execution_count": 43,
   "metadata": {},
   "outputs": [
    {
     "name": "stdout",
     "output_type": "stream",
     "text": [
      "[124.25, 114.25, 104.25, 94.25, 84.25, 74.25]\n",
      "['124.25', '114.25', '104.25', '94.25', '84.25', '74.25']\n"
     ]
    }
   ],
   "source": [
    "lonListBuffer = []\n",
    "lonBufferSt  = 124.25\n",
    "\n",
    "for iLon in range(6):    # An artifact of 6, only 5 needed\n",
    "        \n",
    "    if iLon == 0:\n",
    "        lonBufferSt = 124.25\n",
    "    else:\n",
    "        lonBufferSt = lonBufferSt - 10\n",
    "        \n",
    "    lonListBuffer.append(lonBufferSt)\n",
    "    \n",
    "print(lonListBuffer)   \n",
    "lonTickLebelsBufferStr = ['124.25','114.25','104.25','94.25','84.25','74.25']\n",
    "\n",
    "print(lonTickLebelsBufferStr)"
   ]
  },
  {
   "cell_type": "code",
   "execution_count": 44,
   "metadata": {},
   "outputs": [
    {
     "name": "stderr",
     "output_type": "stream",
     "text": [
      "<ipython-input-44-ee1bc8a3f073>:22: UserWarning: FixedFormatter should only be used together with FixedLocator\n",
      "  plt.gca().yaxis.set_major_formatter(plt.FixedFormatter(yMD))\n",
      "<ipython-input-44-ee1bc8a3f073>:28: UserWarning: FixedFormatter should only be used together with FixedLocator\n",
      "  plt.gca().set_xticklabels(lonTickLebelsBufferStr, minor=False)\n",
      "<ipython-input-44-ee1bc8a3f073>:34: MatplotlibDeprecationWarning: The 'extend' parameter to Colorbar has no effect because it is overridden by the mappable; it is deprecated since 3.3 and will be removed two minor releases later.\n",
      "  cbar = plt.colorbar(ticks=tickslabels, spacing='proportional', extend='both')\n"
     ]
    },
    {
     "data": {
      "image/png": "[encoded data removed]",
      "text/plain": [
       "<Figure size 864x864 with 2 Axes>"
      ]
     },
     "metadata": {
      "needs_background": "light"
     },
     "output_type": "display_data"
    }
   ],
   "source": [
    "\n",
    "\n",
    "xi = np.arange(0, 100)\n",
    "yi = np.arange(0, t)\n",
    "X, Y = np.meshgrid(xi, yi)\n",
    "\n",
    "vrange = [0,22]\n",
    "vstep = 2.0\n",
    "\n",
    "clevs = np.arange(vrange[0], vrange[1]+vstep, vstep)\n",
    "\n",
    "tickslabels=[0,2,4,6,8,10,12,14,16,18,20,22]\n",
    "\n",
    "norm=BoundaryNorm(tickslabels, len(tickslabels)-1)\n",
    "\n",
    "newcolors = np.vstack((plt.cm.YlGn(np.linspace(0, 1, 2))[2:,:], plt.cm.Greens(np.linspace(0, 1, 11))))\n",
    "\n",
    "palette = ListedColormap(newcolors, name='test')\n",
    "\n",
    "fig, ax = plt.subplots(figsize=(12, 12))\n",
    "\n",
    "cs = plt.contourf(X, Y, prcpCpcConusNoNegYrsLatAvg[:,lonsConusBufferSt-1:lonsConusBufferEnd],norm = norm, cmap=palette,levels=tickslabels, )\n",
    "\n",
    "plt.gca().yaxis.set_major_formatter(plt.FixedFormatter(yMD))\n",
    "\n",
    "plt.gca().set_yticks(timeTicks)\n",
    "plt.gca().set_yticklabels(timeTickLebels, minor=False)\n",
    "plt.gca().invert_yaxis()\n",
    "\n",
    "plt.gca().set_xticklabels(lonTickLebelsBufferStr, minor=False)\n",
    "plt.title('CPC')\n",
    "plt.xlabel('Longitude (°W)')\n",
    "\n",
    "plt.ylabel('Time')\n",
    " \n",
    "cbar = plt.colorbar(ticks=tickslabels, spacing='proportional', extend='both') \n",
    "\n",
    "cbar.set_label('(mm/d)',size=14,rotation=90,labelpad=0.15)\n",
    "\n",
    "plt.grid(b=True, which='major', color='#666666', linestyle='-')\n",
    "\n",
    "plt.show()"
   ]
  },
  {
   "cell_type": "code",
   "execution_count": 45,
   "metadata": {},
   "outputs": [
    {
     "name": "stderr",
     "output_type": "stream",
     "text": [
      "<ipython-input-45-4be1df8d9d39>:18: UserWarning: FixedFormatter should only be used together with FixedLocator\n",
      "  plt.gca().yaxis.set_major_formatter(plt.FixedFormatter(yMD))\n",
      "<ipython-input-45-4be1df8d9d39>:24: UserWarning: FixedFormatter should only be used together with FixedLocator\n",
      "  plt.gca().set_xticklabels(lonTickLebelsBufferStr, minor=False)\n",
      "<ipython-input-45-4be1df8d9d39>:29: MatplotlibDeprecationWarning: The 'extend' parameter to Colorbar has no effect because it is overridden by the mappable; it is deprecated since 3.3 and will be removed two minor releases later.\n",
      "  cbar = plt.colorbar(ticks=tickslabels, spacing='proportional', extend='both')\n"
     ]
    },
    {
     "data": {
      "image/png": "[encoded data removed]",
      "text/plain": [
       "<Figure size 864x864 with 2 Axes>"
      ]
     },
     "metadata": {
      "needs_background": "light"
     },
     "output_type": "display_data"
    }
   ],
   "source": [
    "\n",
    "xi = np.arange(0, 100)\n",
    "yi = np.arange(0, t)\n",
    "X, Y = np.meshgrid(xi, yi)\n",
    "\n",
    "vrange = [0,26]\n",
    "vstep = 2.0\n",
    "clevs = np.arange(vrange[0], vrange[1]+vstep, vstep)\n",
    "\n",
    "tickslabels=[0,2,4,6,8,10,12,14,16,18,20,22,24,26]\n",
    "norm=BoundaryNorm(tickslabels, len(tickslabels)-1)\n",
    "newcolors = np.vstack((plt.cm.YlGn(np.linspace(0, 1, 2))[2:,:], plt.cm.Greens(np.linspace(0, 1, 13))))\n",
    "palette = ListedColormap(newcolors, name='test')\n",
    "\n",
    "fig, ax = plt.subplots(figsize=(12, 12))\n",
    "\n",
    "cs = plt.contourf(X, Y, prcpCpcConusNoNegYrsLatAvg[:,lonsConusBufferSt-1:lonsConusBufferEnd],norm = norm, cmap=palette,levels=tickslabels, )\n",
    "\n",
    "plt.gca().yaxis.set_major_formatter(plt.FixedFormatter(yMD))\n",
    "\n",
    "plt.gca().set_yticks(timeTicks)\n",
    "plt.gca().set_yticklabels(timeTickLebels, minor=False)\n",
    "plt.gca().invert_yaxis()\n",
    "\n",
    "plt.gca().set_xticklabels(lonTickLebelsBufferStr, minor=False)\n",
    "plt.title('CPC')\n",
    "plt.xlabel('Longitude (°W)')\n",
    "plt.ylabel('Time')\n",
    " \n",
    "cbar = plt.colorbar(ticks=tickslabels, spacing='proportional', extend='both') \n",
    "cbar.set_label('(mm/d)',size=14,rotation=90,labelpad=0.15)\n",
    "plt.grid(b=True, which='major', color='#666666', linestyle='-')\n",
    "plt.show()"
   ]
  },
  {
   "cell_type": "code",
   "execution_count": 46,
   "metadata": {},
   "outputs": [
    {
     "name": "stdout",
     "output_type": "stream",
     "text": [
      "(72,)\n",
      "(21,)\n"
     ]
    }
   ],
   "source": [
    "print(latsConus.shape)\n",
    "print(latsConusLower.shape)\n"
   ]
  },
  {
   "cell_type": "code",
   "execution_count": null,
   "metadata": {},
   "outputs": [],
   "source": []
  },
  {
   "cell_type": "markdown",
   "metadata": {},
   "source": [
    "## Extract ECMWF precip data (Lead-One) for three weeks in loop starting from 2018/01/01"
   ]
  },
  {
   "cell_type": "code",
   "execution_count": 47,
   "metadata": {},
   "outputs": [
    {
     "name": "stdout",
     "output_type": "stream",
     "text": [
      "2018\n",
      "2018\n"
     ]
    }
   ],
   "source": [
    "#   C:/rezaul/1.academic/1.research/1.data/ecmwf/wkInit/wkAccum/fcst/2016/20161226/precipFcst.grib\n",
    "yrFcstSt = 2018   # USER Input = keep it\n",
    "yrFcstEnd = 2018   # USER Input = keep it\n",
    "\n",
    "monFcstSt = 8   # July 30 IC = USER Input  = keep it\n",
    "monFcstEnd = 8   # Forecast for Aug 6 through Aug 26 = USER Input  = keep it\n",
    "\n",
    "dayFcstStart = 6   # Aug 6 = USER Input = Forecast for Aug 6 through 26, 2018 = keep it as it is  \n",
    "\n",
    "yrFcstStStr = str(yrFcstSt)\n",
    "print(yrFcstStStr)\n",
    "\n",
    "yrFcstEndStr = str(yrFcstEnd)\n",
    "print(yrFcstEndStr)"
   ]
  },
  {
   "cell_type": "code",
   "execution_count": 48,
   "metadata": {},
   "outputs": [
    {
     "name": "stdout",
     "output_type": "stream",
     "text": [
      "20180806\n"
     ]
    }
   ],
   "source": [
    "\n",
    "monInitLeadOne = 8   # July 30 IC = USER Input  = keep it\n",
    "dayInitLeadOne = 6   # July 30 IC = USER Input = Forecast for Aug 6 through 26, 2018 = keep it as it is   (THIS is NEW compared to 1 wk lead time version)\n",
    "\n",
    "dayFcstLeadOneStartStr = str(yrFcstSt) + str(monInitLeadOne).zfill(2) + str(dayInitLeadOne).zfill(2)\n",
    "print(dayFcstLeadOneStartStr)\n"
   ]
  },
  {
   "cell_type": "code",
   "execution_count": null,
   "metadata": {},
   "outputs": [],
   "source": []
  },
  {
   "cell_type": "code",
   "execution_count": 49,
   "metadata": {},
   "outputs": [
    {
     "name": "stdout",
     "output_type": "stream",
     "text": [
      "['2018-08-06', '2018-08-13', '2018-08-20']\n",
      "['20180806', '20180813', '20180820']\n"
     ]
    }
   ],
   "source": [
    "datesLeadOne = xr.cftime_range(start= dayFcstLeadOneStartStr,freq='7D',periods=weeksTot).strftime('%Y-%m-%d').to_list()   # Targetting May~Sep\n",
    "print(datesLeadOne)\n",
    "\n",
    "datesLeadOneStr = xr.cftime_range(start= dayFcstLeadOneStartStr,freq='7D',periods=weeksTot).strftime('%Y%m%d').to_list()   # Targetting May~Sep\n",
    "print(datesLeadOneStr)"
   ]
  },
  {
   "cell_type": "code",
   "execution_count": 50,
   "metadata": {},
   "outputs": [
    {
     "name": "stdout",
     "output_type": "stream",
     "text": [
      "2018\n",
      "C:/rezaul/1.academic/1.research/1.data/ecmwf/wkInit/dayAccum/fcst/2018/20180806/precipFcst.grib\n",
      "8\n",
      "C:/rezaul/1.academic/1.research/1.data/ecmwf/wkInit/dayAccum/fcst/2018/20180813/precipFcst.grib\n",
      "8\n",
      "C:/rezaul/1.academic/1.research/1.data/ecmwf/wkInit/dayAccum/fcst/2018/20180820/precipFcst.grib\n",
      "8\n",
      "(72, 142, 21)\n"
     ]
    }
   ],
   "source": [
    "\n",
    "yr = yrFcstSt - 1                          # = 2017\n",
    "wkCount = -1 \n",
    "msgTot  = -1\n",
    "\n",
    "for yrID in range(1):\n",
    "    \n",
    "    weeksPerYr = weekNumber[yrID]    \n",
    "    yr = yr + 1                            # = 2018                  \n",
    "    yrStr = str(yr)     \n",
    "    print(yrStr)\n",
    "    \n",
    "    \n",
    "    for wk in range(weeksTot):            \n",
    "        wkCount = wkCount + 1           \n",
    "        wklyInitDate = datesLeadOneStr[wkCount]       \n",
    "                \n",
    "        filePath = r'C:/rezaul/1.academic/1.research/1.data/ecmwf/wkInit/dayAccum/fcst/'+yrStr+'/'+ wklyInitDate\n",
    "        PATH = os.path.join(filePath)\n",
    "        fileToJoin = 'precipFcst.grib'\n",
    "        file = str(filePath) + '/' + str(fileToJoin)\n",
    "        print(file)  \n",
    "        \n",
    "        dataset = gdal.Open(file, gdal.GA_ReadOnly)\n",
    "        message_count = dataset.RasterCount\n",
    "        print(message_count)\n",
    "        \n",
    "        \n",
    "        for msg in range(2, message_count+1):\n",
    "            \n",
    "            msgTot = msgTot + 1\n",
    "            \n",
    "            precipStep = dataset.GetRasterBand(msg)\n",
    "            precipArrayStep = precipStep.ReadAsArray()\n",
    "            \n",
    "            precipRef = dataset.GetRasterBand(msg-1)\n",
    "            precipArrayRef = precipRef.ReadAsArray()            \n",
    "            \n",
    "            precipArrayPosNeg = precipArrayStep - precipArrayRef\n",
    "            \n",
    "            if msgTot == 0:\n",
    "                precipEcmwfConusDaysLeadOne = np.where(precipArrayPosNeg<0,0,precipArrayPosNeg)\n",
    "                \n",
    "            else:\n",
    "                precipEcmwfConusDaysLeadOneToCat = np.where(precipArrayPosNeg<0,0,precipArrayPosNeg)\n",
    "                \n",
    "                precipEcmwfConusDaysLeadOne = np.dstack((precipEcmwfConusDaysLeadOne, precipEcmwfConusDaysLeadOneToCat))                \n",
    "            \n",
    "           \n",
    "            \n",
    "print(precipEcmwfConusDaysLeadOne.shape)      \n"
   ]
  },
  {
   "cell_type": "code",
   "execution_count": null,
   "metadata": {},
   "outputs": [],
   "source": []
  },
  {
   "cell_type": "markdown",
   "metadata": {},
   "source": [
    "## Modifying the ECMWF files (Lead 1) in a loop with the help of the sample CPC modified file"
   ]
  },
  {
   "cell_type": "code",
   "execution_count": 51,
   "metadata": {},
   "outputs": [
    {
     "name": "stdout",
     "output_type": "stream",
     "text": [
      "(72, 142, 21)\n",
      "(72, 142)\n"
     ]
    }
   ],
   "source": [
    "print(precipEcmwfConusDaysLeadOne.shape)\n",
    "print(precipCpcConusReprToNan.shape)"
   ]
  },
  {
   "cell_type": "code",
   "execution_count": 52,
   "metadata": {},
   "outputs": [
    {
     "name": "stdout",
     "output_type": "stream",
     "text": [
      "(72, 142, 21)\n"
     ]
    }
   ],
   "source": [
    "precipEcmwfConusDaysLeadOneToMod = precipEcmwfConusDaysLeadOne.copy()\n",
    "print(precipEcmwfConusDaysLeadOneToMod.shape)"
   ]
  },
  {
   "cell_type": "code",
   "execution_count": 53,
   "metadata": {},
   "outputs": [
    {
     "data": {
      "text/plain": [
       "21"
      ]
     },
     "execution_count": 53,
     "metadata": {},
     "output_type": "execute_result"
    }
   ],
   "source": [
    "t"
   ]
  },
  {
   "cell_type": "code",
   "execution_count": null,
   "metadata": {},
   "outputs": [],
   "source": []
  },
  {
   "cell_type": "code",
   "execution_count": 54,
   "metadata": {},
   "outputs": [
    {
     "name": "stdout",
     "output_type": "stream",
     "text": [
      "(72, 142, 21)\n"
     ]
    }
   ],
   "source": [
    "for step in range(t):  \n",
    "    \n",
    "    precipEcmwfConusDayLeadOneToMod = precipEcmwfConusDaysLeadOneToMod[:,:, step]\n",
    "    precipEcmwfConusDayLeadOneToMod[np.isnan(precipCpcConusReprToNan)] = precipCpcConusReprToNan[np.isnan(precipCpcConusReprToNan)]\n",
    "    \n",
    "    if step == 0:    \n",
    "        precipEcmwfConusDaysLeadOneMod = precipEcmwfConusDayLeadOneToMod\n",
    "        \n",
    "    else:\n",
    "        precipEcmwfConusDaysLeadOneModToCat = precipEcmwfConusDayLeadOneToMod\n",
    "        \n",
    "        precipEcmwfConusDaysLeadOneMod = np.ma.dstack((precipEcmwfConusDaysLeadOneMod,precipEcmwfConusDaysLeadOneModToCat))\n",
    "        \n",
    "        \n",
    "print(precipEcmwfConusDaysLeadOneMod.shape)        \n",
    "                "
   ]
  },
  {
   "cell_type": "code",
   "execution_count": 55,
   "metadata": {},
   "outputs": [
    {
     "name": "stdout",
     "output_type": "stream",
     "text": [
      "(72, 142)\n"
     ]
    }
   ],
   "source": [
    "precipEcmwfConusDaysLeadOneModRepr = precipEcmwfConusDaysLeadOneMod[:,:,timeStepArbitrary]\n",
    "print(precipEcmwfConusDaysLeadOneModRepr.shape)"
   ]
  },
  {
   "cell_type": "code",
   "execution_count": 56,
   "metadata": {},
   "outputs": [
    {
     "name": "stdout",
     "output_type": "stream",
     "text": [
      "3794\n"
     ]
    }
   ],
   "source": [
    "nanCountPrecipEcmwfConusDaysLeadOneModRepr = np.count_nonzero(np.isnan(precipEcmwfConusDaysLeadOneModRepr))\n",
    "print(nanCountPrecipEcmwfConusDaysLeadOneModRepr)"
   ]
  },
  {
   "cell_type": "code",
   "execution_count": null,
   "metadata": {},
   "outputs": [],
   "source": []
  },
  {
   "cell_type": "markdown",
   "metadata": {},
   "source": [
    "## Subsetting the ECMWF modified files (Lead- One) over the lower CONUS (30~40 deg Lat), Compressing the masked cells, and then Averaging "
   ]
  },
  {
   "cell_type": "code",
   "execution_count": 57,
   "metadata": {},
   "outputs": [
    {
     "name": "stdout",
     "output_type": "stream",
     "text": [
      "(72, 142, 21)\n"
     ]
    }
   ],
   "source": [
    "print(precipEcmwfConusDaysLeadOneMod.shape)"
   ]
  },
  {
   "cell_type": "code",
   "execution_count": 58,
   "metadata": {},
   "outputs": [
    {
     "name": "stdout",
     "output_type": "stream",
     "text": [
      "(21, 142, 21)\n"
     ]
    }
   ],
   "source": [
    "precipEcmwfConusLowerDaysLeadOneMod = precipEcmwfConusDaysLeadOneMod[latConusLowerSt-1:latConusLowerEnd,:,:]\n",
    "print(precipEcmwfConusLowerDaysLeadOneMod.shape)"
   ]
  },
  {
   "cell_type": "code",
   "execution_count": 59,
   "metadata": {},
   "outputs": [
    {
     "name": "stdout",
     "output_type": "stream",
     "text": [
      "142\n",
      "21\n"
     ]
    }
   ],
   "source": [
    "print(x)\n",
    "print(t)"
   ]
  },
  {
   "cell_type": "code",
   "execution_count": 60,
   "metadata": {},
   "outputs": [
    {
     "name": "stdout",
     "output_type": "stream",
     "text": [
      "(21, 142)\n"
     ]
    }
   ],
   "source": [
    "precipEcmwfConusLowerDaysLeadOneModLatAvg = np.zeros((t, x))\n",
    "#precipEcmwfConusLowerDaysModLatAvg = np.zeros((t-2, x))\n",
    "\n",
    "print(precipEcmwfConusLowerDaysLeadOneModLatAvg.shape)"
   ]
  },
  {
   "cell_type": "code",
   "execution_count": 61,
   "metadata": {},
   "outputs": [
    {
     "name": "stdout",
     "output_type": "stream",
     "text": [
      "(21, 142)\n"
     ]
    },
    {
     "name": "stderr",
     "output_type": "stream",
     "text": [
      "<ipython-input-61-cc9cd749bdad>:10: RuntimeWarning: Mean of empty slice\n",
      "  meanVal = np.nanmean(precipEcmwfConusLowerDateLeadOneLatModCompressed)\n"
     ]
    }
   ],
   "source": [
    "\n",
    "for step in range(t):   \n",
    "    \n",
    "    precipEcmwfConusLowerDateLeadOneMod = precipEcmwfConusLowerDaysLeadOneMod[:,:, step]\n",
    "        \n",
    "    for lonVal in range(x):\n",
    "        precipEcmwfConusLowerDateLeadOneLatMod = precipEcmwfConusLowerDateLeadOneMod[:,lonVal]\n",
    "                \n",
    "        precipEcmwfConusLowerDateLeadOneLatModCompressed = np.ma.compressed(precipEcmwfConusLowerDateLeadOneLatMod)\n",
    "        \n",
    "        meanVal = np.nanmean(precipEcmwfConusLowerDateLeadOneLatModCompressed)\n",
    "        \n",
    "        precipEcmwfConusLowerDaysLeadOneModLatAvg[step,lonVal] = meanVal\n",
    "        \n",
    "        \n",
    "print(precipEcmwfConusLowerDaysLeadOneModLatAvg.shape)  "
   ]
  },
  {
   "cell_type": "code",
   "execution_count": null,
   "metadata": {},
   "outputs": [],
   "source": []
  },
  {
   "cell_type": "markdown",
   "metadata": {},
   "source": [
    "## Hovmoller Plot for ECMWF masked data (Lead One) for three weeks of 2018"
   ]
  },
  {
   "cell_type": "code",
   "execution_count": 62,
   "metadata": {},
   "outputs": [
    {
     "name": "stderr",
     "output_type": "stream",
     "text": [
      "<ipython-input-62-60bdb5143222>:17: UserWarning: FixedFormatter should only be used together with FixedLocator\n",
      "  plt.gca().yaxis.set_major_formatter(plt.FixedFormatter(yMD))\n",
      "<ipython-input-62-60bdb5143222>:23: UserWarning: FixedFormatter should only be used together with FixedLocator\n",
      "  plt.gca().set_xticklabels(lonTickLebelsBufferStr, minor=False)\n",
      "<ipython-input-62-60bdb5143222>:27: MatplotlibDeprecationWarning: The 'extend' parameter to Colorbar has no effect because it is overridden by the mappable; it is deprecated since 3.3 and will be removed two minor releases later.\n",
      "  cbar = plt.colorbar(ticks=tickslabels, spacing='proportional', extend='both')\n"
     ]
    },
    {
     "data": {
      "image/png": "[encoded data removed]",
      "text/plain": [
       "<Figure size 864x864 with 2 Axes>"
      ]
     },
     "metadata": {
      "needs_background": "light"
     },
     "output_type": "display_data"
    }
   ],
   "source": [
    "\n",
    "xi = np.arange(0, 100)\n",
    "yi = np.arange(0, t)\n",
    "X, Y = np.meshgrid(xi, yi)\n",
    "\n",
    "vrange = [0,26]\n",
    "vstep = 2.0\n",
    "clevs = np.arange(vrange[0], vrange[1]+vstep, vstep)\n",
    "tickslabels=[0,2,4,6,8,10,12,14,16,18,20,22,24,26]\n",
    "norm=BoundaryNorm(tickslabels, len(tickslabels)-1)\n",
    "newcolors = np.vstack((plt.cm.YlGn(np.linspace(0, 1, 2))[2:,:], plt.cm.Greens(np.linspace(0, 1, 13))))\n",
    "palette = ListedColormap(newcolors, name='test')\n",
    "\n",
    "fig, ax = plt.subplots(figsize=(12, 12))\n",
    "\n",
    "cs = plt.contourf(X, Y, precipEcmwfConusLowerDaysLeadOneModLatAvg[:,lonsConusBufferSt-1:lonsConusBufferEnd],norm = norm, cmap=palette,levels=tickslabels, )\n",
    "\n",
    "plt.gca().yaxis.set_major_formatter(plt.FixedFormatter(yMD))\n",
    "\n",
    "plt.gca().set_yticks(timeTicks)\n",
    "plt.gca().set_yticklabels(timeTickLebels, minor=False)\n",
    "plt.gca().invert_yaxis()\n",
    "\n",
    "plt.gca().set_xticklabels(lonTickLebelsBufferStr, minor=False)\n",
    "plt.title('Week 1')\n",
    "plt.xlabel('Longitude (°W)')\n",
    "plt.ylabel('Time') \n",
    "cbar = plt.colorbar(ticks=tickslabels, spacing='proportional', extend='both')\n",
    "cbar.set_label('(mm/d)',size=14,rotation=90,labelpad=0.15)\n",
    "plt.grid(b=True, which='major', color='#666666', linestyle='-')\n",
    "plt.show()"
   ]
  },
  {
   "cell_type": "code",
   "execution_count": null,
   "metadata": {},
   "outputs": [],
   "source": []
  },
  {
   "cell_type": "markdown",
   "metadata": {},
   "source": [
    "## Extract ECMWF precip data (Lead-Two) for three weeks in loop starting from 2018/01/01"
   ]
  },
  {
   "cell_type": "code",
   "execution_count": 63,
   "metadata": {},
   "outputs": [
    {
     "name": "stdout",
     "output_type": "stream",
     "text": [
      "20180730\n"
     ]
    }
   ],
   "source": [
    "\n",
    "monInitLeadTwo = 7   # July 30 IC = USER Input  = keep it\n",
    "dayInitLeadTwo = 30   # July 30 IC = USER Input = Forecast for Aug 6 through 26, 2018 = keep it as it is   (THIS is NEW compared to 1 wk lead time version)\n",
    "\n",
    "dayFcstLeadTwoStartStr = str(yrFcstSt) + str(monInitLeadTwo).zfill(2) + str(dayInitLeadTwo).zfill(2)\n",
    "print(dayFcstLeadTwoStartStr)\n"
   ]
  },
  {
   "cell_type": "code",
   "execution_count": 64,
   "metadata": {},
   "outputs": [
    {
     "name": "stdout",
     "output_type": "stream",
     "text": [
      "['2018-07-30', '2018-08-06', '2018-08-13']\n",
      "['20180730', '20180806', '20180813']\n"
     ]
    }
   ],
   "source": [
    "datesLeadTwo = xr.cftime_range(start= dayFcstLeadTwoStartStr,freq='7D',periods=weeksTot).strftime('%Y-%m-%d').to_list()   # Targetting May~Sep\n",
    "print(datesLeadTwo)\n",
    "\n",
    "datesLeadTwoStr = xr.cftime_range(start= dayFcstLeadTwoStartStr,freq='7D',periods=weeksTot).strftime('%Y%m%d').to_list()   # Targetting May~Sep\n",
    "print(datesLeadTwoStr)"
   ]
  },
  {
   "cell_type": "code",
   "execution_count": 65,
   "metadata": {},
   "outputs": [
    {
     "name": "stdout",
     "output_type": "stream",
     "text": [
      "7\n"
     ]
    }
   ],
   "source": [
    "msgIdLeadTwoSt = 9\n",
    "msgIdLeadTwoEnd = 15\n",
    "msgDaysLeadTwo = msgIdLeadTwoEnd - msgIdLeadTwoSt + 1\n",
    "print(msgDaysLeadTwo)"
   ]
  },
  {
   "cell_type": "code",
   "execution_count": 66,
   "metadata": {},
   "outputs": [
    {
     "name": "stdout",
     "output_type": "stream",
     "text": [
      "2018\n",
      "C:/rezaul/1.academic/1.research/1.data/ecmwf/wkInit/dayAccum/fcst/twoWksLead/2018/20180730/precipFcst.grib\n",
      "16\n",
      "C:/rezaul/1.academic/1.research/1.data/ecmwf/wkInit/dayAccum/fcst/twoWksLead/2018/20180806/precipFcst.grib\n",
      "16\n",
      "C:/rezaul/1.academic/1.research/1.data/ecmwf/wkInit/dayAccum/fcst/twoWksLead/2018/20180813/precipFcst.grib\n",
      "16\n",
      "(72, 142, 21)\n"
     ]
    }
   ],
   "source": [
    "\n",
    "yr = yrFcstSt - 1                          # = 2017\n",
    "wkCount = -1 \n",
    "msgTot  = -1\n",
    "\n",
    "for yrID in range(1):    \n",
    "    weeksPerYr = weekNumber[yrID]    \n",
    "    yr = yr + 1                            # = 2018                  \n",
    "    yrStr = str(yr)     \n",
    "    print(yrStr)    \n",
    "    \n",
    "    for wk in range(weeksTot):            \n",
    "        wkCount = wkCount + 1           \n",
    "        wklyInitDate = datesLeadTwoStr[wkCount]  \n",
    "                \n",
    "        filePath = r'C:/rezaul/1.academic/1.research/1.data/ecmwf/wkInit/dayAccum/fcst/twoWksLead/'+yrStr+'/'+ wklyInitDate\n",
    "        \n",
    "        PATH = os.path.join(filePath)\n",
    "        fileToJoin = 'precipFcst.grib'\n",
    "        file = str(filePath) + '/' + str(fileToJoin)\n",
    "        print(file)  \n",
    "        \n",
    "        dataset = gdal.Open(file, gdal.GA_ReadOnly)\n",
    "        message_count = dataset.RasterCount\n",
    "        print(message_count)       \n",
    "        \n",
    "        \n",
    "        for msg in range(msgIdLeadTwoSt, msgIdLeadTwoEnd+1):          \n",
    "            \n",
    "            msgTot = msgTot + 1            \n",
    "            precipStep = dataset.GetRasterBand(msg)\n",
    "            precipArrayStep = precipStep.ReadAsArray()\n",
    "            \n",
    "            precipRef = dataset.GetRasterBand(msg-1)\n",
    "            precipArrayRef = precipRef.ReadAsArray()            \n",
    "            \n",
    "            precipArrayPosNeg = precipArrayStep - precipArrayRef\n",
    "            \n",
    "            if msgTot == 0:\n",
    "                precipEcmwfConusDaysLeadTwo = np.where(precipArrayPosNeg<0,0,precipArrayPosNeg)\n",
    "                \n",
    "            else:\n",
    "                precipEcmwfConusDaysLeadTwoToCat = np.where(precipArrayPosNeg<0,0,precipArrayPosNeg)\n",
    "                \n",
    "                precipEcmwfConusDaysLeadTwo = np.dstack((precipEcmwfConusDaysLeadTwo, precipEcmwfConusDaysLeadTwoToCat))                \n",
    "            \n",
    "           \n",
    "            \n",
    "print(precipEcmwfConusDaysLeadTwo.shape)    "
   ]
  },
  {
   "cell_type": "code",
   "execution_count": null,
   "metadata": {},
   "outputs": [],
   "source": []
  },
  {
   "cell_type": "markdown",
   "metadata": {},
   "source": [
    "## Modifying the ECMWF files (Lead 2) in a loop with the help of the sample CPC modified file"
   ]
  },
  {
   "cell_type": "code",
   "execution_count": 67,
   "metadata": {},
   "outputs": [
    {
     "name": "stdout",
     "output_type": "stream",
     "text": [
      "(72, 142, 21)\n",
      "(72, 142)\n"
     ]
    }
   ],
   "source": [
    "print(precipEcmwfConusDaysLeadTwo.shape)\n",
    "print(precipCpcConusReprToNan.shape)"
   ]
  },
  {
   "cell_type": "code",
   "execution_count": 68,
   "metadata": {},
   "outputs": [
    {
     "name": "stdout",
     "output_type": "stream",
     "text": [
      "(72, 142, 21)\n"
     ]
    }
   ],
   "source": [
    "precipEcmwfConusDaysLeadTwoToMod = precipEcmwfConusDaysLeadTwo.copy()\n",
    "print(precipEcmwfConusDaysLeadTwoToMod.shape)"
   ]
  },
  {
   "cell_type": "code",
   "execution_count": 69,
   "metadata": {},
   "outputs": [
    {
     "data": {
      "text/plain": [
       "21"
      ]
     },
     "execution_count": 69,
     "metadata": {},
     "output_type": "execute_result"
    }
   ],
   "source": [
    "t"
   ]
  },
  {
   "cell_type": "code",
   "execution_count": 70,
   "metadata": {},
   "outputs": [
    {
     "name": "stdout",
     "output_type": "stream",
     "text": [
      "(72, 142, 21)\n"
     ]
    }
   ],
   "source": [
    "for step in range(t):\n",
    "   \n",
    "    \n",
    "    precipEcmwfConusDayLeadTwoToMod = precipEcmwfConusDaysLeadTwoToMod[:,:, step]\n",
    "    precipEcmwfConusDayLeadTwoToMod[np.isnan(precipCpcConusReprToNan)] = precipCpcConusReprToNan[np.isnan(precipCpcConusReprToNan)]\n",
    "    \n",
    "    if step == 0:    \n",
    "        precipEcmwfConusDaysLeadTwoMod = precipEcmwfConusDayLeadTwoToMod\n",
    "        \n",
    "    else:\n",
    "        precipEcmwfConusDaysLeadTwoModToCat = precipEcmwfConusDayLeadTwoToMod\n",
    "        \n",
    "        precipEcmwfConusDaysLeadTwoMod = np.ma.dstack((precipEcmwfConusDaysLeadTwoMod,precipEcmwfConusDaysLeadTwoModToCat))\n",
    "        \n",
    "        \n",
    "print(precipEcmwfConusDaysLeadTwoMod.shape)    "
   ]
  },
  {
   "cell_type": "code",
   "execution_count": 71,
   "metadata": {},
   "outputs": [
    {
     "name": "stdout",
     "output_type": "stream",
     "text": [
      "(72, 142)\n"
     ]
    }
   ],
   "source": [
    "precipEcmwfConusDaysLeadTwoModRepr = precipEcmwfConusDaysLeadTwoMod[:,:,timeStepArbitrary]\n",
    "print(precipEcmwfConusDaysLeadTwoModRepr.shape)"
   ]
  },
  {
   "cell_type": "code",
   "execution_count": 72,
   "metadata": {},
   "outputs": [
    {
     "name": "stdout",
     "output_type": "stream",
     "text": [
      "3794\n"
     ]
    }
   ],
   "source": [
    "nanCountPrecipEcmwfConusDaysLeadTwoModRepr = np.count_nonzero(np.isnan(precipEcmwfConusDaysLeadTwoModRepr))\n",
    "print(nanCountPrecipEcmwfConusDaysLeadTwoModRepr)"
   ]
  },
  {
   "cell_type": "code",
   "execution_count": null,
   "metadata": {},
   "outputs": [],
   "source": []
  },
  {
   "cell_type": "markdown",
   "metadata": {},
   "source": [
    "## Subsetting the ECMWF modified files (Lead- Two) over the lower CONUS (30~40 deg Lat), Compressing the masked cells, and then Averaging "
   ]
  },
  {
   "cell_type": "code",
   "execution_count": 73,
   "metadata": {},
   "outputs": [
    {
     "name": "stdout",
     "output_type": "stream",
     "text": [
      "(72, 142, 21)\n"
     ]
    }
   ],
   "source": [
    "print(precipEcmwfConusDaysLeadTwoMod.shape)"
   ]
  },
  {
   "cell_type": "code",
   "execution_count": 74,
   "metadata": {},
   "outputs": [
    {
     "name": "stdout",
     "output_type": "stream",
     "text": [
      "(21, 142, 21)\n"
     ]
    }
   ],
   "source": [
    "precipEcmwfConusLowerDaysLeadTwoMod = precipEcmwfConusDaysLeadTwoMod[latConusLowerSt-1:latConusLowerEnd,:,:]\n",
    "print(precipEcmwfConusLowerDaysLeadTwoMod.shape)"
   ]
  },
  {
   "cell_type": "code",
   "execution_count": 75,
   "metadata": {},
   "outputs": [
    {
     "name": "stdout",
     "output_type": "stream",
     "text": [
      "142\n",
      "21\n"
     ]
    }
   ],
   "source": [
    "print(x)\n",
    "print(t)"
   ]
  },
  {
   "cell_type": "code",
   "execution_count": 76,
   "metadata": {},
   "outputs": [
    {
     "name": "stdout",
     "output_type": "stream",
     "text": [
      "(21, 142)\n"
     ]
    }
   ],
   "source": [
    "precipEcmwfConusLowerDaysLeadTwoModLatAvg = np.zeros((t, x))\n",
    "#precipEcmwfConusLowerDaysLeadTwoModLatAvg = np.zeros((t-2, x))\n",
    "\n",
    "print(precipEcmwfConusLowerDaysLeadTwoModLatAvg.shape)"
   ]
  },
  {
   "cell_type": "code",
   "execution_count": 77,
   "metadata": {},
   "outputs": [
    {
     "name": "stdout",
     "output_type": "stream",
     "text": [
      "(21, 142)\n"
     ]
    },
    {
     "name": "stderr",
     "output_type": "stream",
     "text": [
      "<ipython-input-77-6ce0d8fd8dd3>:11: RuntimeWarning: Mean of empty slice\n",
      "  meanVal = np.nanmean(precipEcmwfConusLowerDateLeadTwoLatModCompressed)\n"
     ]
    }
   ],
   "source": [
    "\n",
    "for step in range(t):\n",
    "\n",
    "    \n",
    "    precipEcmwfConusLowerDateLeadTwoMod = precipEcmwfConusLowerDaysLeadTwoMod[:,:, step]\n",
    "    \n",
    "    for lonVal in range(x):\n",
    "        precipEcmwfConusLowerDateLeadTwoLatMod = precipEcmwfConusLowerDateLeadTwoMod[:,lonVal]\n",
    "                \n",
    "        precipEcmwfConusLowerDateLeadTwoLatModCompressed = np.ma.compressed(precipEcmwfConusLowerDateLeadTwoLatMod)\n",
    "        \n",
    "        meanVal = np.nanmean(precipEcmwfConusLowerDateLeadTwoLatModCompressed)\n",
    "        \n",
    "        precipEcmwfConusLowerDaysLeadTwoModLatAvg[step,lonVal] = meanVal\n",
    "        \n",
    "        \n",
    "print(precipEcmwfConusLowerDaysLeadTwoModLatAvg.shape)  "
   ]
  },
  {
   "cell_type": "code",
   "execution_count": null,
   "metadata": {},
   "outputs": [],
   "source": []
  },
  {
   "cell_type": "markdown",
   "metadata": {},
   "source": [
    "## Hovmoller Plot for ECMWF masked data (Lead Two) for three weeks of 2018"
   ]
  },
  {
   "cell_type": "code",
   "execution_count": 78,
   "metadata": {},
   "outputs": [
    {
     "name": "stderr",
     "output_type": "stream",
     "text": [
      "<ipython-input-78-90bdf2f65611>:17: UserWarning: FixedFormatter should only be used together with FixedLocator\n",
      "  plt.gca().yaxis.set_major_formatter(plt.FixedFormatter(yMD))\n",
      "<ipython-input-78-90bdf2f65611>:21: UserWarning: FixedFormatter should only be used together with FixedLocator\n",
      "  plt.gca().set_xticklabels(lonTickLebelsBufferStr, minor=False)\n",
      "<ipython-input-78-90bdf2f65611>:25: MatplotlibDeprecationWarning: The 'extend' parameter to Colorbar has no effect because it is overridden by the mappable; it is deprecated since 3.3 and will be removed two minor releases later.\n",
      "  cbar = plt.colorbar(ticks=tickslabels, spacing='proportional', extend='both')\n"
     ]
    },
    {
     "data": {
      "image/png": "[encoded data removed]",
      "text/plain": [
       "<Figure size 864x864 with 2 Axes>"
      ]
     },
     "metadata": {
      "needs_background": "light"
     },
     "output_type": "display_data"
    }
   ],
   "source": [
    "\n",
    "\n",
    "xi = np.arange(0, 100)\n",
    "yi = np.arange(0, t)\n",
    "X, Y = np.meshgrid(xi, yi)\n",
    "\n",
    "vrange = [0,26]\n",
    "vstep = 2.0\n",
    "clevs = np.arange(vrange[0], vrange[1]+vstep, vstep)\n",
    "tickslabels=[0,2,4,6,8,10,12,14,16,18,20,22,24,26]\n",
    "norm=BoundaryNorm(tickslabels, len(tickslabels)-1)\n",
    "newcolors = np.vstack((plt.cm.YlGn(np.linspace(0, 1, 2))[2:,:], plt.cm.Greens(np.linspace(0, 1, 13))))\n",
    "palette = ListedColormap(newcolors, name='test')\n",
    "\n",
    "fig, ax = plt.subplots(figsize=(12, 12))\n",
    "\n",
    "cs = plt.contourf(X, Y, precipEcmwfConusLowerDaysLeadTwoModLatAvg[:,lonsConusBufferSt-1:lonsConusBufferEnd],norm = norm, cmap=palette,levels=tickslabels, )\n",
    "\n",
    "plt.gca().yaxis.set_major_formatter(plt.FixedFormatter(yMD))\n",
    "plt.gca().set_yticks(timeTicks)\n",
    "plt.gca().set_yticklabels(timeTickLebels, minor=False)\n",
    "plt.gca().invert_yaxis()\n",
    "plt.gca().set_xticklabels(lonTickLebelsBufferStr, minor=False)\n",
    "plt.title('Week 2')\n",
    "plt.xlabel('Longitude (°W)')\n",
    "plt.ylabel('Time')\n",
    "cbar = plt.colorbar(ticks=tickslabels, spacing='proportional', extend='both') \n",
    "cbar.set_label('(mm/d)',size=14,rotation=90,labelpad=0.15)\n",
    "plt.grid(b=True, which='major', color='#666666', linestyle='-')\n",
    "plt.show()"
   ]
  },
  {
   "cell_type": "code",
   "execution_count": null,
   "metadata": {},
   "outputs": [],
   "source": []
  },
  {
   "cell_type": "markdown",
   "metadata": {},
   "source": [
    "## Extract ECMWF precip data (Lead-Three) for three weeks in loop starting from 2018/01/01"
   ]
  },
  {
   "cell_type": "code",
   "execution_count": 79,
   "metadata": {},
   "outputs": [
    {
     "name": "stdout",
     "output_type": "stream",
     "text": [
      "20180723\n"
     ]
    }
   ],
   "source": [
    "\n",
    "monInitLeadThree = 7   # July 30 IC = USER Input  = keep it\n",
    "dayInitLeadThree = 23   # July 30 IC = USER Input = Forecast for Aug 6 through 26, 2018 = keep it as it is   (THIS is NEW compared to 1 wk lead time version)\n",
    "\n",
    "dayFcstLeadThreeStartStr = str(yrFcstSt) + str(monInitLeadThree).zfill(2) + str(dayInitLeadThree).zfill(2)\n",
    "print(dayFcstLeadThreeStartStr)\n"
   ]
  },
  {
   "cell_type": "code",
   "execution_count": 80,
   "metadata": {},
   "outputs": [
    {
     "name": "stdout",
     "output_type": "stream",
     "text": [
      "['2018-07-23', '2018-07-30', '2018-08-06']\n",
      "['20180723', '20180730', '20180806']\n"
     ]
    }
   ],
   "source": [
    "datesLeadThree = xr.cftime_range(start= dayFcstLeadThreeStartStr,freq='7D',periods=weeksTot).strftime('%Y-%m-%d').to_list()   # Targetting May~Sep\n",
    "print(datesLeadThree)\n",
    "\n",
    "datesLeadThreeStr = xr.cftime_range(start= dayFcstLeadThreeStartStr,freq='7D',periods=weeksTot).strftime('%Y%m%d').to_list()   # Targetting May~Sep\n",
    "print(datesLeadThreeStr)"
   ]
  },
  {
   "cell_type": "code",
   "execution_count": 81,
   "metadata": {},
   "outputs": [
    {
     "name": "stdout",
     "output_type": "stream",
     "text": [
      "7\n"
     ]
    }
   ],
   "source": [
    "msgIdLeadThreeSt = 16\n",
    "msgIdLeadThreeEnd = 22\n",
    "msgDaysLeadThree = msgIdLeadThreeEnd - msgIdLeadThreeSt + 1\n",
    "print(msgDaysLeadThree)"
   ]
  },
  {
   "cell_type": "code",
   "execution_count": 82,
   "metadata": {},
   "outputs": [
    {
     "name": "stdout",
     "output_type": "stream",
     "text": [
      "2018\n",
      "C:/rezaul/1.academic/1.research/1.data/ecmwf/wkInit/dayAccum/fcst/threeWksLead/2018/20180723/precipFcst.grib\n",
      "23\n",
      "C:/rezaul/1.academic/1.research/1.data/ecmwf/wkInit/dayAccum/fcst/threeWksLead/2018/20180730/precipFcst.grib\n",
      "23\n",
      "C:/rezaul/1.academic/1.research/1.data/ecmwf/wkInit/dayAccum/fcst/threeWksLead/2018/20180806/precipFcst.grib\n",
      "23\n",
      "(72, 142, 21)\n"
     ]
    }
   ],
   "source": [
    "\n",
    "yr = yrFcstSt - 1                          # = 2017\n",
    "wkCount = -1 \n",
    "msgTot  = -1\n",
    "for yrID in range(1):    \n",
    "    weeksPerYr = weekNumber[yrID]    \n",
    "    yr = yr + 1                            # = 2018                  \n",
    "    yrStr = str(yr)     \n",
    "    print(yrStr)\n",
    "    \n",
    "    \n",
    "    for wk in range(weeksTot):            \n",
    "        wkCount = wkCount + 1           \n",
    "        wklyInitDate = datesLeadThreeStr[wkCount]            \n",
    "        \n",
    "        filePath = r'C:/rezaul/1.academic/1.research/1.data/ecmwf/wkInit/dayAccum/fcst/threeWksLead/'+yrStr+'/'+ wklyInitDate\n",
    "        \n",
    "        PATH = os.path.join(filePath)\n",
    "        fileToJoin = 'precipFcst.grib'\n",
    "        file = str(filePath) + '/' + str(fileToJoin)\n",
    "        print(file)  \n",
    "        \n",
    "        dataset = gdal.Open(file, gdal.GA_ReadOnly)\n",
    "        message_count = dataset.RasterCount\n",
    "        print(message_count)        \n",
    "        \n",
    "        for msg in range(msgIdLeadThreeSt, msgIdLeadThreeEnd+1):\n",
    "            \n",
    "            \n",
    "            msgTot = msgTot + 1            \n",
    "            precipStep = dataset.GetRasterBand(msg)\n",
    "            precipArrayStep = precipStep.ReadAsArray()            \n",
    "            precipRef = dataset.GetRasterBand(msg-1)\n",
    "            precipArrayRef = precipRef.ReadAsArray()           \n",
    "            \n",
    "            precipArrayPosNeg = precipArrayStep - precipArrayRef\n",
    "            \n",
    "            if msgTot == 0:\n",
    "                precipEcmwfConusDaysLeadThree = np.where(precipArrayPosNeg<0,0,precipArrayPosNeg)\n",
    "                \n",
    "            else:\n",
    "                precipEcmwfConusDaysLeadThreeToCat = np.where(precipArrayPosNeg<0,0,precipArrayPosNeg)\n",
    "                \n",
    "                precipEcmwfConusDaysLeadThree = np.dstack((precipEcmwfConusDaysLeadThree, precipEcmwfConusDaysLeadThreeToCat))                \n",
    "            \n",
    "           \n",
    "            \n",
    "print(precipEcmwfConusDaysLeadThree.shape) "
   ]
  },
  {
   "cell_type": "code",
   "execution_count": null,
   "metadata": {},
   "outputs": [],
   "source": []
  },
  {
   "cell_type": "markdown",
   "metadata": {},
   "source": [
    "## Modifying the ECMWF files (Lead 3) in a loop with the help of the sample CPC modified file"
   ]
  },
  {
   "cell_type": "code",
   "execution_count": 83,
   "metadata": {},
   "outputs": [
    {
     "name": "stdout",
     "output_type": "stream",
     "text": [
      "(72, 142, 21)\n",
      "(72, 142)\n"
     ]
    }
   ],
   "source": [
    "print(precipEcmwfConusDaysLeadThree.shape)\n",
    "print(precipCpcConusReprToNan.shape)"
   ]
  },
  {
   "cell_type": "code",
   "execution_count": 84,
   "metadata": {},
   "outputs": [
    {
     "name": "stdout",
     "output_type": "stream",
     "text": [
      "(72, 142, 21)\n"
     ]
    }
   ],
   "source": [
    "precipEcmwfConusDaysLeadThreeToMod = precipEcmwfConusDaysLeadThree.copy()\n",
    "print(precipEcmwfConusDaysLeadThreeToMod.shape)"
   ]
  },
  {
   "cell_type": "code",
   "execution_count": 85,
   "metadata": {},
   "outputs": [
    {
     "data": {
      "text/plain": [
       "21"
      ]
     },
     "execution_count": 85,
     "metadata": {},
     "output_type": "execute_result"
    }
   ],
   "source": [
    "t"
   ]
  },
  {
   "cell_type": "code",
   "execution_count": 86,
   "metadata": {},
   "outputs": [
    {
     "name": "stdout",
     "output_type": "stream",
     "text": [
      "(72, 142, 21)\n"
     ]
    }
   ],
   "source": [
    "for step in range(t):  \n",
    "    \n",
    "    precipEcmwfConusDayLeadThreeToMod = precipEcmwfConusDaysLeadThreeToMod[:,:, step]\n",
    "    precipEcmwfConusDayLeadThreeToMod[np.isnan(precipCpcConusReprToNan)] = precipCpcConusReprToNan[np.isnan(precipCpcConusReprToNan)]\n",
    "    \n",
    "    if step == 0:    \n",
    "        precipEcmwfConusDaysLeadThreeMod = precipEcmwfConusDayLeadThreeToMod\n",
    "        \n",
    "    else:\n",
    "        precipEcmwfConusDaysLeadThreeModToCat = precipEcmwfConusDayLeadThreeToMod\n",
    "        \n",
    "        precipEcmwfConusDaysLeadThreeMod = np.ma.dstack((precipEcmwfConusDaysLeadThreeMod,precipEcmwfConusDaysLeadThreeModToCat))\n",
    "        \n",
    "        \n",
    "print(precipEcmwfConusDaysLeadThreeMod.shape)    "
   ]
  },
  {
   "cell_type": "code",
   "execution_count": 87,
   "metadata": {},
   "outputs": [
    {
     "name": "stdout",
     "output_type": "stream",
     "text": [
      "(72, 142)\n"
     ]
    }
   ],
   "source": [
    "precipEcmwfConusDaysLeadThreeModRepr = precipEcmwfConusDaysLeadThreeMod[:,:,timeStepArbitrary]\n",
    "print(precipEcmwfConusDaysLeadThreeModRepr.shape)"
   ]
  },
  {
   "cell_type": "code",
   "execution_count": 88,
   "metadata": {},
   "outputs": [
    {
     "name": "stdout",
     "output_type": "stream",
     "text": [
      "3794\n"
     ]
    }
   ],
   "source": [
    "nanCountPrecipEcmwfConusDaysLeadThreeModRepr = np.count_nonzero(np.isnan(precipEcmwfConusDaysLeadThreeModRepr))\n",
    "print(nanCountPrecipEcmwfConusDaysLeadThreeModRepr)"
   ]
  },
  {
   "cell_type": "markdown",
   "metadata": {},
   "source": [
    "## Subsetting the ECMWF modified files (Lead- Three) over the lower CONUS (30~40 deg Lat), Compressing the masked cells, and then Averaging "
   ]
  },
  {
   "cell_type": "code",
   "execution_count": 89,
   "metadata": {},
   "outputs": [
    {
     "name": "stdout",
     "output_type": "stream",
     "text": [
      "(72, 142, 21)\n"
     ]
    }
   ],
   "source": [
    "print(precipEcmwfConusDaysLeadThreeMod.shape)"
   ]
  },
  {
   "cell_type": "code",
   "execution_count": 90,
   "metadata": {},
   "outputs": [
    {
     "name": "stdout",
     "output_type": "stream",
     "text": [
      "(21, 142, 21)\n"
     ]
    }
   ],
   "source": [
    "precipEcmwfConusLowerDaysLeadThreeMod = precipEcmwfConusDaysLeadThreeMod[latConusLowerSt-1:latConusLowerEnd,:,:]\n",
    "print(precipEcmwfConusLowerDaysLeadThreeMod.shape)"
   ]
  },
  {
   "cell_type": "code",
   "execution_count": 91,
   "metadata": {},
   "outputs": [
    {
     "name": "stdout",
     "output_type": "stream",
     "text": [
      "142\n",
      "21\n"
     ]
    }
   ],
   "source": [
    "print(x)\n",
    "print(t)"
   ]
  },
  {
   "cell_type": "code",
   "execution_count": 92,
   "metadata": {},
   "outputs": [
    {
     "name": "stdout",
     "output_type": "stream",
     "text": [
      "(21, 142)\n"
     ]
    }
   ],
   "source": [
    "precipEcmwfConusLowerDaysLeadThreeModLatAvg = np.zeros((t, x))\n",
    "#precipEcmwfConusLowerDaysLeadTwoModLatAvg = np.zeros((t-2, x))\n",
    "\n",
    "print(precipEcmwfConusLowerDaysLeadThreeModLatAvg.shape)"
   ]
  },
  {
   "cell_type": "code",
   "execution_count": 93,
   "metadata": {},
   "outputs": [
    {
     "name": "stdout",
     "output_type": "stream",
     "text": [
      "(21, 142)\n"
     ]
    },
    {
     "name": "stderr",
     "output_type": "stream",
     "text": [
      "<ipython-input-93-74f3f7dd647f>:10: RuntimeWarning: Mean of empty slice\n",
      "  meanVal = np.nanmean(precipEcmwfConusLowerDateLeadThreeLatModCompressed)\n"
     ]
    }
   ],
   "source": [
    "\n",
    "for step in range(t): \n",
    "    \n",
    "    precipEcmwfConusLowerDateLeadThreeMod = precipEcmwfConusLowerDaysLeadThreeMod[:,:, step]\n",
    "        \n",
    "    for lonVal in range(x):\n",
    "        precipEcmwfConusLowerDateLeadThreeLatMod = precipEcmwfConusLowerDateLeadThreeMod[:,lonVal]\n",
    "                \n",
    "        precipEcmwfConusLowerDateLeadThreeLatModCompressed = np.ma.compressed(precipEcmwfConusLowerDateLeadThreeLatMod)\n",
    "        \n",
    "        meanVal = np.nanmean(precipEcmwfConusLowerDateLeadThreeLatModCompressed)\n",
    "        \n",
    "        precipEcmwfConusLowerDaysLeadThreeModLatAvg[step,lonVal] = meanVal\n",
    "        \n",
    "        \n",
    "print(precipEcmwfConusLowerDaysLeadThreeModLatAvg.shape)  "
   ]
  },
  {
   "cell_type": "code",
   "execution_count": null,
   "metadata": {},
   "outputs": [],
   "source": []
  },
  {
   "cell_type": "markdown",
   "metadata": {},
   "source": [
    "## Hovmoller Plot for ECMWF masked data (Lead Three) for three weeks of 2018"
   ]
  },
  {
   "cell_type": "code",
   "execution_count": 94,
   "metadata": {},
   "outputs": [
    {
     "name": "stderr",
     "output_type": "stream",
     "text": [
      "<ipython-input-94-6334b7f75ebd>:17: UserWarning: FixedFormatter should only be used together with FixedLocator\n",
      "  plt.gca().yaxis.set_major_formatter(plt.FixedFormatter(yMD))\n",
      "<ipython-input-94-6334b7f75ebd>:23: UserWarning: FixedFormatter should only be used together with FixedLocator\n",
      "  plt.gca().set_xticklabels(lonTickLebelsBufferStr, minor=False)\n",
      "<ipython-input-94-6334b7f75ebd>:28: MatplotlibDeprecationWarning: The 'extend' parameter to Colorbar has no effect because it is overridden by the mappable; it is deprecated since 3.3 and will be removed two minor releases later.\n",
      "  cbar = plt.colorbar(ticks=tickslabels, spacing='proportional', extend='both')\n"
     ]
    },
    {
     "data": {
      "image/png": "[encoded data removed]",
      "text/plain": [
       "<Figure size 864x864 with 2 Axes>"
      ]
     },
     "metadata": {
      "needs_background": "light"
     },
     "output_type": "display_data"
    }
   ],
   "source": [
    "\n",
    "\n",
    "xi = np.arange(0, 100)\n",
    "yi = np.arange(0, t)\n",
    "X, Y = np.meshgrid(xi, yi)\n",
    "\n",
    "vrange = [0,26]\n",
    "vstep = 2.0\n",
    "clevs = np.arange(vrange[0], vrange[1]+vstep, vstep)\n",
    "tickslabels=[0,2,4,6,8,10,12,14,16,18,20,22,24,26]\n",
    "norm=BoundaryNorm(tickslabels, len(tickslabels)-1)\n",
    "newcolors = np.vstack((plt.cm.YlGn(np.linspace(0, 1, 2))[2:,:], plt.cm.Greens(np.linspace(0, 1, 13))))\n",
    "palette = ListedColormap(newcolors, name='test')\n",
    "\n",
    "fig, ax = plt.subplots(figsize=(12, 12))\n",
    "\n",
    "cs = plt.contourf(X, Y, precipEcmwfConusLowerDaysLeadThreeModLatAvg[:,lonsConusBufferSt-1:lonsConusBufferEnd],norm = norm, cmap=palette,levels=tickslabels, )\n",
    "\n",
    "plt.gca().yaxis.set_major_formatter(plt.FixedFormatter(yMD))\n",
    "\n",
    "plt.gca().set_yticks(timeTicks)\n",
    "plt.gca().set_yticklabels(timeTickLebels, minor=False)\n",
    "plt.gca().invert_yaxis()\n",
    "\n",
    "plt.gca().set_xticklabels(lonTickLebelsBufferStr, minor=False)\n",
    "plt.title('Week 3')\n",
    "plt.xlabel('Longitude (°W)')\n",
    "plt.ylabel('Time')\n",
    " \n",
    "cbar = plt.colorbar(ticks=tickslabels, spacing='proportional', extend='both') \n",
    "cbar.set_label('(mm/d)',size=14,rotation=90,labelpad=0.15)\n",
    "\n",
    "plt.grid(b=True, which='major', color='#666666', linestyle='-')\n",
    "\n",
    "plt.show()"
   ]
  },
  {
   "cell_type": "code",
   "execution_count": null,
   "metadata": {},
   "outputs": [],
   "source": []
  },
  {
   "cell_type": "markdown",
   "metadata": {},
   "source": [
    "## Calculate Marginals"
   ]
  },
  {
   "cell_type": "markdown",
   "metadata": {},
   "source": [
    "## Marginals for CPC"
   ]
  },
  {
   "cell_type": "code",
   "execution_count": 95,
   "metadata": {},
   "outputs": [
    {
     "name": "stdout",
     "output_type": "stream",
     "text": [
      "(21, 142)\n"
     ]
    }
   ],
   "source": [
    "print(prcpCpcConusNoNegYrsLatAvg.shape)"
   ]
  },
  {
   "cell_type": "code",
   "execution_count": 96,
   "metadata": {},
   "outputs": [
    {
     "name": "stdout",
     "output_type": "stream",
     "text": [
      "(21, 100)\n"
     ]
    }
   ],
   "source": [
    "print(prcpCpcConusNoNegYrsLatAvg[:,lonsConusBufferSt-1:lonsConusBufferEnd].shape)"
   ]
  },
  {
   "cell_type": "code",
   "execution_count": 97,
   "metadata": {},
   "outputs": [
    {
     "name": "stdout",
     "output_type": "stream",
     "text": [
      "21\n",
      "142\n"
     ]
    }
   ],
   "source": [
    "print(t)\n",
    "print(x)"
   ]
  },
  {
   "cell_type": "code",
   "execution_count": 98,
   "metadata": {},
   "outputs": [
    {
     "name": "stdout",
     "output_type": "stream",
     "text": [
      "(100,)\n"
     ]
    }
   ],
   "source": [
    "prcpCpcConusNoNegYrsLatAvgSumDays = np.nansum(prcpCpcConusNoNegYrsLatAvg[:,lonsConusBufferSt-1:lonsConusBufferEnd], axis = 0)\n",
    "print(prcpCpcConusNoNegYrsLatAvgSumDays.shape)\n",
    "#print(prcpCpcConusNoNegYrsLatAvgSumDays)"
   ]
  },
  {
   "cell_type": "code",
   "execution_count": 99,
   "metadata": {},
   "outputs": [
    {
     "name": "stdout",
     "output_type": "stream",
     "text": [
      "[134.25, 124.25, 114.25, 104.25, 94.25, 84.25, 74.25]\n",
      "['134.25', '124.25', '114.25', '104.25', '94.25', '84.25', '74.25']\n"
     ]
    }
   ],
   "source": [
    "lonListBuffer1 = []\n",
    "lonBufferSt1  = 134.25\n",
    "\n",
    "for iLon in range(7):    # An artifact of 6, only 5 needed\n",
    "    #lonList.append(lonSt)\n",
    "    \n",
    "    if iLon == 0:\n",
    "        lonBufferSt1 = 134.25\n",
    "    else:\n",
    "        lonBufferSt1 = lonBufferSt1 - 10\n",
    "        \n",
    "    lonListBuffer1.append(lonBufferSt1)\n",
    "    \n",
    "print(lonListBuffer1)   \n",
    "lonTickLebelsBufferStr1 = ['134.25','124.25','114.25','104.25','94.25','84.25','74.25']\n",
    "print(lonTickLebelsBufferStr1)"
   ]
  },
  {
   "cell_type": "code",
   "execution_count": null,
   "metadata": {},
   "outputs": [],
   "source": []
  },
  {
   "cell_type": "markdown",
   "metadata": {},
   "source": [
    "## Marginals for Lead 1"
   ]
  },
  {
   "cell_type": "code",
   "execution_count": 100,
   "metadata": {},
   "outputs": [
    {
     "name": "stdout",
     "output_type": "stream",
     "text": [
      "(21, 100)\n"
     ]
    }
   ],
   "source": [
    "print(precipEcmwfConusLowerDaysLeadOneModLatAvg[:,lonsConusBufferSt-1:lonsConusBufferEnd].shape)"
   ]
  },
  {
   "cell_type": "code",
   "execution_count": 101,
   "metadata": {},
   "outputs": [
    {
     "name": "stdout",
     "output_type": "stream",
     "text": [
      "(100,)\n"
     ]
    }
   ],
   "source": [
    "\n",
    "precipEcmwfConusLowerDaysLeadOneModLatAvgSumDays = np.nansum(precipEcmwfConusLowerDaysLeadOneModLatAvg[:,lonsConusBufferSt-1:lonsConusBufferEnd], axis = 0)\n",
    "print(precipEcmwfConusLowerDaysLeadOneModLatAvgSumDays.shape)\n",
    "#print(precipEcmwfConusLowerDaysLeadOneModLatAvgSumDays)\n",
    "    "
   ]
  },
  {
   "cell_type": "markdown",
   "metadata": {},
   "source": [
    "## Marginals for Lead 2"
   ]
  },
  {
   "cell_type": "code",
   "execution_count": 102,
   "metadata": {},
   "outputs": [
    {
     "name": "stdout",
     "output_type": "stream",
     "text": [
      "(21, 100)\n"
     ]
    }
   ],
   "source": [
    "print(precipEcmwfConusLowerDaysLeadTwoModLatAvg[:,lonsConusBufferSt-1:lonsConusBufferEnd].shape)"
   ]
  },
  {
   "cell_type": "code",
   "execution_count": 103,
   "metadata": {},
   "outputs": [
    {
     "name": "stdout",
     "output_type": "stream",
     "text": [
      "(100,)\n"
     ]
    }
   ],
   "source": [
    "\n",
    "precipEcmwfConusLowerDaysLeadTwoModLatAvgSumDays = np.nansum(precipEcmwfConusLowerDaysLeadTwoModLatAvg[:,lonsConusBufferSt-1:lonsConusBufferEnd], axis = 0)\n",
    "print(precipEcmwfConusLowerDaysLeadTwoModLatAvgSumDays.shape)\n",
    "#print(precipEcmwfConusLowerDaysLeadTwoModLatAvgSumDays)\n",
    "    "
   ]
  },
  {
   "cell_type": "markdown",
   "metadata": {},
   "source": [
    "## Marginals for Lead 3"
   ]
  },
  {
   "cell_type": "code",
   "execution_count": 104,
   "metadata": {},
   "outputs": [
    {
     "name": "stdout",
     "output_type": "stream",
     "text": [
      "(21, 100)\n"
     ]
    }
   ],
   "source": [
    "print(precipEcmwfConusLowerDaysLeadThreeModLatAvg[:,lonsConusBufferSt-1:lonsConusBufferEnd].shape)"
   ]
  },
  {
   "cell_type": "code",
   "execution_count": 105,
   "metadata": {},
   "outputs": [
    {
     "name": "stdout",
     "output_type": "stream",
     "text": [
      "(100,)\n"
     ]
    }
   ],
   "source": [
    "\n",
    "precipEcmwfConusLowerDaysLeadThreeModLatAvgSumDays = np.nansum(precipEcmwfConusLowerDaysLeadThreeModLatAvg[:,lonsConusBufferSt-1:lonsConusBufferEnd], axis = 0)\n",
    "print(precipEcmwfConusLowerDaysLeadThreeModLatAvgSumDays.shape)\n",
    "#print(precipEcmwfConusLowerDaysLeadThreeModLatAvgSumDays)\n",
    "    "
   ]
  },
  {
   "cell_type": "code",
   "execution_count": null,
   "metadata": {},
   "outputs": [],
   "source": []
  },
  {
   "cell_type": "markdown",
   "metadata": {},
   "source": [
    "## Figures in Panels"
   ]
  },
  {
   "cell_type": "code",
   "execution_count": 106,
   "metadata": {},
   "outputs": [],
   "source": [
    "xi = np.arange(0, 100)\n",
    "yi = np.arange(0, t)\n",
    "X, Y = np.meshgrid(xi, yi)\n",
    "\n",
    "vrange = [0,26]\n",
    "vstep = 2.0\n",
    "clevs = np.arange(vrange[0], vrange[1]+vstep, vstep)\n",
    "tickslabels=[0,2,4,6,8,10,12,14,16,18,20,22,24,26]\n",
    "norm=BoundaryNorm(tickslabels, len(tickslabels)-1)\n",
    "newcolors = np.vstack((plt.cm.YlGn(np.linspace(0, 1, 2))[2:,:], plt.cm.Greens(np.linspace(0, 1, 13))))\n",
    "palette = ListedColormap(newcolors, name='test')\n"
   ]
  },
  {
   "cell_type": "code",
   "execution_count": 107,
   "metadata": {},
   "outputs": [
    {
     "name": "stderr",
     "output_type": "stream",
     "text": [
      "<ipython-input-107-625a5c2d68c5>:20: UserWarning: FixedFormatter should only be used together with FixedLocator\n",
      "  ax1.yaxis.set_major_formatter(plt.FixedFormatter(yMD))\n",
      "<ipython-input-107-625a5c2d68c5>:25: UserWarning: FixedFormatter should only be used together with FixedLocator\n",
      "  ax1.set_xticklabels(lonTickLebelsBufferStr, minor=False)\n",
      "<ipython-input-107-625a5c2d68c5>:36: UserWarning: FixedFormatter should only be used together with FixedLocator\n",
      "  ax2.yaxis.set_major_formatter(plt.FixedFormatter(yMD))\n",
      "<ipython-input-107-625a5c2d68c5>:43: UserWarning: FixedFormatter should only be used together with FixedLocator\n",
      "  ax2.set_xticklabels(lonTickLebelsBufferStr, minor=False)\n",
      "<ipython-input-107-625a5c2d68c5>:54: UserWarning: FixedFormatter should only be used together with FixedLocator\n",
      "  ax3.yaxis.set_major_formatter(plt.FixedFormatter(yMD))\n",
      "<ipython-input-107-625a5c2d68c5>:59: UserWarning: FixedFormatter should only be used together with FixedLocator\n",
      "  ax3.set_xticklabels(lonTickLebelsBufferStr, minor=False)\n",
      "<ipython-input-107-625a5c2d68c5>:68: UserWarning: FixedFormatter should only be used together with FixedLocator\n",
      "  ax4.yaxis.set_major_formatter(plt.FixedFormatter(yMD))\n",
      "<ipython-input-107-625a5c2d68c5>:75: UserWarning: FixedFormatter should only be used together with FixedLocator\n",
      "  ax4.set_xticklabels(lonTickLebelsBufferStr, minor=False)\n",
      "<ipython-input-107-625a5c2d68c5>:91: UserWarning: FixedFormatter should only be used together with FixedLocator\n",
      "  ax5.set_xticklabels(lonTickLebelsBufferStr, minor=False)\n",
      "<ipython-input-107-625a5c2d68c5>:104: UserWarning: FixedFormatter should only be used together with FixedLocator\n",
      "  ax6.set_xticklabels(lonTickLebelsBufferStr, minor=False)\n",
      "<ipython-input-107-625a5c2d68c5>:116: UserWarning: FixedFormatter should only be used together with FixedLocator\n",
      "  ax7.set_xticklabels(lonTickLebelsBufferStr, minor=False)\n"
     ]
    },
    {
     "data": {
      "image/png": "[encoded data removed]",
      "text/plain": [
       "<Figure size 864x1152 with 7 Axes>"
      ]
     },
     "metadata": {
      "needs_background": "light"
     },
     "output_type": "display_data"
    }
   ],
   "source": [
    "import matplotlib.gridspec as gridspec\n",
    "fontSize = 12\n",
    "textFontVal = 12\n",
    "\n",
    "fig = plt.figure(constrained_layout=False, figsize=(12, 16))\n",
    "\n",
    "gs = gridspec.GridSpec(4, 2, figure=fig)\n",
    "ax1 = fig.add_subplot(gs[0, 0])\n",
    "# identical to ax1 = plt.subplot(gs.new_subplotspec((0, 0), colspan=3))\n",
    "ax2 = fig.add_subplot(gs[0, 1])\n",
    "ax3 = fig.add_subplot(gs[1, 0])\n",
    "ax4 = fig.add_subplot(gs[1, 1])\n",
    "ax5 = fig.add_subplot(gs[2, 0])\n",
    "ax6 = fig.add_subplot(gs[2, 1])\n",
    "ax7 = fig.add_subplot(gs[3, 0])\n",
    "#+++++++++++++++++++++++++++++++\n",
    "#+++++++++++++++++++++++++++++++\n",
    "\n",
    "cs1 = ax1.contourf(X, Y, prcpCpcConusNoNegYrsLatAvg[:,lonsConusBufferSt-1:lonsConusBufferEnd],norm = norm, cmap=palette,levels=tickslabels, )\n",
    "ax1.yaxis.set_major_formatter(plt.FixedFormatter(yMD))\n",
    "ax1.set_yticks(timeTicks)\n",
    "ax1.set_yticklabels(timeTickLebels, minor=False)\n",
    "ax1.invert_yaxis()\n",
    "\n",
    "ax1.set_xticklabels(lonTickLebelsBufferStr, minor=False)\n",
    "ax1.set_title('(a) CPC')\n",
    "#ax1.set_xlabel('Longitude (°W)')\n",
    "ax1.set_ylabel('Time')\n",
    "\n",
    "ax1.grid(b=True, which='major', color='#666666', linestyle='-')\n",
    "\n",
    "\n",
    "#+++++++++++++++++++++++++++++++\n",
    "\n",
    "cs2 = ax2.contourf(X, Y, precipEcmwfConusLowerDaysLeadOneModLatAvg[:,lonsConusBufferSt-1:lonsConusBufferEnd],norm = norm, cmap=palette,levels=tickslabels, )\n",
    "ax2.yaxis.set_major_formatter(plt.FixedFormatter(yMD))\n",
    "ax2.set_yticks(timeTicks)\n",
    "#ax2.set_yticklabels(timeTickLebels, minor=False)\n",
    "ax2.set_yticklabels([], minor=False)\n",
    "\n",
    "ax2.invert_yaxis()\n",
    "\n",
    "ax2.set_xticklabels(lonTickLebelsBufferStr, minor=False)\n",
    "ax2.set_title('(b) 1-Week')\n",
    "#ax2.set_xlabel('Longitude (°W)')\n",
    "#ax2.set_ylabel('Time')\n",
    "\n",
    "ax2.grid(b=True, which='major', color='#666666', linestyle='-')\n",
    "\n",
    "\n",
    "#+++++++++++++++++++++++++++++++\n",
    "\n",
    "cs3 = ax3.contourf(X, Y, precipEcmwfConusLowerDaysLeadTwoModLatAvg[:,lonsConusBufferSt-1:lonsConusBufferEnd],norm = norm, cmap=palette,levels=tickslabels, )\n",
    "ax3.yaxis.set_major_formatter(plt.FixedFormatter(yMD))\n",
    "ax3.set_yticks(timeTicks)\n",
    "ax3.set_yticklabels(timeTickLebels, minor=False)\n",
    "ax3.invert_yaxis()\n",
    "\n",
    "ax3.set_xticklabels(lonTickLebelsBufferStr, minor=False)\n",
    "ax3.set_title('(c) 2-Weeks')\n",
    "#ax3.set_xlabel('Longitude (°W)')\n",
    "ax3.set_ylabel('Time')\n",
    "\n",
    "ax3.grid(b=True, which='major', color='#666666', linestyle='-')\n",
    "#+++++++++++++++++++++++++++++++\n",
    "\n",
    "cs4 = ax4.contourf(X, Y, precipEcmwfConusLowerDaysLeadThreeModLatAvg[:,lonsConusBufferSt-1:lonsConusBufferEnd],norm = norm, cmap=palette,levels=tickslabels, )\n",
    "ax4.yaxis.set_major_formatter(plt.FixedFormatter(yMD))\n",
    "ax4.set_yticks(timeTicks)\n",
    "#ax4.set_yticklabels(timeTickLebels, minor=False)\n",
    "ax4.set_yticklabels([], minor=False)\n",
    "\n",
    "ax4.invert_yaxis()\n",
    "\n",
    "ax4.set_xticklabels(lonTickLebelsBufferStr, minor=False)\n",
    "ax4.set_title('(d) 3-Weeks')\n",
    "#ax4.set_xlabel('Longitude (°W)')\n",
    "#ax4.set_ylabel('Time')\n",
    "\n",
    "ax4.grid(b=True, which='major', color='#666666', linestyle='-')\n",
    "\n",
    "#+++++++++++++++++++++++++++++++\n",
    "\n",
    "\n",
    "ax5.plot( range(100),precipEcmwfConusLowerDaysLeadTwoModLatAvgSumDays, marker='', color='k',  linewidth=1, label='Forecast')\n",
    "ax5.plot( range(100),prcpCpcConusNoNegYrsLatAvgSumDays, marker='', linestyle = '--', color='#666666',  linewidth=2, label='Validation')\n",
    "#ax5.set_xlabel('Longitude (°W)')\n",
    "ax5.set_ylabel('Accumulated precip (mm)')\n",
    "ax5.set_title('(e) 2-Weeks')\n",
    "\n",
    "ax5.set_xticklabels(lonTickLebelsBufferStr, minor=False)\n",
    "ax5.set_xlim([0,100])\n",
    "ax5.set_ylim([-5,150])\n",
    "\n",
    "#+++++++++++++++++++++++++++++++\n",
    "\n",
    "\n",
    "ax6.plot( range(100),precipEcmwfConusLowerDaysLeadThreeModLatAvgSumDays, marker='', color='k',  linewidth=1, label='Forecast')\n",
    "ax6.plot( range(100),prcpCpcConusNoNegYrsLatAvgSumDays, marker='', linestyle = '--', color='#666666',  linewidth=2, label='Validation')\n",
    "ax6.set_xlabel('Longitude (°W)')\n",
    "#ax6.set_ylabel('Accumulated precip (mm)')\n",
    "ax6.set_title('(f) 3-Weeks')\n",
    "\n",
    "ax6.set_xticklabels(lonTickLebelsBufferStr, minor=False)\n",
    "ax6.set_xlim([0,100])\n",
    "ax6.set_ylim([-5,150])\n",
    "#+++++++++++++++++++++++++++++++\n",
    "\n",
    "\n",
    "ax7.plot( range(100),precipEcmwfConusLowerDaysLeadOneModLatAvgSumDays, marker='', color='k',  linewidth=1, label='Forecast')\n",
    "ax7.plot( range(100),prcpCpcConusNoNegYrsLatAvgSumDays, marker='', linestyle = '--', color='#666666',  linewidth=2,label='Validation')\n",
    "#ax7.set_xlabel('Longitude (°W)')\n",
    "ax7.set_ylabel('Accumulated precip (mm)')\n",
    "ax7.set_title('(g) 1-Week')\n",
    "\n",
    "ax7.set_xticklabels(lonTickLebelsBufferStr, minor=False)\n",
    "ax7.set_xlim([0,100])\n",
    "ax7.set_ylim([-5,150])\n",
    "ax7.set_xlabel('Longitude (°W)')\n",
    "#+++++++++++++++++++++++++++++++\n",
    "ax7.legend(ncol=1, loc=(1.2, 0.35 ))\n",
    "\n",
    "#+++++++++++++++++++++++++++++++\n",
    "\n",
    "#cs = plt.contourf(X, Y, precipEcmwfConusLowerDaysLeadTwoModLatAvg[:,lonsConusBufferSt-1:lonsConusBufferEnd],norm = norm, cmap=palette,levels=tickslabels, )\n",
    "#cbar = ax4.set_colorbar(ticks=tickslabels, spacing='proportional', extend='both') \n",
    "#cbar.set_label('(mm/d)',size=14,rotation=90,labelpad=0.15)\n",
    "\n",
    "\n",
    "#+++++++++++++++++++++++++++++++\n",
    "plt.show()"
   ]
  },
  {
   "cell_type": "code",
   "execution_count": null,
   "metadata": {},
   "outputs": [],
   "source": []
  },
  {
   "cell_type": "code",
   "execution_count": null,
   "metadata": {},
   "outputs": [],
   "source": []
  },
  {
   "cell_type": "code",
   "execution_count": 108,
   "metadata": {},
   "outputs": [
    {
     "ename": "SyntaxError",
     "evalue": "invalid syntax (<ipython-input-108-8ce31687a02d>, line 1)",
     "output_type": "error",
     "traceback": [
      "\u001b[1;36m  File \u001b[1;32m\"<ipython-input-108-8ce31687a02d>\"\u001b[1;36m, line \u001b[1;32m1\u001b[0m\n\u001b[1;33m    STOP here ======================================================\u001b[0m\n\u001b[1;37m         ^\u001b[0m\n\u001b[1;31mSyntaxError\u001b[0m\u001b[1;31m:\u001b[0m invalid syntax\n"
     ]
    }
   ],
   "source": [
    "STOP here ======================================================"
   ]
  },
  {
   "cell_type": "code",
   "execution_count": null,
   "metadata": {},
   "outputs": [],
   "source": []
  }
 ],
 "metadata": {
  "kernelspec": {
   "display_name": "Python 3",
   "language": "python",
   "name": "python3"
  },
  "language_info": {
   "codemirror_mode": {
    "name": "ipython",
    "version": 3
   },
   "file_extension": ".py",
   "mimetype": "text/x-python",
   "name": "python",
   "nbconvert_exporter": "python",
   "pygments_lexer": "ipython3",
   "version": "3.8.5"
  }
 },
 "nbformat": 4,
 "nbformat_minor": 4
}
