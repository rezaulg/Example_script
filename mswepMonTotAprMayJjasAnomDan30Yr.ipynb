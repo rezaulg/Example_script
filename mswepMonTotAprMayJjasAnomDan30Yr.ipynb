{
 "cells": [
  {
   "cell_type": "markdown",
   "metadata": {},
   "source": [
    "## This script loads 0.10 deg MSWEP and computes statistics"
   ]
  },
  {
   "cell_type": "code",
   "execution_count": 1,
   "metadata": {},
   "outputs": [],
   "source": [
    "# To support both python 2 and python 3\n",
    "from __future__ import division, print_function, unicode_literals\n",
    "\n",
    "# Common imports\n",
    "import numpy as np\n",
    "import os\n",
    "\n",
    "# to make this notebook's output stable across runs\n",
    "np.random.seed(42)\n",
    "# To plot pretty figures\n",
    "%matplotlib inline\n",
    "#%matplotlib notebook\n",
    "\n",
    "import matplotlib as mpl\n",
    "import matplotlib.pyplot as plt\n",
    "mpl.rc('axes', labelsize=14)\n",
    "mpl.rc('xtick', labelsize=12)\n",
    "mpl.rc('ytick', labelsize=12)\n",
    "\n",
    "\n",
    "# Where to save the figures\n",
    "PROJECT_ROOT_DIR = \".\"  \n",
    "\n",
    "path2Create = r'C:/rezaul/academic/research/project/PIRE/prcp/output/'\n",
    "\n",
    "if not os.path.exists(path2Create):\n",
    "    os.makedirs(path2Create)    \n",
    "    \n",
    "path2Save = 'C:/rezaul/academic/research/project/PIRE/prcp/output/fig/'\n",
    "\n",
    "if not os.path.exists(path2Save):\n",
    "    os.makedirs(path2Save)    \n",
    "\n",
    "IMAGES_PATH = os.path.join(path2Save)\n",
    "outputPath = os.path.join(path2Save)\n",
    "\n",
    "def save_fig(fig_id, tight_layout=True, fig_extension=\"png\", resolution=300):\n",
    "    path = os.path.join(IMAGES_PATH, fig_id + \".\" + fig_extension)\n",
    "    \n",
    "    print(\"Saving figure\", fig_id)\n",
    "    if tight_layout:\n",
    "        plt.tight_layout()\n",
    "    plt.savefig(path, format=fig_extension, dpi=resolution)\n"
   ]
  },
  {
   "cell_type": "code",
   "execution_count": 2,
   "metadata": {},
   "outputs": [
    {
     "name": "stdout",
     "output_type": "stream",
     "text": [
      "31\n",
      "12\n",
      "4\n"
     ]
    }
   ],
   "source": [
    "yrStMswep = 1991   # User choice    \n",
    "yrEndMswep = 2021    # Decided to include 30 years plus the validation year\n",
    "\n",
    "nYrsMswep = yrEndMswep - yrStMswep + 1\n",
    "print(nYrsMswep)\n",
    "\n",
    "monStMswep =1                # January\n",
    "monEndMswep = 12             # December\n",
    "nMonsMswep = monEndMswep - monStMswep + 1\n",
    "print(nMonsMswep)\n",
    "\n",
    "nSites = 4                 # Four sites of Dangistha, Gaita, Kudmi, and Reem for \"PIRE\" Project-work\n",
    "nIdTot = 2                 # = two (JJAS and Yrly Total)\n",
    "\n",
    "jjasMonSt = 6              # Starts at June (JJAS)\n",
    "jjasMonEnd = 9             # Ends in September (JJAS)\n",
    "nJjasMons = jjasMonEnd - jjasMonSt + 1\n",
    "print(nJjasMons)\n"
   ]
  },
  {
   "cell_type": "code",
   "execution_count": 3,
   "metadata": {},
   "outputs": [
    {
     "name": "stdout",
     "output_type": "stream",
     "text": [
      "29\n",
      "30\n"
     ]
    }
   ],
   "source": [
    "yr2019Id = 2019 - yrStMswep + 1  \n",
    "print(yr2019Id)\n",
    "yr2020Id = 2020 - yrStMswep + 1  \n",
    "print(yr2020Id)"
   ]
  },
  {
   "cell_type": "markdown",
   "metadata": {},
   "source": [
    "## Import Libraries"
   ]
  },
  {
   "cell_type": "code",
   "execution_count": 4,
   "metadata": {},
   "outputs": [],
   "source": [
    "# Common imports\n",
    "import numpy as np\n",
    "import pandas as pd\n",
    "import os\n",
    "import glob\n",
    "from datetime import datetime\n",
    "#from osgeo import gdal # Import the GDAL library\n",
    "#import gdal\n",
    "\n",
    "import cmocean\n",
    "\n",
    "#import matplotlib.pyplot as plt # Import the Matplotlib package\n",
    "from matplotlib import pyplot as plt  # Import the Matplotlib package\n",
    "from numpy import linspace # Import the Linspace numpy library\n",
    "from numpy import meshgrid # Import the Meshgrid numpy library\n",
    "\n",
    "#from init import *\n",
    "import scipy.io as sio\n",
    "# Common imports\n",
    "import calendar\n",
    "import datetime\n",
    "import matplotlib.dates as mdates\n",
    "from numpy import array, ma\n",
    "#import scipy.io\n",
    "from scipy.io import loadmat   # https://scipy-cookbook.readthedocs.io/items/Reading_mat_files.html\n",
    "import xarray as xr\n"
   ]
  },
  {
   "cell_type": "code",
   "execution_count": 5,
   "metadata": {},
   "outputs": [],
   "source": [
    "# Stats\n",
    "from statsmodels.distributions.empirical_distribution import ECDF\n",
    "from scipy.stats import gamma, norm\n",
    "from scipy.signal import detrend\n",
    "\n",
    "from netCDF4 import Dataset   # http://code.google.com/p/netcdf4-python/\n",
    "from numpy.random import normal\n",
    "from numpy import hstack\n",
    "\n",
    "import math\n"
   ]
  },
  {
   "cell_type": "code",
   "execution_count": 6,
   "metadata": {},
   "outputs": [],
   "source": [
    "# Plotting\n",
    "import matplotlib.colors as colors\n",
    "from copy import copy\n",
    "import matplotlib.cm as cm\n",
    "#from matplotlib_scalebar.scalebar import ScaleBar\n",
    "\n",
    "import seaborn as sns\n",
    "import matplotlib.gridspec as gridspec\n"
   ]
  },
  {
   "cell_type": "code",
   "execution_count": 7,
   "metadata": {},
   "outputs": [],
   "source": [
    "# Projection\n",
    "import cartopy.crs as ccrs\n",
    "import cartopy.feature as cfeature"
   ]
  },
  {
   "cell_type": "code",
   "execution_count": 8,
   "metadata": {},
   "outputs": [],
   "source": [
    "#file = C:/rezaul/academic/1.research/project/HRRR/data/dnld/20210101/countyShapeFiles/countyl010g.shp\n",
    "import cartopy.io.shapereader as shpreader\n",
    "reader = shpreader.Reader('C:/rezaul/1.academic/1.research/1.data/shapeFile/countyShapeFiles/countyl010g.shp')\n",
    "\n",
    "counties = list(reader.geometries())\n",
    "\n",
    "COUNTIES = cfeature.ShapelyFeature(counties, ccrs.PlateCarree())"
   ]
  },
  {
   "cell_type": "code",
   "execution_count": 9,
   "metadata": {},
   "outputs": [
    {
     "name": "stdout",
     "output_type": "stream",
     "text": [
      "[34, 40, 6, 14]\n"
     ]
    }
   ],
   "source": [
    "# General info:\n",
    "#monTarget = 6  # Target is June \n",
    "# Edit this for the month desired ===============\n",
    "#monStr = str(calendar.month_name[monTarget])\n",
    "#print(monStr)\n",
    "\n",
    "# Boundary\n",
    "extent = [34, 40, 6, 14]\n",
    "print(extent)"
   ]
  },
  {
   "cell_type": "code",
   "execution_count": null,
   "metadata": {},
   "outputs": [],
   "source": []
  },
  {
   "cell_type": "markdown",
   "metadata": {},
   "source": [
    "## Metadata of CFSv2 forecast to pick the number of grid cells in the study area"
   ]
  },
  {
   "cell_type": "code",
   "execution_count": 10,
   "metadata": {},
   "outputs": [
    {
     "data": {
      "text/plain": [
       "dict_keys(['__header__', '__version__', '__globals__', 'lat', 'lon', 'precipFcstRegrid'])"
      ]
     },
     "execution_count": 10,
     "metadata": {},
     "output_type": "execute_result"
    }
   ],
   "source": [
    "#   C:/rezaul/academic/research/project/PIRE/seasonalFcst/data/regrid10DegCfsv2GtifShiftMat/precip/2019/201904/M01/precipFcstRegridLatLon.mat\n",
    "memStr = 'M01'\n",
    "matFileF = loadmat(r'C:/rezaul/1.academic/1.research/2.project/PIRE/seasonalFcst/data/regrid10DegCfsv2GtifShiftMat/precip/2020/202004/M01/precipFcstRegridLatLon.mat')\n",
    "\n",
    "matFileF.keys()"
   ]
  },
  {
   "cell_type": "code",
   "execution_count": 11,
   "metadata": {},
   "outputs": [
    {
     "name": "stdout",
     "output_type": "stream",
     "text": [
      "(82, 61, 856)\n",
      "(856,)\n"
     ]
    }
   ],
   "source": [
    "print(matFileF['precipFcstRegrid'].shape)\n",
    "nlat, nlon, ntim = matFileF['precipFcstRegrid'].shape\n",
    "time = np.arange(ntim)\n",
    "print(time.shape)"
   ]
  },
  {
   "cell_type": "code",
   "execution_count": 12,
   "metadata": {},
   "outputs": [
    {
     "name": "stdout",
     "output_type": "stream",
     "text": [
      "(82, 1)\n",
      "[[14.05]\n",
      " [13.95]\n",
      " [13.85]\n",
      " [13.75]\n",
      " [13.65]]\n",
      "[5.95]\n"
     ]
    }
   ],
   "source": [
    "latsCfs = matFileF['lat']\n",
    "print(latsCfs.shape)\n",
    "print(latsCfs[0:5])\n",
    "print(latsCfs[-1])"
   ]
  },
  {
   "cell_type": "code",
   "execution_count": 13,
   "metadata": {},
   "outputs": [
    {
     "name": "stdout",
     "output_type": "stream",
     "text": [
      "(61, 1)\n",
      "[[33.95]\n",
      " [34.05]\n",
      " [34.15]\n",
      " [34.25]\n",
      " [34.35]]\n",
      "[39.95]\n"
     ]
    }
   ],
   "source": [
    "lonsCfs = matFileF['lon']\n",
    "print(lonsCfs.shape)\n",
    "print(lonsCfs[0:5])\n",
    "print(lonsCfs[-1])"
   ]
  },
  {
   "cell_type": "code",
   "execution_count": null,
   "metadata": {},
   "outputs": [],
   "source": []
  },
  {
   "cell_type": "markdown",
   "metadata": {},
   "source": [
    "## Metadata for MSWEP"
   ]
  },
  {
   "cell_type": "code",
   "execution_count": 14,
   "metadata": {},
   "outputs": [
    {
     "data": {
      "text/plain": [
       "'C:/rezaul/1.academic/1.research/1.data/MSWEP/V280/monthly/197906.nc'"
      ]
     },
     "execution_count": 14,
     "metadata": {},
     "output_type": "execute_result"
    }
   ],
   "source": [
    "ncFile = r'C:/rezaul/1.academic/1.research/1.data/MSWEP/V280/monthly/197906.nc'\n",
    "\n",
    "ncFile"
   ]
  },
  {
   "cell_type": "code",
   "execution_count": 15,
   "metadata": {},
   "outputs": [
    {
     "data": {
      "text/plain": [
       "<class 'netCDF4._netCDF4.Dataset'>\n",
       "root group (NETCDF4 data model, file format HDF5):\n",
       "    history: Created on 2021-02-04 03:43\n",
       "    dimensions(sizes): lon(3600), lat(1800), time(1)\n",
       "    variables(dimensions): float32 lon(lon), float32 lat(lat), int32 time(time), float32 precipitation(time, lat, lon)\n",
       "    groups: "
      ]
     },
     "execution_count": 15,
     "metadata": {},
     "output_type": "execute_result"
    }
   ],
   "source": [
    "nc_fid = Dataset(ncFile, 'r')\n",
    "nc_fid"
   ]
  },
  {
   "cell_type": "code",
   "execution_count": 16,
   "metadata": {},
   "outputs": [
    {
     "data": {
      "text/html": [
       "<div><svg style=\"position: absolute; width: 0; height: 0; overflow: hidden\">\n",
       "<defs>\n",
       "<symbol id=\"icon-database\" viewBox=\"0 0 32 32\">\n",
       "<path d=\"M16 0c-8.837 0-16 2.239-16 5v4c0 2.761 7.163 5 16 5s16-2.239 16-5v-4c0-2.761-7.163-5-16-5z\"></path>\n",
       "<path d=\"M16 17c-8.837 0-16-2.239-16-5v6c0 2.761 7.163 5 16 5s16-2.239 16-5v-6c0 2.761-7.163 5-16 5z\"></path>\n",
       "<path d=\"M16 26c-8.837 0-16-2.239-16-5v6c0 2.761 7.163 5 16 5s16-2.239 16-5v-6c0 2.761-7.163 5-16 5z\"></path>\n",
       "</symbol>\n",
       "<symbol id=\"icon-file-text2\" viewBox=\"0 0 32 32\">\n",
       "<path d=\"M28.681 7.159c-0.694-0.947-1.662-2.053-2.724-3.116s-2.169-2.030-3.116-2.724c-1.612-1.182-2.393-1.319-2.841-1.319h-15.5c-1.378 0-2.5 1.121-2.5 2.5v27c0 1.378 1.122 2.5 2.5 2.5h23c1.378 0 2.5-1.122 2.5-2.5v-19.5c0-0.448-0.137-1.23-1.319-2.841zM24.543 5.457c0.959 0.959 1.712 1.825 2.268 2.543h-4.811v-4.811c0.718 0.556 1.584 1.309 2.543 2.268zM28 29.5c0 0.271-0.229 0.5-0.5 0.5h-23c-0.271 0-0.5-0.229-0.5-0.5v-27c0-0.271 0.229-0.5 0.5-0.5 0 0 15.499-0 15.5 0v7c0 0.552 0.448 1 1 1h7v19.5z\"></path>\n",
       "<path d=\"M23 26h-14c-0.552 0-1-0.448-1-1s0.448-1 1-1h14c0.552 0 1 0.448 1 1s-0.448 1-1 1z\"></path>\n",
       "<path d=\"M23 22h-14c-0.552 0-1-0.448-1-1s0.448-1 1-1h14c0.552 0 1 0.448 1 1s-0.448 1-1 1z\"></path>\n",
       "<path d=\"M23 18h-14c-0.552 0-1-0.448-1-1s0.448-1 1-1h14c0.552 0 1 0.448 1 1s-0.448 1-1 1z\"></path>\n",
       "</symbol>\n",
       "</defs>\n",
       "</svg>\n",
       "<style>/* CSS stylesheet for displaying xarray objects in jupyterlab.\n",
       " *\n",
       " */\n",
       "\n",
       ":root {\n",
       "  --xr-font-color0: var(--jp-content-font-color0, rgba(0, 0, 0, 1));\n",
       "  --xr-font-color2: var(--jp-content-font-color2, rgba(0, 0, 0, 0.54));\n",
       "  --xr-font-color3: var(--jp-content-font-color3, rgba(0, 0, 0, 0.38));\n",
       "  --xr-border-color: var(--jp-border-color2, #e0e0e0);\n",
       "  --xr-disabled-color: var(--jp-layout-color3, #bdbdbd);\n",
       "  --xr-background-color: var(--jp-layout-color0, white);\n",
       "  --xr-background-color-row-even: var(--jp-layout-color1, white);\n",
       "  --xr-background-color-row-odd: var(--jp-layout-color2, #eeeeee);\n",
       "}\n",
       "\n",
       "html[theme=dark],\n",
       "body.vscode-dark {\n",
       "  --xr-font-color0: rgba(255, 255, 255, 1);\n",
       "  --xr-font-color2: rgba(255, 255, 255, 0.54);\n",
       "  --xr-font-color3: rgba(255, 255, 255, 0.38);\n",
       "  --xr-border-color: #1F1F1F;\n",
       "  --xr-disabled-color: #515151;\n",
       "  --xr-background-color: #111111;\n",
       "  --xr-background-color-row-even: #111111;\n",
       "  --xr-background-color-row-odd: #313131;\n",
       "}\n",
       "\n",
       ".xr-wrap {\n",
       "  display: block;\n",
       "  min-width: 300px;\n",
       "  max-width: 700px;\n",
       "}\n",
       "\n",
       ".xr-text-repr-fallback {\n",
       "  /* fallback to plain text repr when CSS is not injected (untrusted notebook) */\n",
       "  display: none;\n",
       "}\n",
       "\n",
       ".xr-header {\n",
       "  padding-top: 6px;\n",
       "  padding-bottom: 6px;\n",
       "  margin-bottom: 4px;\n",
       "  border-bottom: solid 1px var(--xr-border-color);\n",
       "}\n",
       "\n",
       ".xr-header > div,\n",
       ".xr-header > ul {\n",
       "  display: inline;\n",
       "  margin-top: 0;\n",
       "  margin-bottom: 0;\n",
       "}\n",
       "\n",
       ".xr-obj-type,\n",
       ".xr-array-name {\n",
       "  margin-left: 2px;\n",
       "  margin-right: 10px;\n",
       "}\n",
       "\n",
       ".xr-obj-type {\n",
       "  color: var(--xr-font-color2);\n",
       "}\n",
       "\n",
       ".xr-sections {\n",
       "  padding-left: 0 !important;\n",
       "  display: grid;\n",
       "  grid-template-columns: 150px auto auto 1fr 20px 20px;\n",
       "}\n",
       "\n",
       ".xr-section-item {\n",
       "  display: contents;\n",
       "}\n",
       "\n",
       ".xr-section-item input {\n",
       "  display: none;\n",
       "}\n",
       "\n",
       ".xr-section-item input + label {\n",
       "  color: var(--xr-disabled-color);\n",
       "}\n",
       "\n",
       ".xr-section-item input:enabled + label {\n",
       "  cursor: pointer;\n",
       "  color: var(--xr-font-color2);\n",
       "}\n",
       "\n",
       ".xr-section-item input:enabled + label:hover {\n",
       "  color: var(--xr-font-color0);\n",
       "}\n",
       "\n",
       ".xr-section-summary {\n",
       "  grid-column: 1;\n",
       "  color: var(--xr-font-color2);\n",
       "  font-weight: 500;\n",
       "}\n",
       "\n",
       ".xr-section-summary > span {\n",
       "  display: inline-block;\n",
       "  padding-left: 0.5em;\n",
       "}\n",
       "\n",
       ".xr-section-summary-in:disabled + label {\n",
       "  color: var(--xr-font-color2);\n",
       "}\n",
       "\n",
       ".xr-section-summary-in + label:before {\n",
       "  display: inline-block;\n",
       "  content: '►';\n",
       "  font-size: 11px;\n",
       "  width: 15px;\n",
       "  text-align: center;\n",
       "}\n",
       "\n",
       ".xr-section-summary-in:disabled + label:before {\n",
       "  color: var(--xr-disabled-color);\n",
       "}\n",
       "\n",
       ".xr-section-summary-in:checked + label:before {\n",
       "  content: '▼';\n",
       "}\n",
       "\n",
       ".xr-section-summary-in:checked + label > span {\n",
       "  display: none;\n",
       "}\n",
       "\n",
       ".xr-section-summary,\n",
       ".xr-section-inline-details {\n",
       "  padding-top: 4px;\n",
       "  padding-bottom: 4px;\n",
       "}\n",
       "\n",
       ".xr-section-inline-details {\n",
       "  grid-column: 2 / -1;\n",
       "}\n",
       "\n",
       ".xr-section-details {\n",
       "  display: none;\n",
       "  grid-column: 1 / -1;\n",
       "  margin-bottom: 5px;\n",
       "}\n",
       "\n",
       ".xr-section-summary-in:checked ~ .xr-section-details {\n",
       "  display: contents;\n",
       "}\n",
       "\n",
       ".xr-array-wrap {\n",
       "  grid-column: 1 / -1;\n",
       "  display: grid;\n",
       "  grid-template-columns: 20px auto;\n",
       "}\n",
       "\n",
       ".xr-array-wrap > label {\n",
       "  grid-column: 1;\n",
       "  vertical-align: top;\n",
       "}\n",
       "\n",
       ".xr-preview {\n",
       "  color: var(--xr-font-color3);\n",
       "}\n",
       "\n",
       ".xr-array-preview,\n",
       ".xr-array-data {\n",
       "  padding: 0 5px !important;\n",
       "  grid-column: 2;\n",
       "}\n",
       "\n",
       ".xr-array-data,\n",
       ".xr-array-in:checked ~ .xr-array-preview {\n",
       "  display: none;\n",
       "}\n",
       "\n",
       ".xr-array-in:checked ~ .xr-array-data,\n",
       ".xr-array-preview {\n",
       "  display: inline-block;\n",
       "}\n",
       "\n",
       ".xr-dim-list {\n",
       "  display: inline-block !important;\n",
       "  list-style: none;\n",
       "  padding: 0 !important;\n",
       "  margin: 0;\n",
       "}\n",
       "\n",
       ".xr-dim-list li {\n",
       "  display: inline-block;\n",
       "  padding: 0;\n",
       "  margin: 0;\n",
       "}\n",
       "\n",
       ".xr-dim-list:before {\n",
       "  content: '(';\n",
       "}\n",
       "\n",
       ".xr-dim-list:after {\n",
       "  content: ')';\n",
       "}\n",
       "\n",
       ".xr-dim-list li:not(:last-child):after {\n",
       "  content: ',';\n",
       "  padding-right: 5px;\n",
       "}\n",
       "\n",
       ".xr-has-index {\n",
       "  font-weight: bold;\n",
       "}\n",
       "\n",
       ".xr-var-list,\n",
       ".xr-var-item {\n",
       "  display: contents;\n",
       "}\n",
       "\n",
       ".xr-var-item > div,\n",
       ".xr-var-item label,\n",
       ".xr-var-item > .xr-var-name span {\n",
       "  background-color: var(--xr-background-color-row-even);\n",
       "  margin-bottom: 0;\n",
       "}\n",
       "\n",
       ".xr-var-item > .xr-var-name:hover span {\n",
       "  padding-right: 5px;\n",
       "}\n",
       "\n",
       ".xr-var-list > li:nth-child(odd) > div,\n",
       ".xr-var-list > li:nth-child(odd) > label,\n",
       ".xr-var-list > li:nth-child(odd) > .xr-var-name span {\n",
       "  background-color: var(--xr-background-color-row-odd);\n",
       "}\n",
       "\n",
       ".xr-var-name {\n",
       "  grid-column: 1;\n",
       "}\n",
       "\n",
       ".xr-var-dims {\n",
       "  grid-column: 2;\n",
       "}\n",
       "\n",
       ".xr-var-dtype {\n",
       "  grid-column: 3;\n",
       "  text-align: right;\n",
       "  color: var(--xr-font-color2);\n",
       "}\n",
       "\n",
       ".xr-var-preview {\n",
       "  grid-column: 4;\n",
       "}\n",
       "\n",
       ".xr-var-name,\n",
       ".xr-var-dims,\n",
       ".xr-var-dtype,\n",
       ".xr-preview,\n",
       ".xr-attrs dt {\n",
       "  white-space: nowrap;\n",
       "  overflow: hidden;\n",
       "  text-overflow: ellipsis;\n",
       "  padding-right: 10px;\n",
       "}\n",
       "\n",
       ".xr-var-name:hover,\n",
       ".xr-var-dims:hover,\n",
       ".xr-var-dtype:hover,\n",
       ".xr-attrs dt:hover {\n",
       "  overflow: visible;\n",
       "  width: auto;\n",
       "  z-index: 1;\n",
       "}\n",
       "\n",
       ".xr-var-attrs,\n",
       ".xr-var-data {\n",
       "  display: none;\n",
       "  background-color: var(--xr-background-color) !important;\n",
       "  padding-bottom: 5px !important;\n",
       "}\n",
       "\n",
       ".xr-var-attrs-in:checked ~ .xr-var-attrs,\n",
       ".xr-var-data-in:checked ~ .xr-var-data {\n",
       "  display: block;\n",
       "}\n",
       "\n",
       ".xr-var-data > table {\n",
       "  float: right;\n",
       "}\n",
       "\n",
       ".xr-var-name span,\n",
       ".xr-var-data,\n",
       ".xr-attrs {\n",
       "  padding-left: 25px !important;\n",
       "}\n",
       "\n",
       ".xr-attrs,\n",
       ".xr-var-attrs,\n",
       ".xr-var-data {\n",
       "  grid-column: 1 / -1;\n",
       "}\n",
       "\n",
       "dl.xr-attrs {\n",
       "  padding: 0;\n",
       "  margin: 0;\n",
       "  display: grid;\n",
       "  grid-template-columns: 125px auto;\n",
       "}\n",
       "\n",
       ".xr-attrs dt,\n",
       ".xr-attrs dd {\n",
       "  padding: 0;\n",
       "  margin: 0;\n",
       "  float: left;\n",
       "  padding-right: 10px;\n",
       "  width: auto;\n",
       "}\n",
       "\n",
       ".xr-attrs dt {\n",
       "  font-weight: normal;\n",
       "  grid-column: 1;\n",
       "}\n",
       "\n",
       ".xr-attrs dt:hover span {\n",
       "  display: inline-block;\n",
       "  background: var(--xr-background-color);\n",
       "  padding-right: 10px;\n",
       "}\n",
       "\n",
       ".xr-attrs dd {\n",
       "  grid-column: 2;\n",
       "  white-space: pre-wrap;\n",
       "  word-break: break-all;\n",
       "}\n",
       "\n",
       ".xr-icon-database,\n",
       ".xr-icon-file-text2 {\n",
       "  display: inline-block;\n",
       "  vertical-align: middle;\n",
       "  width: 1em;\n",
       "  height: 1.5em !important;\n",
       "  stroke-width: 0;\n",
       "  stroke: currentColor;\n",
       "  fill: currentColor;\n",
       "}\n",
       "</style><pre class='xr-text-repr-fallback'>&lt;xarray.Dataset&gt;\n",
       "Dimensions:        (lat: 1800, lon: 3600, time: 1)\n",
       "Coordinates:\n",
       "  * lon            (lon) float32 -179.9 -179.8 -179.8 ... 179.8 179.9 179.9\n",
       "  * lat            (lat) float32 89.95 89.85 89.75 ... -89.75 -89.85 -89.95\n",
       "  * time           (time) datetime64[ns] 1979-06-01\n",
       "Data variables:\n",
       "    precipitation  (time, lat, lon) float32 ...\n",
       "Attributes:\n",
       "    history:  Created on 2021-02-04 03:43</pre><div class='xr-wrap' hidden><div class='xr-header'><div class='xr-obj-type'>xarray.Dataset</div></div><ul class='xr-sections'><li class='xr-section-item'><input id='section-7dcaa7c4-7cb8-4a25-b77f-9bfe4dbcafa3' class='xr-section-summary-in' type='checkbox' disabled ><label for='section-7dcaa7c4-7cb8-4a25-b77f-9bfe4dbcafa3' class='xr-section-summary'  title='Expand/collapse section'>Dimensions:</label><div class='xr-section-inline-details'><ul class='xr-dim-list'><li><span class='xr-has-index'>lat</span>: 1800</li><li><span class='xr-has-index'>lon</span>: 3600</li><li><span class='xr-has-index'>time</span>: 1</li></ul></div><div class='xr-section-details'></div></li><li class='xr-section-item'><input id='section-08a07d1e-4028-4b4a-a7db-ec774313cadd' class='xr-section-summary-in' type='checkbox'  checked><label for='section-08a07d1e-4028-4b4a-a7db-ec774313cadd' class='xr-section-summary' >Coordinates: <span>(3)</span></label><div class='xr-section-inline-details'></div><div class='xr-section-details'><ul class='xr-var-list'><li class='xr-var-item'><div class='xr-var-name'><span class='xr-has-index'>lon</span></div><div class='xr-var-dims'>(lon)</div><div class='xr-var-dtype'>float32</div><div class='xr-var-preview xr-preview'>-179.9 -179.8 ... 179.9 179.9</div><input id='attrs-55c4e5c9-aa78-42ec-a3f5-a5ad16efa660' class='xr-var-attrs-in' type='checkbox' ><label for='attrs-55c4e5c9-aa78-42ec-a3f5-a5ad16efa660' title='Show/Hide attributes'><svg class='icon xr-icon-file-text2'><use xlink:href='#icon-file-text2'></use></svg></label><input id='data-cd17d7a0-2b8e-409a-8f5b-75eff243b62e' class='xr-var-data-in' type='checkbox'><label for='data-cd17d7a0-2b8e-409a-8f5b-75eff243b62e' title='Show/Hide data repr'><svg class='icon xr-icon-database'><use xlink:href='#icon-database'></use></svg></label><div class='xr-var-attrs'><dl class='xr-attrs'><dt><span>units :</span></dt><dd>degrees_east</dd><dt><span>long_name :</span></dt><dd>longitude</dd></dl></div><div class='xr-var-data'><pre>array([-179.95   , -179.84999, -179.75   , ...,  179.75002,  179.85002,\n",
       "        179.95   ], dtype=float32)</pre></div></li><li class='xr-var-item'><div class='xr-var-name'><span class='xr-has-index'>lat</span></div><div class='xr-var-dims'>(lat)</div><div class='xr-var-dtype'>float32</div><div class='xr-var-preview xr-preview'>89.95 89.85 89.75 ... -89.85 -89.95</div><input id='attrs-9170096d-3175-4c72-ba7b-9fdd79d71773' class='xr-var-attrs-in' type='checkbox' ><label for='attrs-9170096d-3175-4c72-ba7b-9fdd79d71773' title='Show/Hide attributes'><svg class='icon xr-icon-file-text2'><use xlink:href='#icon-file-text2'></use></svg></label><input id='data-bc06e8c3-c483-481e-8aec-a1011402ea75' class='xr-var-data-in' type='checkbox'><label for='data-bc06e8c3-c483-481e-8aec-a1011402ea75' title='Show/Hide data repr'><svg class='icon xr-icon-database'><use xlink:href='#icon-database'></use></svg></label><div class='xr-var-attrs'><dl class='xr-attrs'><dt><span>units :</span></dt><dd>degrees_north</dd><dt><span>long_name :</span></dt><dd>latitude</dd></dl></div><div class='xr-var-data'><pre>array([ 89.95    ,  89.85    ,  89.75    , ..., -89.75    , -89.850006,\n",
       "       -89.95001 ], dtype=float32)</pre></div></li><li class='xr-var-item'><div class='xr-var-name'><span class='xr-has-index'>time</span></div><div class='xr-var-dims'>(time)</div><div class='xr-var-dtype'>datetime64[ns]</div><div class='xr-var-preview xr-preview'>1979-06-01</div><input id='attrs-a29abfe9-3ae6-4c7f-816a-3aa3fc8a4ef7' class='xr-var-attrs-in' type='checkbox' ><label for='attrs-a29abfe9-3ae6-4c7f-816a-3aa3fc8a4ef7' title='Show/Hide attributes'><svg class='icon xr-icon-file-text2'><use xlink:href='#icon-file-text2'></use></svg></label><input id='data-d6737c06-9f5b-47f5-b14d-e1c0256de9eb' class='xr-var-data-in' type='checkbox'><label for='data-d6737c06-9f5b-47f5-b14d-e1c0256de9eb' title='Show/Hide data repr'><svg class='icon xr-icon-database'><use xlink:href='#icon-database'></use></svg></label><div class='xr-var-attrs'><dl class='xr-attrs'><dt><span>long_name :</span></dt><dd>time</dd></dl></div><div class='xr-var-data'><pre>array([&#x27;1979-06-01T00:00:00.000000000&#x27;], dtype=&#x27;datetime64[ns]&#x27;)</pre></div></li></ul></div></li><li class='xr-section-item'><input id='section-527a373e-7502-479d-a355-698a770c6a02' class='xr-section-summary-in' type='checkbox'  checked><label for='section-527a373e-7502-479d-a355-698a770c6a02' class='xr-section-summary' >Data variables: <span>(1)</span></label><div class='xr-section-inline-details'></div><div class='xr-section-details'><ul class='xr-var-list'><li class='xr-var-item'><div class='xr-var-name'><span>precipitation</span></div><div class='xr-var-dims'>(time, lat, lon)</div><div class='xr-var-dtype'>float32</div><div class='xr-var-preview xr-preview'>...</div><input id='attrs-97450e3b-2d44-42ec-afe1-fb833eaefefa' class='xr-var-attrs-in' type='checkbox' ><label for='attrs-97450e3b-2d44-42ec-afe1-fb833eaefefa' title='Show/Hide attributes'><svg class='icon xr-icon-file-text2'><use xlink:href='#icon-file-text2'></use></svg></label><input id='data-1c7bd7c1-3433-4795-9868-88f0c67d1cae' class='xr-var-data-in' type='checkbox'><label for='data-1c7bd7c1-3433-4795-9868-88f0c67d1cae' title='Show/Hide data repr'><svg class='icon xr-icon-database'><use xlink:href='#icon-database'></use></svg></label><div class='xr-var-attrs'><dl class='xr-attrs'><dt><span>units :</span></dt><dd>mm month-1</dd></dl></div><div class='xr-var-data'><pre>[6480000 values with dtype=float32]</pre></div></li></ul></div></li><li class='xr-section-item'><input id='section-6732dbd4-62e9-45cb-9a53-dd0f8cb74095' class='xr-section-summary-in' type='checkbox'  checked><label for='section-6732dbd4-62e9-45cb-9a53-dd0f8cb74095' class='xr-section-summary' >Attributes: <span>(1)</span></label><div class='xr-section-inline-details'></div><div class='xr-section-details'><dl class='xr-attrs'><dt><span>history :</span></dt><dd>Created on 2021-02-04 03:43</dd></dl></div></li></ul></div></div>"
      ],
      "text/plain": [
       "<xarray.Dataset>\n",
       "Dimensions:        (lat: 1800, lon: 3600, time: 1)\n",
       "Coordinates:\n",
       "  * lon            (lon) float32 -179.9 -179.8 -179.8 ... 179.8 179.9 179.9\n",
       "  * lat            (lat) float32 89.95 89.85 89.75 ... -89.75 -89.85 -89.95\n",
       "  * time           (time) datetime64[ns] 1979-06-01\n",
       "Data variables:\n",
       "    precipitation  (time, lat, lon) float32 ...\n",
       "Attributes:\n",
       "    history:  Created on 2021-02-04 03:43"
      ]
     },
     "execution_count": 16,
     "metadata": {},
     "output_type": "execute_result"
    }
   ],
   "source": [
    "ds1 = xr.open_dataset(ncFile)\n",
    "ds1"
   ]
  },
  {
   "cell_type": "code",
   "execution_count": 17,
   "metadata": {},
   "outputs": [
    {
     "name": "stdout",
     "output_type": "stream",
     "text": [
      "(1800,)\n",
      "(3600,)\n",
      "(1, 1800, 3600)\n"
     ]
    }
   ],
   "source": [
    "latsMswep = nc_fid.variables['lat'][:]\n",
    "lonsMswep = nc_fid.variables['lon'][:]\n",
    "\n",
    "print(latsMswep.shape)\n",
    "print(lonsMswep.shape)\n",
    "\n",
    "prcpMswep = nc_fid.variables['precipitation'][:]\n",
    "print(prcpMswep.shape)"
   ]
  },
  {
   "cell_type": "code",
   "execution_count": 18,
   "metadata": {},
   "outputs": [
    {
     "name": "stdout",
     "output_type": "stream",
     "text": [
      "14.049998\n",
      "5.95\n",
      "33.95001\n",
      "39.95001\n"
     ]
    }
   ],
   "source": [
    "# Cropping for Ethiopia\n",
    "# By looking into the meta-data, the following ID numbers were selected to represent the study area of the Blue Nile Basin\n",
    "\n",
    "iiCellMswepSt = 759           \n",
    "iiCellMswepEnd = 840\n",
    "\n",
    "jjCellMswepSt = 2139\n",
    "jjCellMswepEnd = 2199\n",
    "\n",
    "print(latsMswep[iiCellMswepSt])\n",
    "print(latsMswep[iiCellMswepEnd])\n",
    "\n",
    "print(lonsMswep[jjCellMswepSt])\n",
    "print(lonsMswep[jjCellMswepEnd])\n"
   ]
  },
  {
   "cell_type": "code",
   "execution_count": 19,
   "metadata": {},
   "outputs": [
    {
     "name": "stdout",
     "output_type": "stream",
     "text": [
      "11.249995\n",
      "36.850002\n"
     ]
    }
   ],
   "source": [
    "# Dangistha ID:\n",
    "iiCellMswepGlobalLoc = 788;\n",
    "jjCellMswepGlobalLoc = 2169;\n",
    "\n",
    "print(latsMswep[iiCellMswepGlobalLoc-1])\n",
    "print(lonsMswep[jjCellMswepGlobalLoc-1])"
   ]
  },
  {
   "cell_type": "code",
   "execution_count": 20,
   "metadata": {},
   "outputs": [
    {
     "data": {
      "text/plain": [
       "masked_array(data=[14.049998 , 13.95     , 13.850001 , 13.749995 ,\n",
       "                   13.649997 , 13.549998 , 13.45     , 13.350001 ,\n",
       "                   13.249995 , 13.149997 , 13.049998 , 12.95     ,\n",
       "                   12.850001 , 12.749995 , 12.649997 , 12.549998 ,\n",
       "                   12.45     , 12.350001 , 12.249995 , 12.149997 ,\n",
       "                   12.049998 , 11.95     , 11.850001 , 11.749995 ,\n",
       "                   11.649997 , 11.549998 , 11.45     , 11.350001 ,\n",
       "                   11.249995 , 11.149997 , 11.049998 , 10.95     ,\n",
       "                   10.850001 , 10.749995 , 10.649997 , 10.549998 ,\n",
       "                   10.45     , 10.350001 , 10.249995 , 10.149997 ,\n",
       "                   10.049998 ,  9.95     ,  9.850001 ,  9.749995 ,\n",
       "                    9.649997 ,  9.549998 ,  9.45     ,  9.350001 ,\n",
       "                    9.249995 ,  9.149997 ,  9.049998 ,  8.95     ,\n",
       "                    8.850001 ,  8.749995 ,  8.649997 ,  8.549998 ,\n",
       "                    8.45     ,  8.350001 ,  8.249995 ,  8.149997 ,\n",
       "                    8.049998 ,  7.95     ,  7.8500013,  7.749995 ,\n",
       "                    7.6499968,  7.5499983,  7.45     ,  7.3500013,\n",
       "                    7.249995 ,  7.1499968,  7.0499983,  6.95     ,\n",
       "                    6.8500013,  6.749995 ,  6.6499968,  6.5499983,\n",
       "                    6.45     ,  6.3500013,  6.249995 ,  6.1499968,\n",
       "                    6.0499983,  5.95     ],\n",
       "             mask=False,\n",
       "       fill_value=1e+20,\n",
       "            dtype=float32)"
      ]
     },
     "execution_count": 20,
     "metadata": {},
     "output_type": "execute_result"
    }
   ],
   "source": [
    "latsMswepEth = latsMswep[iiCellMswepSt:iiCellMswepEnd+1]\n",
    "latsMswepEth"
   ]
  },
  {
   "cell_type": "code",
   "execution_count": 21,
   "metadata": {},
   "outputs": [
    {
     "data": {
      "text/plain": [
       "masked_array(data=[33.95001 , 34.05    , 34.150005, 34.249996, 34.350002,\n",
       "                   34.45001 , 34.55    , 34.650005, 34.749996, 34.850002,\n",
       "                   34.95001 , 35.05    , 35.150005, 35.249996, 35.350002,\n",
       "                   35.45001 , 35.55    , 35.650005, 35.749996, 35.850002,\n",
       "                   35.95001 , 36.05    , 36.150005, 36.249996, 36.350002,\n",
       "                   36.45001 , 36.55    , 36.650005, 36.749996, 36.850002,\n",
       "                   36.95001 , 37.05    , 37.150005, 37.249996, 37.350002,\n",
       "                   37.45001 , 37.55    , 37.650005, 37.749996, 37.850002,\n",
       "                   37.95001 , 38.05    , 38.150005, 38.249996, 38.350002,\n",
       "                   38.45001 , 38.55    , 38.650005, 38.749996, 38.850002,\n",
       "                   38.95001 , 39.05    , 39.150005, 39.249996, 39.350002,\n",
       "                   39.45001 , 39.55    , 39.650005, 39.749996, 39.850002,\n",
       "                   39.95001 ],\n",
       "             mask=False,\n",
       "       fill_value=1e+20,\n",
       "            dtype=float32)"
      ]
     },
     "execution_count": 21,
     "metadata": {},
     "output_type": "execute_result"
    }
   ],
   "source": [
    "lonsMswepEth = lonsMswep[jjCellMswepSt:jjCellMswepEnd+1]\n",
    "lonsMswepEth"
   ]
  },
  {
   "cell_type": "code",
   "execution_count": 22,
   "metadata": {},
   "outputs": [
    {
     "name": "stdout",
     "output_type": "stream",
     "text": [
      "Dangistha\n",
      "11.249995\n",
      "36.850002\n",
      "\n",
      "Gaita\n",
      "11.149997\n",
      "36.850002\n",
      "\n",
      "Kudmi\n",
      "11.350001\n",
      "37.05\n",
      "\n",
      "Reem\n",
      "11.350001\n",
      "37.150005\n"
     ]
    }
   ],
   "source": [
    "\n",
    "# Following are the IDs wihtin the Domain of the BNB (not the Global)\n",
    "\n",
    "# Dangistha\n",
    "print('Dangistha')\n",
    "iiCellDanMswep = 29;\n",
    "jjCellDanMswep = 30;\n",
    "print(latsMswepEth[iiCellDanMswep-1])\n",
    "print(lonsMswepEth[jjCellDanMswep-1])\n",
    "print('')\n",
    "#++++++++++\n",
    "\n",
    "print('Gaita')\n",
    "iiCellGaitaMswep = 30\n",
    "jjCellGaitaMswep = 30  \n",
    "print(latsMswepEth[iiCellGaitaMswep-1])\n",
    "print(lonsMswepEth[jjCellGaitaMswep-1])\n",
    "print('')\n",
    "#++++++++++\n",
    "\n",
    "print('Kudmi')\n",
    "iiCellKudmiMswep = 28\n",
    "jjCellKudmiMswep = 32  \n",
    "print(latsMswepEth[iiCellKudmiMswep-1])\n",
    "print(lonsMswepEth[jjCellKudmiMswep-1])\n",
    "print('')\n",
    "#++++++++++\n",
    "\n",
    "print('Reem')\n",
    "iiCellReemMswep = 28\n",
    "jjCellReemMswep = 33  \n",
    "print(latsMswepEth[iiCellReemMswep-1])\n",
    "print(lonsMswepEth[jjCellReemMswep-1])\n",
    "#++++++++++\n"
   ]
  },
  {
   "cell_type": "code",
   "execution_count": 23,
   "metadata": {},
   "outputs": [],
   "source": [
    "#STOP"
   ]
  },
  {
   "cell_type": "code",
   "execution_count": null,
   "metadata": {},
   "outputs": [],
   "source": []
  },
  {
   "cell_type": "markdown",
   "metadata": {},
   "source": [
    "## Extract 30 years of MSWEP data as 3hrly Value, get monthly for this exercise"
   ]
  },
  {
   "cell_type": "code",
   "execution_count": 24,
   "metadata": {},
   "outputs": [
    {
     "name": "stdout",
     "output_type": "stream",
     "text": [
      "(82, 61, 31, 12)\n"
     ]
    }
   ],
   "source": [
    "\n",
    "mswepCellsMonTotYrs = np.zeros((nlat,nlon, nYrsMswep, nMonsMswep))\n",
    "\n",
    "mswepCellsMonTotYrs[:] = np.nan\n",
    "print(mswepCellsMonTotYrs.shape)\n"
   ]
  },
  {
   "cell_type": "code",
   "execution_count": 25,
   "metadata": {},
   "outputs": [
    {
     "name": "stdout",
     "output_type": "stream",
     "text": [
      "(82, 61, 31, 12)\n"
     ]
    }
   ],
   "source": [
    "# Load MSWEP\n",
    "\n",
    "\n",
    "yrCont = -1\n",
    "for yr in range(yrStMswep,yrEndMswep+1):\n",
    "    yrCont = yrCont + 1      \n",
    "    \n",
    "    monCont = -1\n",
    "    for mon in range(monStMswep,monEndMswep+1):    \n",
    "        monCont = monCont + 1        \n",
    "        yrMonStr = str(yr) + str(mon).zfill(2)       # = 199106\n",
    "        \n",
    "        filePathMswep = os.path.join(\"C:/rezaul/1.academic/1.research/1.data/MSWEP/V280/monthly\")\n",
    "        PATH = os.path.join(filePathMswep)        \n",
    "        fileToJoinMswep = yrMonStr + '.nc'\n",
    "        fileMswep = str(filePathMswep) + '/' + str(fileToJoinMswep)\n",
    "        \n",
    "        nc_fid = Dataset(fileMswep, 'r')        \n",
    "        \n",
    "        mswepCells = nc_fid.variables['precipitation'][:,iiCellMswepSt:iiCellMswepEnd+1,jjCellMswepSt:jjCellMswepEnd+1] #1x1800x3600 \n",
    "                \n",
    "        mswepCellsMonTotYrs[:,:, yrCont, monCont] = mswepCells         # = 82X61X30\n",
    "        \n",
    "print(mswepCellsMonTotYrs.shape)              \n"
   ]
  },
  {
   "cell_type": "code",
   "execution_count": null,
   "metadata": {},
   "outputs": [],
   "source": []
  },
  {
   "cell_type": "markdown",
   "metadata": {},
   "source": [
    "## Extract Monthly Totals over the 30 yrs for the BNB"
   ]
  },
  {
   "cell_type": "markdown",
   "metadata": {},
   "source": [
    "## Dangistha"
   ]
  },
  {
   "cell_type": "code",
   "execution_count": 26,
   "metadata": {},
   "outputs": [
    {
     "name": "stdout",
     "output_type": "stream",
     "text": [
      "(82, 61, 31, 12)\n"
     ]
    }
   ],
   "source": [
    "print(mswepCellsMonTotYrs.shape)"
   ]
  },
  {
   "cell_type": "code",
   "execution_count": 27,
   "metadata": {},
   "outputs": [
    {
     "name": "stdout",
     "output_type": "stream",
     "text": [
      "(31, 12)\n"
     ]
    }
   ],
   "source": [
    "mswepDanMonTotYrs = mswepCellsMonTotYrs[iiCellDanMswep-1, jjCellDanMswep-1,:,:]\n",
    "print(mswepDanMonTotYrs.shape)\n"
   ]
  },
  {
   "cell_type": "code",
   "execution_count": 28,
   "metadata": {
    "scrolled": true
   },
   "outputs": [
    {
     "name": "stdout",
     "output_type": "stream",
     "text": [
      "[[286.5       457.5625    364.25      201.25     ]\n",
      " [232.4375    268.5625    296.9375    184.75     ]\n",
      " [253.6875    345.25      364.8125    259.125    ]\n",
      " [259.875     319.25      376.1875    211.6875   ]\n",
      " [362.5625    253.75      402.75      246.8125   ]\n",
      " [239.625     402.5       461.        300.125    ]\n",
      " [323.25      294.125     354.5       311.       ]\n",
      " [289.625     371.1875    401.9375    219.875    ]\n",
      " [345.5       302.9375    405.6875    247.625    ]\n",
      " [245.5       425.75      421.0625    221.3125   ]\n",
      " [214.3125    381.8125    333.0625    247.8125   ]\n",
      " [270.75      446.6875    308.1875    184.9375   ]\n",
      " [235.3125    350.375     280.8125    306.375    ]\n",
      " [215.        519.3125    294.        258.6875   ]\n",
      " [258.125     353.        334.8125    298.125    ]\n",
      " [342.25      420.5       352.375     212.375    ]\n",
      " [279.1875    322.8125    370.25      204.125    ]\n",
      " [247.        403.5625    378.3125    204.3125   ]\n",
      " [319.6875    400.875     398.        208.375    ]\n",
      " [294.0625    374.625     389.875     242.25     ]\n",
      " [278.5       421.75      403.5       193.9375   ]\n",
      " [260.        463.375     424.75      224.8125   ]\n",
      " [178.9375    510.125     297.5       253.8125   ]\n",
      " [165.0625    313.0625    419.8125    308.4375   ]\n",
      " [183.5625    319.9375    355.4375    239.0625   ]\n",
      " [215.6875    354.25      279.0625    207.6875   ]\n",
      " [198.3125    324.9375    400.625     227.0625   ]\n",
      " [212.375     345.4375    327.        260.375    ]\n",
      " [260.0625    339.8125    301.1875    227.5      ]\n",
      " [241.4375    374.625     356.1875    228.3125   ]\n",
      " [196.34375   321.078125  278.5546875 207.5546875]]\n"
     ]
    }
   ],
   "source": [
    "print(mswepDanMonTotYrs[:, 5:9])"
   ]
  },
  {
   "cell_type": "markdown",
   "metadata": {},
   "source": [
    "## Gaita"
   ]
  },
  {
   "cell_type": "code",
   "execution_count": 29,
   "metadata": {},
   "outputs": [
    {
     "name": "stdout",
     "output_type": "stream",
     "text": [
      "(31, 12)\n"
     ]
    }
   ],
   "source": [
    "mswepGaitaMonTotYrs = mswepCellsMonTotYrs[iiCellGaitaMswep-1, jjCellGaitaMswep-1,:,:]\n",
    "print(mswepGaitaMonTotYrs.shape)"
   ]
  },
  {
   "cell_type": "markdown",
   "metadata": {},
   "source": [
    "## Kudmi"
   ]
  },
  {
   "cell_type": "code",
   "execution_count": 30,
   "metadata": {},
   "outputs": [
    {
     "name": "stdout",
     "output_type": "stream",
     "text": [
      "(31, 12)\n"
     ]
    }
   ],
   "source": [
    "mswepKudmiMonTotYrs = mswepCellsMonTotYrs[iiCellKudmiMswep-1, jjCellKudmiMswep-1,:,:]\n",
    "print(mswepKudmiMonTotYrs.shape)"
   ]
  },
  {
   "cell_type": "markdown",
   "metadata": {},
   "source": [
    "## Reem"
   ]
  },
  {
   "cell_type": "code",
   "execution_count": 31,
   "metadata": {},
   "outputs": [
    {
     "name": "stdout",
     "output_type": "stream",
     "text": [
      "(31, 12)\n"
     ]
    }
   ],
   "source": [
    "mswepReemMonTotYrs = mswepCellsMonTotYrs[iiCellReemMswep-1, jjCellReemMswep-1,:,:]\n",
    "print(mswepReemMonTotYrs.shape)"
   ]
  },
  {
   "cell_type": "code",
   "execution_count": null,
   "metadata": {},
   "outputs": [],
   "source": []
  },
  {
   "cell_type": "markdown",
   "metadata": {},
   "source": [
    "## Calculate 30 yrs' average value of the monthly precipitation over the BNB"
   ]
  },
  {
   "cell_type": "code",
   "execution_count": 32,
   "metadata": {},
   "outputs": [
    {
     "name": "stdout",
     "output_type": "stream",
     "text": [
      "(82, 61, 31, 12)\n"
     ]
    }
   ],
   "source": [
    "print(mswepCellsMonTotYrs.shape)"
   ]
  },
  {
   "cell_type": "code",
   "execution_count": 33,
   "metadata": {},
   "outputs": [
    {
     "name": "stdout",
     "output_type": "stream",
     "text": [
      "(82, 61, 12)\n"
     ]
    }
   ],
   "source": [
    "mswepCellsMonTotYrsAvg = np.nanmean(mswepCellsMonTotYrs, axis=2)\n",
    "print(mswepCellsMonTotYrsAvg.shape)"
   ]
  },
  {
   "cell_type": "code",
   "execution_count": null,
   "metadata": {},
   "outputs": [],
   "source": []
  },
  {
   "cell_type": "markdown",
   "metadata": {},
   "source": [
    "## Calculate Yrly Total from 30 yrs' average of monthly Total field"
   ]
  },
  {
   "cell_type": "code",
   "execution_count": 34,
   "metadata": {},
   "outputs": [
    {
     "name": "stdout",
     "output_type": "stream",
     "text": [
      "(82, 61)\n"
     ]
    }
   ],
   "source": [
    "mswepCellsMonTotYrlyTotYrsAvg = np.nansum(mswepCellsMonTotYrsAvg, axis=2)\n",
    "print(mswepCellsMonTotYrlyTotYrsAvg.shape)"
   ]
  },
  {
   "cell_type": "code",
   "execution_count": null,
   "metadata": {},
   "outputs": [],
   "source": []
  },
  {
   "cell_type": "markdown",
   "metadata": {},
   "source": [
    "## Calculate JJAS Total from 30 yrs' average of monthly Total field"
   ]
  },
  {
   "cell_type": "code",
   "execution_count": 35,
   "metadata": {},
   "outputs": [
    {
     "name": "stdout",
     "output_type": "stream",
     "text": [
      "(82, 61, 12)\n",
      "(82, 61, 4)\n"
     ]
    }
   ],
   "source": [
    "print(mswepCellsMonTotYrsAvg.shape)\n",
    "mswepCellsMonTotJjasToAddYrsAvg = mswepCellsMonTotYrsAvg[:,:, jjasMonSt-1:jjasMonEnd ]\n",
    "print(mswepCellsMonTotJjasToAddYrsAvg.shape)"
   ]
  },
  {
   "cell_type": "code",
   "execution_count": 36,
   "metadata": {},
   "outputs": [
    {
     "name": "stdout",
     "output_type": "stream",
     "text": [
      "(82, 61)\n"
     ]
    }
   ],
   "source": [
    "mswepCellsMonTotJjasTotYrsAvg = np.nansum(mswepCellsMonTotJjasToAddYrsAvg, axis=2)\n",
    "print(mswepCellsMonTotJjasTotYrsAvg.shape)"
   ]
  },
  {
   "cell_type": "code",
   "execution_count": null,
   "metadata": {},
   "outputs": [],
   "source": []
  },
  {
   "cell_type": "markdown",
   "metadata": {},
   "source": [
    "## Picks JJAS vs. Yrly Total averaged over 30 yrs at different sites"
   ]
  },
  {
   "cell_type": "code",
   "execution_count": 37,
   "metadata": {},
   "outputs": [
    {
     "name": "stdout",
     "output_type": "stream",
     "text": [
      "(82, 61, 31, 12)\n",
      "(82, 61, 12)\n"
     ]
    }
   ],
   "source": [
    "print(mswepCellsMonTotYrs.shape)\n",
    "print(mswepCellsMonTotYrsAvg.shape)"
   ]
  },
  {
   "cell_type": "code",
   "execution_count": 38,
   "metadata": {},
   "outputs": [
    {
     "name": "stdout",
     "output_type": "stream",
     "text": [
      "(82, 61)\n",
      "(82, 61)\n"
     ]
    }
   ],
   "source": [
    "print(mswepCellsMonTotYrlyTotYrsAvg.shape)\n",
    "print(mswepCellsMonTotJjasTotYrsAvg.shape)\n"
   ]
  },
  {
   "cell_type": "code",
   "execution_count": 39,
   "metadata": {},
   "outputs": [
    {
     "name": "stdout",
     "output_type": "stream",
     "text": [
      "(4, 2)\n",
      "[[nan nan]\n",
      " [nan nan]\n",
      " [nan nan]\n",
      " [nan nan]]\n"
     ]
    }
   ],
   "source": [
    "mswepJjasYrlyTot30YrsAvgSites = np.zeros((nSites, nIdTot ))\n",
    "\n",
    "mswepJjasYrlyTot30YrsAvgSites[:] = np.nan\n",
    "print(mswepJjasYrlyTot30YrsAvgSites.shape)\n",
    "print(mswepJjasYrlyTot30YrsAvgSites)\n"
   ]
  },
  {
   "cell_type": "code",
   "execution_count": 40,
   "metadata": {},
   "outputs": [
    {
     "name": "stdout",
     "output_type": "stream",
     "text": [
      "[[1222.23487903           nan]\n",
      " [1273.84702621           nan]\n",
      " [1179.77116935           nan]\n",
      " [1150.453125             nan]]\n"
     ]
    }
   ],
   "source": [
    "# JJAS tot\n",
    "mswepJjasYrlyTot30YrsAvgSites[0,0] = mswepCellsMonTotJjasTotYrsAvg[iiCellDanMswep-1, jjCellDanMswep-1 ]\n",
    "mswepJjasYrlyTot30YrsAvgSites[1,0] = mswepCellsMonTotJjasTotYrsAvg[iiCellGaitaMswep-1, jjCellGaitaMswep-1 ]\n",
    "mswepJjasYrlyTot30YrsAvgSites[2,0] = mswepCellsMonTotJjasTotYrsAvg[iiCellKudmiMswep-1, jjCellKudmiMswep-1 ]\n",
    "mswepJjasYrlyTot30YrsAvgSites[3,0] = mswepCellsMonTotJjasTotYrsAvg[iiCellReemMswep-1, jjCellReemMswep-1 ]\n",
    "print(mswepJjasYrlyTot30YrsAvgSites)\n"
   ]
  },
  {
   "cell_type": "code",
   "execution_count": 41,
   "metadata": {},
   "outputs": [
    {
     "name": "stdout",
     "output_type": "stream",
     "text": [
      "[[1222.23487903 1649.00856855]\n",
      " [1273.84702621 1757.48135081]\n",
      " [1179.77116935 1560.34551411]\n",
      " [1150.453125   1519.61668347]]\n"
     ]
    }
   ],
   "source": [
    "# Yrly tot\n",
    "mswepJjasYrlyTot30YrsAvgSites[0,1] = mswepCellsMonTotYrlyTotYrsAvg[iiCellDanMswep-1, jjCellDanMswep-1 ]\n",
    "mswepJjasYrlyTot30YrsAvgSites[1,1] = mswepCellsMonTotYrlyTotYrsAvg[iiCellGaitaMswep-1, jjCellGaitaMswep-1 ]\n",
    "mswepJjasYrlyTot30YrsAvgSites[2,1] = mswepCellsMonTotYrlyTotYrsAvg[iiCellKudmiMswep-1, jjCellKudmiMswep-1 ]\n",
    "mswepJjasYrlyTot30YrsAvgSites[3,1] = mswepCellsMonTotYrlyTotYrsAvg[iiCellReemMswep-1, jjCellReemMswep-1 ]\n",
    "print(mswepJjasYrlyTot30YrsAvgSites)\n"
   ]
  },
  {
   "cell_type": "code",
   "execution_count": null,
   "metadata": {},
   "outputs": [],
   "source": []
  },
  {
   "cell_type": "markdown",
   "metadata": {},
   "source": [
    "## Plotting starts here"
   ]
  },
  {
   "cell_type": "markdown",
   "metadata": {},
   "source": [
    "## Forming a group figure"
   ]
  },
  {
   "cell_type": "code",
   "execution_count": 42,
   "metadata": {},
   "outputs": [
    {
     "data": {
      "image/png": "[encoded data removed]",
      "text/plain": [
       "<Figure size 1152x360 with 2 Axes>"
      ]
     },
     "metadata": {
      "needs_background": "light"
     },
     "output_type": "display_data"
    }
   ],
   "source": [
    "\n",
    "# Twelve months\n",
    "monStr = ['Jan', 'Feb', 'Mar', 'Apr', 'May', 'Jun', 'Jul', 'Aug', 'Sep', 'Oct', 'Nov', 'Dec']\n",
    "tAxis = np.arange(len(monStr))     \n",
    "sitesStr = ['Dangistha', 'Gaita', 'Kudmi', 'Reem']\n",
    "x = np.arange(len(sitesStr))                        # = Represents 3 products (Raw, LDay, L6hr)\n",
    "width = 0.2    # = wdith of the bars\n",
    "jjasTotToPlot = mswepJjasYrlyTot30YrsAvgSites[:, 0]\n",
    "yrlyTotToPlot = mswepJjasYrlyTot30YrsAvgSites[:, 1]\n",
    "\n",
    "import matplotlib.gridspec as gridspec\n",
    "fontSize = 12\n",
    "textFontVal = 15\n",
    "\n",
    "fig = plt.figure(figsize=(16, 5))\n",
    "gs = gridspec.GridSpec(nrows=1, ncols=2, width_ratios=[1.8, 1])\n",
    "\n",
    "axs = plt.subplot(gs[0,0])\n",
    "axs.boxplot(mswepDanMonTotYrs, showfliers=False)\n",
    "axs = axs.set(ylim=(-20, 550))\n",
    "plt.xticks(range(1,13), monStr)\n",
    "\n",
    "plt.ylabel('Precipitation (mm)', fontsize=textFontVal)\n",
    "plt.xlabel((\"Months\"))\n",
    "plt.title('(a) Dangistha: Monthly total', fontsize = 15 )\n",
    "\n",
    "#+++++++++++++++++++++++++\n",
    "ax12 = fig.add_subplot(gs[:1, 1])\n",
    "ax12.bar(x, jjasTotToPlot, width=-1.*width, align='edge', label=\"JJAS total\")\n",
    "ax12.bar(x, yrlyTotToPlot, width=width, align='edge', color=list(plt.rcParams['axes.prop_cycle'])[2]['color'], label=\"Yearly total\")\n",
    "\n",
    "ax12.set_ylim([0, 2000])\n",
    "ax12.set_xticks(x)\n",
    "ax12.set_xticklabels(sitesStr, fontsize = 12)\n",
    "plt.xlabel('Sites', fontsize=textFontVal)\n",
    "plt.legend(ncol=2)\n",
    "\n",
    "plt.title('(b) Sites:seasonal and yearly total', fontsize = 15)\n",
    "plt.show()\n",
    "#+++++++++++++++++++++++++++++++++++++++++++++++++++++++++++++++++++++++\n"
   ]
  },
  {
   "cell_type": "code",
   "execution_count": null,
   "metadata": {},
   "outputs": [],
   "source": []
  },
  {
   "cell_type": "code",
   "execution_count": 43,
   "metadata": {},
   "outputs": [],
   "source": [
    "#STOP"
   ]
  },
  {
   "cell_type": "markdown",
   "metadata": {},
   "source": [
    "## Build a time series of monthly total precip over the last 30 years"
   ]
  },
  {
   "cell_type": "markdown",
   "metadata": {},
   "source": [
    "### Dangistha"
   ]
  },
  {
   "cell_type": "code",
   "execution_count": 44,
   "metadata": {},
   "outputs": [
    {
     "name": "stdout",
     "output_type": "stream",
     "text": [
      "(31, 12)\n"
     ]
    }
   ],
   "source": [
    "print(mswepDanMonTotYrs.shape)"
   ]
  },
  {
   "cell_type": "code",
   "execution_count": 45,
   "metadata": {},
   "outputs": [
    {
     "name": "stdout",
     "output_type": "stream",
     "text": [
      "[[286.5       457.5625    364.25      201.25     ]\n",
      " [232.4375    268.5625    296.9375    184.75     ]\n",
      " [253.6875    345.25      364.8125    259.125    ]\n",
      " [259.875     319.25      376.1875    211.6875   ]\n",
      " [362.5625    253.75      402.75      246.8125   ]\n",
      " [239.625     402.5       461.        300.125    ]\n",
      " [323.25      294.125     354.5       311.       ]\n",
      " [289.625     371.1875    401.9375    219.875    ]\n",
      " [345.5       302.9375    405.6875    247.625    ]\n",
      " [245.5       425.75      421.0625    221.3125   ]\n",
      " [214.3125    381.8125    333.0625    247.8125   ]\n",
      " [270.75      446.6875    308.1875    184.9375   ]\n",
      " [235.3125    350.375     280.8125    306.375    ]\n",
      " [215.        519.3125    294.        258.6875   ]\n",
      " [258.125     353.        334.8125    298.125    ]\n",
      " [342.25      420.5       352.375     212.375    ]\n",
      " [279.1875    322.8125    370.25      204.125    ]\n",
      " [247.        403.5625    378.3125    204.3125   ]\n",
      " [319.6875    400.875     398.        208.375    ]\n",
      " [294.0625    374.625     389.875     242.25     ]\n",
      " [278.5       421.75      403.5       193.9375   ]\n",
      " [260.        463.375     424.75      224.8125   ]\n",
      " [178.9375    510.125     297.5       253.8125   ]\n",
      " [165.0625    313.0625    419.8125    308.4375   ]\n",
      " [183.5625    319.9375    355.4375    239.0625   ]\n",
      " [215.6875    354.25      279.0625    207.6875   ]\n",
      " [198.3125    324.9375    400.625     227.0625   ]\n",
      " [212.375     345.4375    327.        260.375    ]\n",
      " [260.0625    339.8125    301.1875    227.5      ]\n",
      " [241.4375    374.625     356.1875    228.3125   ]\n",
      " [196.34375   321.078125  278.5546875 207.5546875]]\n"
     ]
    }
   ],
   "source": [
    "print(mswepDanMonTotYrs[:, 5:9])"
   ]
  },
  {
   "cell_type": "code",
   "execution_count": 46,
   "metadata": {},
   "outputs": [
    {
     "name": "stdout",
     "output_type": "stream",
     "text": [
      "(31, 12)\n",
      "(12,)\n",
      "[  5.58644153   8.44027218  25.0171371   57.55367944 152.66658266\n",
      " 254.98487903 371.05897177 359.11063508 237.08039315 129.18296371\n",
      "  38.3203125   10.0063004 ]\n"
     ]
    }
   ],
   "source": [
    "print(mswepDanMonTotYrs.shape)\n",
    "mswepDanMonTotYrsClim = np.nanmean(mswepDanMonTotYrs, axis= 0)\n",
    "print(mswepDanMonTotYrsClim.shape)\n",
    "print(mswepDanMonTotYrsClim)"
   ]
  },
  {
   "cell_type": "code",
   "execution_count": 47,
   "metadata": {},
   "outputs": [
    {
     "name": "stdout",
     "output_type": "stream",
     "text": [
      "(372,)\n"
     ]
    }
   ],
   "source": [
    "mswepDanMonTotYrsRavel = np.ravel(mswepDanMonTotYrs)\n",
    "print(mswepDanMonTotYrsRavel.shape)"
   ]
  },
  {
   "cell_type": "code",
   "execution_count": 48,
   "metadata": {},
   "outputs": [
    {
     "name": "stdout",
     "output_type": "stream",
     "text": [
      "(31, 12)\n"
     ]
    }
   ],
   "source": [
    "mswepDanMonTotYrsAnom = np.zeros((nYrsMswep, nMonsMswep))\n",
    "print(mswepDanMonTotYrsAnom.shape)"
   ]
  },
  {
   "cell_type": "code",
   "execution_count": 49,
   "metadata": {},
   "outputs": [
    {
     "name": "stdout",
     "output_type": "stream",
     "text": [
      "(31, 12)\n"
     ]
    }
   ],
   "source": [
    "mswepDanMonTotYrsAnom = np.zeros((nYrsMswep, nMonsMswep))\n",
    "print(mswepDanMonTotYrsAnom.shape)"
   ]
  },
  {
   "cell_type": "code",
   "execution_count": 50,
   "metadata": {},
   "outputs": [
    {
     "name": "stdout",
     "output_type": "stream",
     "text": [
      "(31, 12)\n"
     ]
    }
   ],
   "source": [
    "\n",
    "for yrId in range(nYrsMswep):\n",
    "    \n",
    "    for monId in range(nMonsMswep):    \n",
    "        mswepDanMonTotYrsAnom[yrId, monId] = mswepDanMonTotYrs[yrId, monId] - mswepDanMonTotYrsClim[monId]   \n",
    "    \n",
    "print(mswepDanMonTotYrsAnom.shape)"
   ]
  },
  {
   "cell_type": "code",
   "execution_count": 51,
   "metadata": {},
   "outputs": [
    {
     "name": "stdout",
     "output_type": "stream",
     "text": [
      "(372,)\n"
     ]
    }
   ],
   "source": [
    "mswepDanMonTotYrsAnomRavel = np.ravel(mswepDanMonTotYrsAnom)\n",
    "print(mswepDanMonTotYrsAnomRavel.shape)"
   ]
  },
  {
   "cell_type": "code",
   "execution_count": null,
   "metadata": {},
   "outputs": [],
   "source": []
  },
  {
   "cell_type": "markdown",
   "metadata": {},
   "source": [
    "### Seasonal Total"
   ]
  },
  {
   "cell_type": "code",
   "execution_count": 52,
   "metadata": {},
   "outputs": [
    {
     "name": "stdout",
     "output_type": "stream",
     "text": [
      "(31, 2)\n"
     ]
    }
   ],
   "source": [
    "mswepDanSeasonTotYrs = np.zeros((nYrsMswep, 2))\n",
    "print(mswepDanSeasonTotYrs.shape)"
   ]
  },
  {
   "cell_type": "code",
   "execution_count": 53,
   "metadata": {},
   "outputs": [
    {
     "name": "stdout",
     "output_type": "stream",
     "text": [
      "(31, 2)\n"
     ]
    }
   ],
   "source": [
    "mswepDanSeasonTotAnomYrs = np.zeros((nYrsMswep, 2))\n",
    "print(mswepDanSeasonTotAnomYrs.shape)"
   ]
  },
  {
   "cell_type": "code",
   "execution_count": null,
   "metadata": {},
   "outputs": [],
   "source": []
  },
  {
   "cell_type": "markdown",
   "metadata": {},
   "source": [
    "### April May Total"
   ]
  },
  {
   "cell_type": "code",
   "execution_count": 54,
   "metadata": {},
   "outputs": [
    {
     "name": "stdout",
     "output_type": "stream",
     "text": [
      "(31, 12)\n"
     ]
    }
   ],
   "source": [
    "print(mswepDanMonTotYrs.shape)"
   ]
  },
  {
   "cell_type": "code",
   "execution_count": 55,
   "metadata": {},
   "outputs": [
    {
     "name": "stdout",
     "output_type": "stream",
     "text": [
      "(31, 2)\n",
      "(31,)\n"
     ]
    }
   ],
   "source": [
    "mswepDanAprMayToSumYrs =mswepDanMonTotYrs[:, 3:5]\n",
    "print(mswepDanAprMayToSumYrs.shape)\n",
    "\n",
    "mswepDanAprMayTotYrs = np.nansum(mswepDanAprMayToSumYrs, axis = 1)\n",
    "print(mswepDanAprMayTotYrs.shape)"
   ]
  },
  {
   "cell_type": "code",
   "execution_count": 56,
   "metadata": {},
   "outputs": [
    {
     "name": "stdout",
     "output_type": "stream",
     "text": [
      "210.2202620967742\n"
     ]
    }
   ],
   "source": [
    "mswepDanAprMayTotYrsAvg = np.nansum(mswepDanAprMayTotYrs)/nYrsMswep\n",
    "print(mswepDanAprMayTotYrsAvg)"
   ]
  },
  {
   "cell_type": "code",
   "execution_count": 57,
   "metadata": {},
   "outputs": [
    {
     "name": "stdout",
     "output_type": "stream",
     "text": [
      "(31,)\n"
     ]
    }
   ],
   "source": [
    "mswepDanAprMayTotYrsAnom = mswepDanAprMayTotYrs - mswepDanAprMayTotYrsAvg\n",
    "print(mswepDanAprMayTotYrsAnom.shape)"
   ]
  },
  {
   "cell_type": "code",
   "execution_count": 58,
   "metadata": {},
   "outputs": [
    {
     "name": "stdout",
     "output_type": "stream",
     "text": [
      "[0, 1, 2, 3, 4, 5, 6, 7, 8, 9, 10, 11, 12, 13, 14, 15, 16, 17, 18, 19, 20, 21, 22, 23, 24, 25, 26, 27, 28, 29, 30]\n"
     ]
    }
   ],
   "source": [
    "tAxis = [i for i in range(nYrsMswep)]\n",
    "print(tAxis)"
   ]
  },
  {
   "cell_type": "markdown",
   "metadata": {},
   "source": [
    "### Panel Plot for AprMay"
   ]
  },
  {
   "cell_type": "code",
   "execution_count": 59,
   "metadata": {},
   "outputs": [
    {
     "data": {
      "text/html": [
       "<div>\n",
       "<style scoped>\n",
       "    .dataframe tbody tr th:only-of-type {\n",
       "        vertical-align: middle;\n",
       "    }\n",
       "\n",
       "    .dataframe tbody tr th {\n",
       "        vertical-align: top;\n",
       "    }\n",
       "\n",
       "    .dataframe thead th {\n",
       "        text-align: right;\n",
       "    }\n",
       "</style>\n",
       "<table border=\"1\" class=\"dataframe\">\n",
       "  <thead>\n",
       "    <tr style=\"text-align: right;\">\n",
       "      <th></th>\n",
       "      <th>t1</th>\n",
       "    </tr>\n",
       "  </thead>\n",
       "  <tbody>\n",
       "    <tr>\n",
       "      <th>0</th>\n",
       "      <td>1991-04-01</td>\n",
       "    </tr>\n",
       "    <tr>\n",
       "      <th>1</th>\n",
       "      <td>1992-04-01</td>\n",
       "    </tr>\n",
       "    <tr>\n",
       "      <th>2</th>\n",
       "      <td>1993-04-01</td>\n",
       "    </tr>\n",
       "    <tr>\n",
       "      <th>3</th>\n",
       "      <td>1994-04-01</td>\n",
       "    </tr>\n",
       "    <tr>\n",
       "      <th>4</th>\n",
       "      <td>1995-04-01</td>\n",
       "    </tr>\n",
       "    <tr>\n",
       "      <th>5</th>\n",
       "      <td>1996-04-01</td>\n",
       "    </tr>\n",
       "    <tr>\n",
       "      <th>6</th>\n",
       "      <td>1997-04-01</td>\n",
       "    </tr>\n",
       "    <tr>\n",
       "      <th>7</th>\n",
       "      <td>1998-04-01</td>\n",
       "    </tr>\n",
       "    <tr>\n",
       "      <th>8</th>\n",
       "      <td>1999-04-01</td>\n",
       "    </tr>\n",
       "    <tr>\n",
       "      <th>9</th>\n",
       "      <td>2000-04-01</td>\n",
       "    </tr>\n",
       "    <tr>\n",
       "      <th>10</th>\n",
       "      <td>2001-04-01</td>\n",
       "    </tr>\n",
       "    <tr>\n",
       "      <th>11</th>\n",
       "      <td>2002-04-01</td>\n",
       "    </tr>\n",
       "    <tr>\n",
       "      <th>12</th>\n",
       "      <td>2003-04-01</td>\n",
       "    </tr>\n",
       "    <tr>\n",
       "      <th>13</th>\n",
       "      <td>2004-04-01</td>\n",
       "    </tr>\n",
       "    <tr>\n",
       "      <th>14</th>\n",
       "      <td>2005-04-01</td>\n",
       "    </tr>\n",
       "    <tr>\n",
       "      <th>15</th>\n",
       "      <td>2006-04-01</td>\n",
       "    </tr>\n",
       "    <tr>\n",
       "      <th>16</th>\n",
       "      <td>2007-04-01</td>\n",
       "    </tr>\n",
       "    <tr>\n",
       "      <th>17</th>\n",
       "      <td>2008-04-01</td>\n",
       "    </tr>\n",
       "    <tr>\n",
       "      <th>18</th>\n",
       "      <td>2009-04-01</td>\n",
       "    </tr>\n",
       "    <tr>\n",
       "      <th>19</th>\n",
       "      <td>2010-04-01</td>\n",
       "    </tr>\n",
       "    <tr>\n",
       "      <th>20</th>\n",
       "      <td>2011-04-01</td>\n",
       "    </tr>\n",
       "    <tr>\n",
       "      <th>21</th>\n",
       "      <td>2012-04-01</td>\n",
       "    </tr>\n",
       "    <tr>\n",
       "      <th>22</th>\n",
       "      <td>2013-04-01</td>\n",
       "    </tr>\n",
       "    <tr>\n",
       "      <th>23</th>\n",
       "      <td>2014-04-01</td>\n",
       "    </tr>\n",
       "    <tr>\n",
       "      <th>24</th>\n",
       "      <td>2015-04-01</td>\n",
       "    </tr>\n",
       "    <tr>\n",
       "      <th>25</th>\n",
       "      <td>2016-04-01</td>\n",
       "    </tr>\n",
       "    <tr>\n",
       "      <th>26</th>\n",
       "      <td>2017-04-01</td>\n",
       "    </tr>\n",
       "    <tr>\n",
       "      <th>27</th>\n",
       "      <td>2018-04-01</td>\n",
       "    </tr>\n",
       "    <tr>\n",
       "      <th>28</th>\n",
       "      <td>2019-04-01</td>\n",
       "    </tr>\n",
       "    <tr>\n",
       "      <th>29</th>\n",
       "      <td>2020-04-01</td>\n",
       "    </tr>\n",
       "    <tr>\n",
       "      <th>30</th>\n",
       "      <td>2021-04-01</td>\n",
       "    </tr>\n",
       "  </tbody>\n",
       "</table>\n",
       "</div>"
      ],
      "text/plain": [
       "           t1\n",
       "0  1991-04-01\n",
       "1  1992-04-01\n",
       "2  1993-04-01\n",
       "3  1994-04-01\n",
       "4  1995-04-01\n",
       "5  1996-04-01\n",
       "6  1997-04-01\n",
       "7  1998-04-01\n",
       "8  1999-04-01\n",
       "9  2000-04-01\n",
       "10 2001-04-01\n",
       "11 2002-04-01\n",
       "12 2003-04-01\n",
       "13 2004-04-01\n",
       "14 2005-04-01\n",
       "15 2006-04-01\n",
       "16 2007-04-01\n",
       "17 2008-04-01\n",
       "18 2009-04-01\n",
       "19 2010-04-01\n",
       "20 2011-04-01\n",
       "21 2012-04-01\n",
       "22 2013-04-01\n",
       "23 2014-04-01\n",
       "24 2015-04-01\n",
       "25 2016-04-01\n",
       "26 2017-04-01\n",
       "27 2018-04-01\n",
       "28 2019-04-01\n",
       "29 2020-04-01\n",
       "30 2021-04-01"
      ]
     },
     "execution_count": 59,
     "metadata": {},
     "output_type": "execute_result"
    }
   ],
   "source": [
    "\n",
    "monSt = 4\n",
    "monEnd = 5\n",
    "monToPlot = 4   # Plotting Apr\n",
    "timeList = []\n",
    "for yr in range(yrStMswep,yrEndMswep+1): \n",
    "   \n",
    "    for mon in range(monToPlot,monToPlot+1): \n",
    "        _,num_days = calendar.monthrange(yr,mon)      \n",
    "        \n",
    "        for day in range(1, 2):            \n",
    "            hr = -3\n",
    "            \n",
    "            for hrCounter in range(1):           \n",
    "                hr = hr + 3\n",
    "                yMDH = datetime.datetime(yr,mon,day,hr)\n",
    "                timeList.append(yMDH)\n",
    "                \n",
    "timeListDf = pd.DataFrame(timeList)\n",
    "timeListDf.columns = ['t1']\n",
    "timeListDf\n"
   ]
  },
  {
   "cell_type": "code",
   "execution_count": 60,
   "metadata": {},
   "outputs": [
    {
     "name": "stdout",
     "output_type": "stream",
     "text": [
      "0     1991\n",
      "5     1996\n",
      "10    2001\n",
      "15    2006\n",
      "20    2011\n",
      "25    2016\n",
      "30    2021\n",
      "Name: t1, dtype: object\n"
     ]
    }
   ],
   "source": [
    "yMD = timeListDf['t1'].dt.strftime('%Y').sort_values()\n",
    "\n",
    "multiple = 5\n",
    "multiple = np.ceil(multiple)\n",
    "timeTickLebels = yMD[yMD.index % multiple == 0]\n",
    "print(timeTickLebels)\n",
    "timeTicks = yMD.index[yMD.index % multiple == 0]"
   ]
  },
  {
   "cell_type": "code",
   "execution_count": 61,
   "metadata": {},
   "outputs": [
    {
     "name": "stderr",
     "output_type": "stream",
     "text": [
      "<ipython-input-61-35f0cf4c3050>:8: UserWarning: FixedFormatter should only be used together with FixedLocator\n",
      "  plt.gca().xaxis.set_major_formatter(plt.FixedFormatter(yMD))\n",
      "<ipython-input-61-35f0cf4c3050>:24: UserWarning: FixedFormatter should only be used together with FixedLocator\n",
      "  plt.gca().xaxis.set_major_formatter(plt.FixedFormatter(yMD))\n"
     ]
    },
    {
     "data": {
      "text/plain": [
       "(-250.0, 250.0)"
      ]
     },
     "execution_count": 61,
     "metadata": {},
     "output_type": "execute_result"
    },
    {
     "data": {
      "image/png": "[encoded data removed]",
      "text/plain": [
       "<Figure size 504x504 with 2 Axes>"
      ]
     },
     "metadata": {
      "needs_background": "light"
     },
     "output_type": "display_data"
    }
   ],
   "source": [
    "import matplotlib.gridspec as gridspec\n",
    "fontSize = 14\n",
    "textFontVal = 15\n",
    "fig = plt.figure(figsize=(7, 7), )\n",
    "\n",
    "plt.subplot(211)\n",
    "plt.plot(tAxis, mswepDanAprMayTotYrs, label='', color='g')\n",
    "plt.gca().xaxis.set_major_formatter(plt.FixedFormatter(yMD))\n",
    "\n",
    "plt.gca().set_xticks(timeTicks)\n",
    "plt.gca().set_xticklabels('', minor=False)\n",
    "\n",
    "\n",
    "plt.title('April-May total')\n",
    "plt.xlabel('')\n",
    "\n",
    "plt.ylabel('Precipitation (mm)')\n",
    "plt.xlim([-1, nYrsMswep])\n",
    "plt.ylim([0,450])\n",
    "#+++++++++++++++++++++++++++++++++\n",
    "\n",
    "plt.subplot(212)\n",
    "plt.bar(tAxis,mswepDanAprMayTotYrsAnom, color='g')\n",
    "plt.gca().xaxis.set_major_formatter(plt.FixedFormatter(yMD))\n",
    "\n",
    "plt.gca().set_xticks(timeTicks)\n",
    "plt.gca().set_xticklabels(timeTickLebels, minor=False)\n",
    "\n",
    "plt.title('Anomaly')\n",
    "plt.xlabel('Time (year)')\n",
    "plt.ylabel('Precipitation (mm)')\n",
    "plt.xlim([-1, nYrsMswep])\n",
    "\n",
    "plt.ylim([-250, 250])\n",
    "\n"
   ]
  },
  {
   "cell_type": "code",
   "execution_count": null,
   "metadata": {},
   "outputs": [],
   "source": []
  },
  {
   "cell_type": "markdown",
   "metadata": {},
   "source": [
    "### JJAS total"
   ]
  },
  {
   "cell_type": "code",
   "execution_count": 62,
   "metadata": {},
   "outputs": [
    {
     "name": "stdout",
     "output_type": "stream",
     "text": [
      "(31, 5)\n",
      "(31,)\n"
     ]
    }
   ],
   "source": [
    "mswepDanJjasToSumYrs =mswepDanMonTotYrs[:, 5:10]\n",
    "print(mswepDanJjasToSumYrs.shape)\n",
    "\n",
    "mswepDanJjasTotYrs = np.nansum(mswepDanJjasToSumYrs, axis = 1)\n",
    "print(mswepDanJjasTotYrs.shape)"
   ]
  },
  {
   "cell_type": "code",
   "execution_count": 63,
   "metadata": {},
   "outputs": [
    {
     "name": "stdout",
     "output_type": "stream",
     "text": [
      "1351.4178427419354\n"
     ]
    }
   ],
   "source": [
    "mswepDanJjasTotYrsAvg = np.nansum(mswepDanJjasTotYrs)/nYrsMswep\n",
    "print(mswepDanJjasTotYrsAvg)"
   ]
  },
  {
   "cell_type": "code",
   "execution_count": 64,
   "metadata": {},
   "outputs": [
    {
     "name": "stdout",
     "output_type": "stream",
     "text": [
      "(31,)\n"
     ]
    }
   ],
   "source": [
    "mswepDanJjasTotYrsAnom = mswepDanJjasTotYrs - mswepDanJjasTotYrsAvg\n",
    "print(mswepDanJjasTotYrsAnom.shape)"
   ]
  },
  {
   "cell_type": "code",
   "execution_count": null,
   "metadata": {},
   "outputs": [],
   "source": []
  },
  {
   "cell_type": "markdown",
   "metadata": {},
   "source": [
    "## Panel Diagram"
   ]
  },
  {
   "cell_type": "code",
   "execution_count": 65,
   "metadata": {},
   "outputs": [
    {
     "name": "stderr",
     "output_type": "stream",
     "text": [
      "<ipython-input-65-375487e645ca>:9: UserWarning: FixedFormatter should only be used together with FixedLocator\n",
      "  plt.gca().xaxis.set_major_formatter(plt.FixedFormatter(yMD))\n",
      "<ipython-input-65-375487e645ca>:27: UserWarning: FixedFormatter should only be used together with FixedLocator\n",
      "  plt.gca().xaxis.set_major_formatter(plt.FixedFormatter(yMD))\n"
     ]
    },
    {
     "data": {
      "text/plain": [
       "(-250.0, 250.0)"
      ]
     },
     "execution_count": 65,
     "metadata": {},
     "output_type": "execute_result"
    },
    {
     "data": {
      "image/png": "[encoded data removed]",
      "text/plain": [
       "<Figure size 504x504 with 2 Axes>"
      ]
     },
     "metadata": {
      "needs_background": "light"
     },
     "output_type": "display_data"
    }
   ],
   "source": [
    "import matplotlib.gridspec as gridspec\n",
    "fontSize = 14\n",
    "textFontVal = 15\n",
    "fig = plt.figure(figsize=(7, 7), )\n",
    "\n",
    "plt.subplot(211)\n",
    "plt.plot(tAxis, mswepDanJjasTotYrs, label='', color='tab:blue')\n",
    "\n",
    "plt.gca().xaxis.set_major_formatter(plt.FixedFormatter(yMD))\n",
    "\n",
    "plt.gca().set_xticks(timeTicks)\n",
    "plt.gca().set_xticklabels('', minor=False)\n",
    "\n",
    "\n",
    "plt.title('JJAS total')\n",
    "plt.xlabel('')\n",
    "\n",
    "plt.ylabel('Precipitation (mm)')\n",
    "plt.xlim([-1, nYrsMswep])\n",
    "\n",
    "plt.ylim([1100, 1600])\n",
    "#+++++++++++++++++++++++++++++++++\n",
    "\n",
    "plt.subplot(212)\n",
    "plt.bar(tAxis,mswepDanJjasTotYrsAnom, color='tab:blue')\n",
    "\n",
    "plt.gca().xaxis.set_major_formatter(plt.FixedFormatter(yMD))\n",
    "\n",
    "plt.gca().set_xticks(timeTicks)\n",
    "plt.gca().set_xticklabels(timeTickLebels, minor=False)\n",
    "\n",
    "plt.title('Anomaly')\n",
    "plt.xlabel('Time (year)')\n",
    "plt.ylabel('Precipitation (mm)')\n",
    "plt.xlim([-1, nYrsMswep])\n",
    "plt.ylim([-250, 250])\n"
   ]
  },
  {
   "cell_type": "code",
   "execution_count": null,
   "metadata": {},
   "outputs": [],
   "source": []
  },
  {
   "cell_type": "code",
   "execution_count": null,
   "metadata": {},
   "outputs": [],
   "source": []
  },
  {
   "cell_type": "code",
   "execution_count": 66,
   "metadata": {},
   "outputs": [
    {
     "ename": "SyntaxError",
     "evalue": "invalid syntax (<ipython-input-66-2b59018e1e2e>, line 1)",
     "output_type": "error",
     "traceback": [
      "\u001b[1;36m  File \u001b[1;32m\"<ipython-input-66-2b59018e1e2e>\"\u001b[1;36m, line \u001b[1;32m1\u001b[0m\n\u001b[1;33m    STOP here ====================================\u001b[0m\n\u001b[1;37m         ^\u001b[0m\n\u001b[1;31mSyntaxError\u001b[0m\u001b[1;31m:\u001b[0m invalid syntax\n"
     ]
    }
   ],
   "source": [
    "STOP here ===================================="
   ]
  },
  {
   "cell_type": "code",
   "execution_count": null,
   "metadata": {},
   "outputs": [],
   "source": []
  }
 ],
 "metadata": {
  "kernelspec": {
   "display_name": "Python 3",
   "language": "python",
   "name": "python3"
  },
  "language_info": {
   "codemirror_mode": {
    "name": "ipython",
    "version": 3
   },
   "file_extension": ".py",
   "mimetype": "text/x-python",
   "name": "python",
   "nbconvert_exporter": "python",
   "pygments_lexer": "ipython3",
   "version": "3.8.5"
  }
 },
 "nbformat": 4,
 "nbformat_minor": 4
}
